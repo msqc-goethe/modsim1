{
 "cells": [
  {
   "cell_type": "markdown",
   "metadata": {},
   "source": [
    "\n",
    "Online-Kurs zu Modellierung und Simulation, Goethe-Universität-Frankfurt | [Startseite](../../index.ipynb)\n",
    "\n",
    "---\n"
   ]
  },
  {
   "cell_type": "markdown",
   "metadata": {},
   "source": [
    "# Numerische Lösung des SIR-Modells\n",
    "[vgl. Allgemeinwissen in der Wikipedia](https://de.wikipedia.org/wiki/SIR-Modell)\n"
   ]
  },
  {
   "cell_type": "markdown",
   "metadata": {},
   "source": [
    "Betrachte Populationen von nicht-immunen Gesunden $S$ (engl: susceptible), Infizierten $I$ und Genesenen $R$ (engl. recovered). Es sei $N:=S+I+R$ die Gesamtzahl der Individueen. Modellieren nun:\n",
    "\\begin{align}\n",
    "\\dot{S} & = &-\\beta*\\frac{I}{N} S&  \\\\\n",
    "\\dot{I} & = &\\beta*\\frac{I}{N} S &- \\gamma I  \\\\\n",
    "\\dot{R} & = & &  + \\gamma I  \\\\\n",
    "\\end{align}\n",
    "mit Infektionsrate $\\beta>0$ und Genesungsrate $\\gamma>0$. In diesem Modell versterben keine Individuen, also $N:=S(t)+I(t)+R(t) = const$."
   ]
  },
  {
   "cell_type": "code",
   "execution_count": 1,
   "metadata": {},
   "outputs": [],
   "source": [
    "global N = 1000;\n",
    "global beta = 0.5 # Kontaktreduktion: 0.12, 0.012\n",
    "global gamma = 0.04"
   ]
  },
  {
   "cell_type": "markdown",
   "metadata": {},
   "source": [
    "Die (individuelle) Infektionsrate ist\n",
    "$$\\lambda= \\beta\\frac{I}{N}$$\n",
    "\n",
    "Die Basisreproduktionszahl ist $r_0:=\\frac{\\beta}{\\gamma}$:"
   ]
  },
  {
   "cell_type": "code",
   "execution_count": 2,
   "metadata": {},
   "outputs": [
    {
     "name": "stdout",
     "output_type": "stream",
     "text": [
      "r0 = 12.500\r\n"
     ]
    }
   ],
   "source": [
    "r0 = beta/gamma"
   ]
  },
  {
   "cell_type": "markdown",
   "metadata": {},
   "source": [
    "Zunächst wollen wir die rechte Seite der Differentialgleichung definieren:"
   ]
  },
  {
   "cell_type": "code",
   "execution_count": 3,
   "metadata": {},
   "outputs": [],
   "source": [
    "function udot=rhs_SIR(u, t)\n",
    "   \n",
    "    global N\n",
    "    global beta\n",
    "    global gamma\n",
    "    \n",
    "    S = u(1);\n",
    "    I = u(2);\n",
    "    R = u(3); \n",
    "    \n",
    "    udot = zeros(3,1);   \n",
    "    \n",
    "    udot(1) = -beta/N*S*I;\n",
    "    udot(2) =  beta/N*S*I - gamma *I;\n",
    "    udot(3) =               gamma *I;\n",
    "endfunction"
   ]
  },
  {
   "cell_type": "markdown",
   "metadata": {},
   "source": [
    "## Lösen der DGL\n",
    "Ein Anfangswert $u_0:=(S_0, I_0, R_0)^T$ sei gegeben."
   ]
  },
  {
   "cell_type": "code",
   "execution_count": 4,
   "metadata": {},
   "outputs": [
    {
     "name": "stdout",
     "output_type": "stream",
     "text": [
      "u0 =\r\n",
      "\r\n",
      "   997     3     0\r\n",
      "\r\n"
     ]
    }
   ],
   "source": [
    "u0 = [N-3, 3, 0]"
   ]
  },
  {
   "cell_type": "markdown",
   "metadata": {},
   "source": [
    "Definiere mittels `linspace` einen Vektor \"times\" mit 500 äquidistant verteilten Punkten im Intervall [0,100]. "
   ]
  },
  {
   "cell_type": "code",
   "execution_count": 5,
   "metadata": {},
   "outputs": [],
   "source": [
    "times = linspace(0.0, 100.0, 500);"
   ]
  },
  {
   "cell_type": "markdown",
   "metadata": {},
   "source": [
    "Lösen der DGL mit `lsode`."
   ]
  },
  {
   "cell_type": "code",
   "execution_count": 6,
   "metadata": {},
   "outputs": [],
   "source": [
    "numsol  = lsode (@(y,t) rhs_SIR(y,t), u0, times);"
   ]
  },
  {
   "cell_type": "markdown",
   "metadata": {},
   "source": [
    "## Erzeuge Plots"
   ]
  },
  {
   "cell_type": "code",
   "execution_count": 7,
   "metadata": {},
   "outputs": [
    {
     "name": "stdout",
     "output_type": "stream",
     "text": [
      "r0 = 12.500\r\n"
     ]
    },
    {
     "data": {
      "image/png": "[encoded data removed]",
      "text/plain": [
       "<IPython.core.display.Image object>"
      ]
     },
     "metadata": {},
     "output_type": "display_data"
    }
   ],
   "source": [
    "hold on   % \n",
    "xlabel('Zeit t')\n",
    "ylabel('Population')\n",
    "plot(times, numsol(:,1), 'color', 'black')\n",
    "plot(times, numsol(:,2), 'color', 'red')\n",
    "plot(times, numsol(:,3), 'color', 'green')\n",
    "r0"
   ]
  },
  {
   "cell_type": "code",
   "execution_count": null,
   "metadata": {},
   "outputs": [],
   "source": []
  },
  {
   "cell_type": "code",
   "execution_count": null,
   "metadata": {},
   "outputs": [],
   "source": []
  },
  {
   "cell_type": "code",
   "execution_count": null,
   "metadata": {},
   "outputs": [],
   "source": []
  },
  {
   "cell_type": "code",
   "execution_count": null,
   "metadata": {},
   "outputs": [],
   "source": []
  }
 ],
 "metadata": {
  "kernelspec": {
   "display_name": "Octave",
   "language": "octave",
   "name": "octave"
  },
  "language_info": {
   "file_extension": ".m",
   "help_links": [
    {
     "text": "GNU Octave",
     "url": "https://www.gnu.org/software/octave/support.html"
    },
    {
     "text": "Octave Kernel",
     "url": "https://github.com/Calysto/octave_kernel"
    },
    {
     "text": "MetaKernel Magics",
     "url": "https://metakernel.readthedocs.io/en/latest/source/README.html"
    }
   ],
   "mimetype": "text/x-octave",
   "name": "octave",
   "version": "6.1.0"
  }
 },
 "nbformat": 4,
 "nbformat_minor": 2
}
