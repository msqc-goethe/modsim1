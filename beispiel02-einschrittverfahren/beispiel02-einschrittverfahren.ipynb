{
 "cells": [
  {
   "cell_type": "markdown",
   "metadata": {},
   "source": [
    "Online-Kurs zu Modellierung und Simulation, Goethe-Universität-Frankfurt | [Startseite](index.ipynb)\n",
    "\n",
    "---"
   ]
  },
  {
   "cell_type": "markdown",
   "metadata": {},
   "source": [
    "# Implementierung von Einschrittverfahren\n",
    "\n",
    "## Einführung\n",
    "Die Lösung des Anfangswertproblems\n",
    "$$\n",
    " \\dot{u}(t)=\\cos(\\frac{5}{3}t+1)+\\frac{1}{2}u(t)+\\frac{1}{2},\\quad x(0)=-1/2\n",
    "$$\n",
    "soll mit numerischen Methoden bestimmt werden. Die rechte Seite der DGL sowie den Anfangwert definieren wir hier:"
   ]
  },
  {
   "cell_type": "code",
   "execution_count": 5,
   "metadata": {},
   "outputs": [],
   "source": [
    "function udot=myrhs(u, t)  \n",
    "  udot = cos(5/3*t+1) +0.5 * u + 0.5;\n",
    "endfunction"
   ]
  },
  {
   "cell_type": "code",
   "execution_count": 6,
   "metadata": {},
   "outputs": [],
   "source": [
    "u0 = [-0.5];"
   ]
  },
  {
   "cell_type": "markdown",
   "metadata": {},
   "source": [
    "Nun soll die Lösung des Anfangswertproblems dargestellt werden. Dazuz benutzen wir ´´lsode'"
   ]
  },
  {
   "cell_type": "code",
   "execution_count": 7,
   "metadata": {},
   "outputs": [
    {
     "data": {
      "image/png": "[encoded data removed]",
      "text/plain": [
       "<IPython.core.display.Image object>"
      ]
     },
     "metadata": {},
     "output_type": "display_data"
    }
   ],
   "source": [
    "% plot gnuplot\n",
    "% addpath(\"../../basics\")\n",
    "\n",
    "% Berechne Referenzloesung (mit lsode)\n",
    "tref = linspace(0.0, 5.0, 50);\n",
    "uref = lsode(@myrhs, u0, tref);\n",
    "\n",
    "% Darstellung des Richtungsfeld (25x25)\n",
    "newplot()\n",
    "hold on\n",
    "\n",
    "title(\"Numerische Loesung von \\dot u = f(u,t)\")\n",
    "xlabel(\"t\")\n",
    "ylabel(\"u(t)\")\n",
    "grid on\n",
    "\n",
    "plot(tref, uref(:,1), 'color', 'red')\n",
    "plot_richtungsfeld_1d(@myrhs, (t=linspace(0, 5, 25)), u=linspace(-3, 3, 25))"
   ]
  },
  {
   "cell_type": "markdown",
   "metadata": {},
   "source": [
    "## Definition der Einschrittverfahren\n",
    "Hier beginnt jetzt für Sie die Arbeit. Bitte implementieren Sie die nachfolgenden Funktionen:"
   ]
  },
  {
   "cell_type": "code",
   "execution_count": 7,
   "metadata": {},
   "outputs": [],
   "source": [
    "%% Das explizite Eulerverfahren ist bereits vorgegeben ;-). \n",
    "function ueulerT=euler_explicit(f, u0, tvec)\n",
    "    \n",
    "    % Initialisierung.\n",
    "    ueulerT=zeros(length(tvec), size(u0));\n",
    "    ueulerT(1,:) = u0';\n",
    "    \n",
    "    % Zeitschritte. \n",
    "    for i=2:length(tvec)\n",
    "    \n",
    "        # Zeitschrittweite.\n",
    "        tau = tvec(i) - tvec(i-1);\n",
    "        \n",
    "        % Letzter Zeitpunkt und Wert.\n",
    "        tlast = tvec(i-1);\n",
    "        ulast = ueulerT(i-1,:)(:); % Spaltenvektor\n",
    "        \n",
    "        % Wert im naechsten Zeitpunkt.\n",
    "        ueulerT(i,:) = ulast + tau*f(ulast, tlast);\n",
    "    end\n",
    "endfunction"
   ]
  },
  {
   "cell_type": "code",
   "execution_count": 20,
   "metadata": {},
   "outputs": [],
   "source": [
    "%% TODO: Die nachfolgenden Verfahren sind zu implementieren. Bitte fuegen Sie hier eigenen Code ein.\n",
    "\n",
    "% Heun-Verfahren (explizit)\n",
    "function uheunT=heun_explicit(f, u0, tvec)\n",
    "    \n",
    "    % Initialisierung.\n",
    "    uheunT=zeros(length(tvec), size(u0));\n",
    "    uheunT(1,:) = u0';\n",
    "    \n",
    "    % Zeitschritte. \n",
    "    for i=2:length(tvec)\n",
    "       % TODO: ...\n",
    "    end\n",
    "endfunction\n",
    "\n",
    "% Runge-Kutta 4 (explizit)\n",
    "function urk4T=rk4_explicit(f, u0, tvec)\n",
    "     % TODO: ...\n",
    "endfunction\n",
    "\n",
    "\n",
    "% Euler (implizit). \n",
    "function ueulerT=euler_implicit(f, u0, tvec)\n",
    "     % TODO: ...\n",
    "     % ACHTUNG: Diese Funktion ist schwierig, da ein Gleichungssystem geloest werden muss. \n",
    "     % Verwenden Sie hierzu z.B. die Funktion \"fsolve\" (s. help fsolve). Diese findet Nullstellen einer gegebenen Funktion.\n",
    "     % Um \"fsolve\" zu verwenden, muessen Sie daher ggf. innerhalb von \"euler_implicit\" eine weitere Funktion mit der Defektgleichung implementieren.\n",
    "endfunction\n"
   ]
  },
  {
   "cell_type": "markdown",
   "metadata": {},
   "source": [
    "## Test 1: Sind die Funktionen vorhanden?\n",
    "Ja, klar!"
   ]
  },
  {
   "cell_type": "code",
   "execution_count": 4,
   "metadata": {},
   "outputs": [
    {
     "name": "stdout",
     "output_type": "stream",
     "text": [
      "ans =  2\n",
      "ans =  2\n",
      "ans =  2\n",
      "ans =  2\n"
     ]
    }
   ],
   "source": [
    "% addpath(\"../../basics\")\n",
    "\n",
    "exist(\"euler_explicit\")\n",
    "exist(\"euler_implicit\")\n",
    "exist(\"heun_explicit\")\n",
    "exist(\"rk4_explicit\")"
   ]
  },
  {
   "cell_type": "markdown",
   "metadata": {},
   "source": [
    "## Test 2: Erzeuge numerische Lösungen"
   ]
  },
  {
   "cell_type": "code",
   "execution_count": 5,
   "metadata": {},
   "outputs": [
    {
     "name": "stdout",
     "output_type": "stream",
     "text": [
      "NSteps =  5\n",
      "tdiskret =\n",
      "\n",
      "   0   1   2   3   4   5\n",
      "\n"
     ]
    }
   ],
   "source": [
    "% A) Numerische Loesungen \n",
    "NSteps  = 5\n",
    "tdiskret = linspace(0.0, 5.0, NSteps + 1)"
   ]
  },
  {
   "cell_type": "markdown",
   "metadata": {
    "scrolled": true
   },
   "source": [
    "### a) Expliziter Euler"
   ]
  },
  {
   "cell_type": "code",
   "execution_count": 6,
   "metadata": {},
   "outputs": [],
   "source": [
    "# TODO: Entfernen Sie das Semikolon, um Ausgaben sichtbar zu machen.\n",
    "yeuler = euler_explicit(@myrhs, u0, tdiskret);"
   ]
  },
  {
   "cell_type": "markdown",
   "metadata": {},
   "source": [
    "### b) Impliziter Euler"
   ]
  },
  {
   "cell_type": "code",
   "execution_count": 7,
   "metadata": {},
   "outputs": [],
   "source": [
    "# TODO: Entfernen Sie das Semikolon, um Ausgaben sichtbar zu machen.\n",
    "yeuler2 = euler_implicit(@myrhs, u0, tdiskret);"
   ]
  },
  {
   "cell_type": "markdown",
   "metadata": {},
   "source": [
    "### c) Heun"
   ]
  },
  {
   "cell_type": "code",
   "execution_count": 8,
   "metadata": {},
   "outputs": [],
   "source": [
    "# TODO: Entfernen Sie das Semikolon, um Ausgaben sichtbar zu machen.\n",
    "yheun = heun_explicit(@myrhs, u0, tdiskret);"
   ]
  },
  {
   "cell_type": "markdown",
   "metadata": {},
   "source": [
    "### d) RK4 explizit"
   ]
  },
  {
   "cell_type": "code",
   "execution_count": 9,
   "metadata": {},
   "outputs": [],
   "source": [
    "# TODO: Entfernen Sie das Semikolon, um Ausgaben sichtbar zu machen.\n",
    "yrk4 = rk4_explicit(@myrhs, u0, tdiskret);"
   ]
  },
  {
   "cell_type": "markdown",
   "metadata": {},
   "source": [
    "## Test 3: Gemeinsamer Plot aller Lösungen"
   ]
  },
  {
   "cell_type": "code",
   "execution_count": 10,
   "metadata": {},
   "outputs": [
    {
     "data": {
      "image/png": "[encoded data removed]",
      "text/plain": [
       "<IPython.core.display.Image object>"
      ]
     },
     "metadata": {},
     "output_type": "display_data"
    }
   ],
   "source": [
    "%plot inline\n",
    "% Plot von Richtungsfeld und Referenzlösung\n",
    "newplot()\n",
    "hold on\n",
    "xlabel('t')\n",
    "ylabel('u(t)')\n",
    "grid on\n",
    "plot_richtungsfeld_1d(@myrhs, (t=linspace(0, 5, 25)), u=linspace(-3, 3, 31))\n",
    "plot(tref, uref(:,1), 'color', 'black')\n",
    "\n",
    "% Eigene Loesungen \n",
    "% TODO: Bitte ggf. ein-/auskommentieren!\n",
    "plot(tdiskret, yeuler(:,1), 'color', 'blue')\n",
    "plot(tdiskret(1:3), yeuler2(1:3,1), 'color', 'cyan')\n",
    "plot(tdiskret, yheun(:,1), 'color', 'green')\n",
    "plot(tdiskret, yrk4, 'color', 'red')\n"
   ]
  },
  {
   "cell_type": "code",
   "execution_count": 11,
   "metadata": {},
   "outputs": [
    {
     "name": "stdout",
     "output_type": "stream",
     "text": [
      "'fsolve' is a function from the file /opt/local/share/octave/5.1.0/m/optimization/fsolve.m\r\n",
      "\r\n",
      " -- fsolve (FCN, X0)\r\n",
      " -- fsolve (FCN, X0, OPTIONS)\r\n",
      " -- [X, FVAL, INFO, OUTPUT, FJAC] = fsolve (...)\r\n",
      "     Solve a system of nonlinear equations defined by the function FCN.\r\n",
      "\r\n",
      "     FCN should accept a vector (array) defining the unknown variables,\r\n",
      "     and return a vector of left-hand sides of the equations.\r\n",
      "     Right-hand sides are defined to be zeros.  In other words, this\r\n",
      "     function attempts to determine a vector X such that 'FCN (X)' gives\r\n",
      "     (approximately) all zeros.\r\n",
      "\r\n",
      "     X0 is an initial guess for the solution.  The shape of X0 is\r\n",
      "     preserved in all calls to FCN, but otherwise is treated as a column\r\n",
      "     vector.\r\n",
      "\r\n",
      "     OPTIONS is a structure specifying additional parameters which\r\n",
      "     control the algorithm.  Currently, 'fsolve' recognizes these\r\n",
      "     options: \"AutoScaling\", \"ComplexEqn\", \"FinDiffType\", \"FunValCheck\",\r\n",
      "     \"Jacobian\", \"MaxFunEvals\", \"MaxIter\", \"OutputFcn\", \"TolFun\",\r\n",
      "     \"TolX\", \"TypicalX\", and \"Updating\".\r\n",
      "\r\n",
      "     If \"AutoScaling\" is \"on\", the variables will be automatically\r\n",
      "     scaled according to the column norms of the (estimated) Jacobian.\r\n",
      "     As a result, \"TolFun\" becomes scaling-independent.  By default,\r\n",
      "     this option is \"off\" because it may sometimes deliver unexpected\r\n",
      "     (though mathematically correct) results.\r\n",
      "\r\n",
      "     If \"ComplexEqn\" is \"on\", 'fsolve' will attempt to solve complex\r\n",
      "     equations in complex variables, assuming that the equations possess\r\n",
      "     a complex derivative (i.e., are holomorphic).  If this is not what\r\n",
      "     you want, you should unpack the real and imaginary parts of the\r\n",
      "     system to get a real system.\r\n",
      "\r\n",
      "     If \"Jacobian\" is \"on\", it specifies that FCN--when called with 2\r\n",
      "     output arguments--also returns the Jacobian matrix of right-hand\r\n",
      "     sides at the requested point.\r\n",
      "\r\n",
      "     \"MaxFunEvals\" proscribes the maximum number of function evaluations\r\n",
      "     before optimization is halted.  The default value is '100 *\r\n",
      "     number_of_variables', i.e., '100 * length (X0)'.  The value must be\r\n",
      "     a positive integer.\r\n",
      "\r\n",
      "     If \"Updating\" is \"on\", the function will attempt to use Broyden\r\n",
      "     updates to update the Jacobian, in order to reduce the number of\r\n",
      "     Jacobian calculations.  If your user function always calculates the\r\n",
      "     Jacobian (regardless of number of output arguments) then this\r\n",
      "     option provides no advantage and should be disabled.\r\n",
      "\r\n",
      "     \"TolX\" specifies the termination tolerance in the unknown\r\n",
      "     variables, while \"TolFun\" is a tolerance for equations.  Default is\r\n",
      "     '1e-6' for both \"TolX\" and \"TolFun\".\r\n",
      "\r\n",
      "     For a description of the other options, see 'optimset'.  To\r\n",
      "     initialize an options structure with default values for 'fsolve'\r\n",
      "     use 'options = optimset (\"fsolve\")'.\r\n",
      "\r\n",
      "     The first output X is the solution while the second output FVAL\r\n",
      "     contains the value of the function FCN evaluated at X (ideally a\r\n",
      "     vector of all zeros).\r\n",
      "\r\n",
      "     The third output INFO reports whether the algorithm succeeded and\r\n",
      "     may take one of the following values:\r\n",
      "\r\n",
      "     1\r\n",
      "          Converged to a solution point.  Relative residual error is\r\n",
      "          less than specified by 'TolFun'.\r\n",
      "\r\n",
      "     2\r\n",
      "          Last relative step size was less than 'TolX'.\r\n",
      "\r\n",
      "     3\r\n",
      "          Last relative decrease in residual was less than 'TolFun'.\r\n",
      "\r\n",
      "     0\r\n",
      "          Iteration limit (either 'MaxIter' or 'MaxFunEvals') exceeded.\r\n",
      "\r\n",
      "     -1\r\n",
      "          Stopped by 'OutputFcn'.\r\n",
      "\r\n",
      "     -3\r\n",
      "          The trust region radius became excessively small.\r\n",
      "\r\n",
      "     OUTPUT is a structure containing runtime information about the\r\n",
      "     'fsolve' algorithm.  Fields in the structure are:\r\n",
      "\r\n",
      "     'iterations'\r\n",
      "          Number of iterations through loop.\r\n",
      "\r\n",
      "     'successful'\r\n",
      "          Number of successful iterations.\r\n",
      "\r\n",
      "     'funcCount'\r\n",
      "          Number of function evaluations.\r\n",
      "\r\n",
      "     The final output FJAC contains the value of the Jacobian evaluated\r\n",
      "     at X.\r\n",
      "\r\n",
      "     Note: If you only have a single nonlinear equation of one variable,\r\n",
      "     using 'fzero' is usually a much better idea.\r\n",
      "\r\n",
      "     Note about user-supplied Jacobians: As an inherent property of the\r\n",
      "     algorithm, a Jacobian is always requested for a solution vector\r\n",
      "     whose residual vector is already known, and it is the last accepted\r\n",
      "     successful step.  Often this will be one of the last two calls, but\r\n",
      "     not always.  If the savings by reusing intermediate results from\r\n",
      "     residual calculation in Jacobian calculation are significant, the\r\n",
      "     best strategy is to employ 'OutputFcn': After a vector is evaluated\r\n",
      "     for residuals, if 'OutputFcn' is called with that vector, then the\r\n",
      "     intermediate results should be saved for future Jacobian\r\n",
      "     evaluation, and should be kept until a Jacobian evaluation is\r\n",
      "     requested or until 'OutputFcn' is called with a different vector,\r\n",
      "     in which case they should be dropped in favor of this most recent\r\n",
      "     vector.  A short example how this can be achieved follows:\r\n",
      "\r\n",
      "          function [fval, fjac] = user_func (x, optimvalues, state)\r\n",
      "          persistent sav = [], sav0 = [];\r\n",
      "          if (nargin == 1)\r\n",
      "            ## evaluation call\r\n",
      "            if (nargout == 1)\r\n",
      "              sav0.x = x; # mark saved vector\r\n",
      "              ## calculate fval, save results to sav0.\r\n",
      "            elseif (nargout == 2)\r\n",
      "              ## calculate fjac using sav.\r\n",
      "            endif\r\n",
      "          else\r\n",
      "            ## outputfcn call.\r\n",
      "            if (all (x == sav0.x))\r\n",
      "              sav = sav0;\r\n",
      "            endif\r\n",
      "            ## maybe output iteration status, etc.\r\n",
      "          endif\r\n",
      "          endfunction\r\n",
      "\r\n",
      "          ## ...\r\n",
      "\r\n",
      "          fsolve (@user_func, x0, optimset (\"OutputFcn\", @user_func, ...))\r\n",
      "\r\n",
      "     See also: fzero, optimset.\r\n",
      "\r\n",
      "Additional help for built-in functions and operators is\r\n",
      "available in the online version of the manual.  Use the command\r\n",
      "'doc <topic>' to search the manual index.\r\n",
      "\r\n",
      "Help and information about Octave is also available on the WWW\r\n",
      "at https://www.octave.org and via the help@octave.org\r\n",
      "mailing list.\r\n"
     ]
    }
   ],
   "source": [
    "help fsolve"
   ]
  },
  {
   "cell_type": "code",
   "execution_count": null,
   "metadata": {},
   "outputs": [],
   "source": []
  }
 ],
 "metadata": {
  "kernelspec": {
   "display_name": "Octave",
   "language": "octave",
   "name": "octave"
  },
  "language_info": {
   "file_extension": ".m",
   "help_links": [
    {
     "text": "GNU Octave",
     "url": "https://www.gnu.org/software/octave/support.html"
    },
    {
     "text": "Octave Kernel",
     "url": "https://github.com/Calysto/octave_kernel"
    },
    {
     "text": "MetaKernel Magics",
     "url": "https://metakernel.readthedocs.io/en/latest/source/README.html"
    }
   ],
   "mimetype": "text/x-octave",
   "name": "octave",
   "version": "5.2.0"
  }
 },
 "nbformat": 4,
 "nbformat_minor": 2
}
