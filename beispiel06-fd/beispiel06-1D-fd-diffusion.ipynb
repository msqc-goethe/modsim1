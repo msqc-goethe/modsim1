{
 "cells": [
  {
   "cell_type": "markdown",
   "metadata": {},
   "source": [
    "# Programmbeispiel: Finite Differenzen (1D)\n",
    "\n",
    "In diesem Beispiel lösen wir das Problem\n",
    "$$\n",
    "-u''(x) = f(x), x \\in (a,b)\n",
    "$$\n",
    "mit Randwerten $u(a) = u_a, u(b) = u_b$. \n",
    "\n",
    "\n",
    "Damit wir konkret arbeiten können, wählen wir das Einheitsintervall $a=0, b=1$ und betrachten die rechte Seite $f(x) = \\pi^2 \\sin \\pi x$. Hierfür ergibt sich die Lösung \n",
    "$$ u(x) = \\sin \\pi x\n",
    "$$"
   ]
  },
  {
   "cell_type": "code",
   "execution_count": 1,
   "metadata": {},
   "outputs": [],
   "source": [
    "%plot -f svg"
   ]
  },
  {
   "cell_type": "code",
   "execution_count": 2,
   "metadata": {},
   "outputs": [
    {
     "name": "stdout",
     "output_type": "stream",
     "text": [
      "xa = 0\n",
      "xb = 1\n",
      "ua = 0\n",
      "ub = 0\n",
      "NumCells = 8\n",
      "NumPoints = 9\n",
      "h = 0.1250\n",
      "x =\n",
      "\n",
      " Columns 1 through 8:\n",
      "\n",
      "        0   0.1250   0.2500   0.3750   0.5000   0.6250   0.7500   0.8750\n",
      "\n",
      " Column 9:\n",
      "\n",
      "   1.0000\n",
      "\n"
     ]
    }
   ],
   "source": [
    "xa = 0.0\n",
    "xb = 1.0\n",
    "\n",
    "ua= 0.0\n",
    "ub= 0.0\n",
    "\n",
    "NumCells = 8\n",
    "NumPoints = NumCells +1\n",
    "\n",
    "# Gitterweite\n",
    "h = (xb-xa)/NumCells\n",
    "\n",
    "# Koordinaten\n",
    "x = linspace(xa, xb, NumPoints)"
   ]
  },
  {
   "cell_type": "code",
   "execution_count": 3,
   "metadata": {},
   "outputs": [
    {
     "name": "stdout",
     "output_type": "stream",
     "text": [
      "f =\n",
      "\n",
      "@(x) (pi * pi) * sin (pi * x)\n",
      "\n",
      "mysolution =\n",
      "\n",
      "@(x) sin (pi * x)\n",
      "\n"
     ]
    }
   ],
   "source": [
    "f=@(x) (pi*pi)*sin(pi*x)\n",
    "mysolution = @(x) sin(pi*x)"
   ]
  },
  {
   "cell_type": "markdown",
   "metadata": {},
   "source": [
    "## a) Schritt für Schritt zum LGS\n",
    "Zunächst initialisieren wir für **innere Knoten** die Matrix und rechte Seite mit\n",
    "$$\n",
    "(-u_{i-1} + 2 u_i - u_{i+1}) = h^2 f_i\n",
    "$$"
   ]
  },
  {
   "cell_type": "code",
   "execution_count": 4,
   "metadata": {},
   "outputs": [
    {
     "name": "stdout",
     "output_type": "stream",
     "text": [
      "A =\n",
      "\n",
      "   2  -1   0   0   0   0   0   0   0\n",
      "  -1   2  -1   0   0   0   0   0   0\n",
      "   0  -1   2  -1   0   0   0   0   0\n",
      "   0   0  -1   2  -1   0   0   0   0\n",
      "   0   0   0  -1   2  -1   0   0   0\n",
      "   0   0   0   0  -1   2  -1   0   0\n",
      "   0   0   0   0   0  -1   2  -1   0\n",
      "   0   0   0   0   0   0  -1   2  -1\n",
      "   0   0   0   0   0   0   0  -1   2\n",
      "\n",
      "b =\n",
      "\n",
      "        0\n",
      "   0.0590\n",
      "   0.1090\n",
      "   0.1425\n",
      "   0.1542\n",
      "   0.1425\n",
      "   0.1090\n",
      "   0.0590\n",
      "   0.0000\n",
      "\n"
     ]
    }
   ],
   "source": [
    "\n",
    "function A=init_matrix(NumPoints)\n",
    "A=zeros(NumPoints,NumPoints);\n",
    "\n",
    "for i=1:NumPoints\n",
    "\n",
    "    if (i>1) A(i,i-1) = -1; end\n",
    "    A(i,i) = 2;\n",
    "    if (i<NumPoints) A(i,i+1) = -1; end\n",
    "    \n",
    "endfor\n",
    "\n",
    "endfunction\n",
    "A =init_matrix(NumPoints)\n",
    "b = (h*h)*f(x')"
   ]
  },
  {
   "cell_type": "markdown",
   "metadata": {},
   "source": [
    "An den Stellen, an denen **Dirichlet-Randwerte** vorliegen, wird in der Matrix eine Einheitszeile gesetzt und die rechte Seite angepasst:"
   ]
  },
  {
   "cell_type": "code",
   "execution_count": 5,
   "metadata": {},
   "outputs": [
    {
     "name": "stdout",
     "output_type": "stream",
     "text": [
      "A =\r\n",
      "\r\n",
      "   1   0   0   0   0   0   0   0   0\r\n",
      "  -1   2  -1   0   0   0   0   0   0\r\n",
      "   0  -1   2  -1   0   0   0   0   0\r\n",
      "   0   0  -1   2  -1   0   0   0   0\r\n",
      "   0   0   0  -1   2  -1   0   0   0\r\n",
      "   0   0   0   0  -1   2  -1   0   0\r\n",
      "   0   0   0   0   0  -1   2  -1   0\r\n",
      "   0   0   0   0   0   0  -1   2  -1\r\n",
      "   0   0   0   0   0   0   0   0   1\r\n",
      "\r\n",
      "b =\r\n",
      "\r\n",
      "        0\r\n",
      "   0.0590\r\n",
      "   0.1090\r\n",
      "   0.1425\r\n",
      "   0.1542\r\n",
      "   0.1425\r\n",
      "   0.1090\r\n",
      "   0.0590\r\n",
      "        0\r\n",
      "\r\n"
     ]
    }
   ],
   "source": [
    "function [A,b] = set_dirichlet(i, ui, A, b)\n",
    "    b(i) = ui;\n",
    "    A(i,:) = 0;\n",
    "    A(i,i) = 1;\n",
    "endfunction\n",
    "\n",
    "[A,b] = set_dirichlet(1, ua, A, b);\n",
    "[A,b] = set_dirichlet(NumPoints, ub, A, b)"
   ]
  },
  {
   "cell_type": "code",
   "execution_count": null,
   "metadata": {},
   "outputs": [],
   "source": []
  },
  {
   "cell_type": "markdown",
   "metadata": {},
   "source": [
    "**Neumann-Randbedingungen** \n",
    "Gegeben sei die Neumann-Bedingung am linken Rand:\n",
    "$$\n",
    "\\frac{\\partial u}{\\partial n} = - u'(x_0) = -g\n",
    "$$\n",
    "\n",
    "\n",
    "In der Gleichung\n",
    "$$\n",
    "\\frac{u_0-2u_1 + u_2}{h^2} = f_1 $$\n",
    "eliminiert man den (Ghost-)Wert $u_0$ mittels\n",
    "\n",
    "$$\n",
    "\\frac{u_2-u_0}{2h} = -g \\Leftrightarrow  u_0 = u_2 + 2gh\n",
    "$$\n",
    "und erhält \n",
    "$$\\frac{u_2- u_1}{h} =  \\frac{h}{2}f_1 - g $$\n",
    "bzw.\n",
    "$$ (u_2- u_1) =  \\frac{h^2}{2}f_1 - g h $$\n",
    "Aus Symmetriegründen gilt die Updateformel auch am rechten Rand, wobei das Vorzeichen des Normalenvektors zu beachten ist."
   ]
  },
  {
   "cell_type": "code",
   "execution_count": 6,
   "metadata": {},
   "outputs": [],
   "source": [
    "function [A,b] = add_neumann(i, ghi, A, b)\n",
    "    A(i,i) += -1.0;\n",
    "    b(i) *=0.5;\n",
    "    b(i) += ghi;\n",
    "endfunction\n",
    "\n",
    "% [A,b] = add_neumann(1, -h*1.0, A, b);"
   ]
  },
  {
   "cell_type": "markdown",
   "metadata": {},
   "source": [
    "Die numerische Lösung kann nun über ein lineares Gleichungssystem bestimmt werden:"
   ]
  },
  {
   "cell_type": "code",
   "execution_count": 7,
   "metadata": {},
   "outputs": [],
   "source": [
    "u = linsolve(A,b);"
   ]
  },
  {
   "cell_type": "markdown",
   "metadata": {},
   "source": [
    "Wir wollen numerische und analytische Lösung gegenüberstellen:"
   ]
  },
  {
   "cell_type": "code",
   "execution_count": 8,
   "metadata": {},
   "outputs": [
    {
     "data": {
      "image/svg+xml": [
       "<svg xmlns=\"http://www.w3.org/2000/svg\" xmlns:xlink=\"http://www.w3.org/1999/xlink\" width=\"560px\" height=\"420px\" viewBox=\"0 0 560 420\">\n",
       "\n",
       "<title>Gnuplot</title>\n",
       "<desc>Produced by GNUPLOT 5.4 patchlevel 1 </desc>\n",
       "\n",
       "<g id=\"gnuplot_canvas\">\n",
       "\n",
       "<rect x=\"0\" y=\"0\" width=\"560\" height=\"420\" fill=\"none\"/>\n",
       "<defs>\n",
       "\n",
       "\t<circle id=\"gpDot\" r=\"0.5\" stroke-width=\"0.5\" stroke=\"currentColor\"/>\n",
       "\t<path id=\"gpPt0\" stroke-width=\"0.222\" stroke=\"currentColor\" d=\"M-1,0 h2 M0,-1 v2\"/>\n",
       "\t<path id=\"gpPt1\" stroke-width=\"0.222\" stroke=\"currentColor\" d=\"M-1,-1 L1,1 M1,-1 L-1,1\"/>\n",
       "\t<path id=\"gpPt2\" stroke-width=\"0.222\" stroke=\"currentColor\" d=\"M-1,0 L1,0 M0,-1 L0,1 M-1,-1 L1,1 M-1,1 L1,-1\"/>\n",
       "\t<rect id=\"gpPt3\" stroke-width=\"0.222\" stroke=\"currentColor\" x=\"-1\" y=\"-1\" width=\"2\" height=\"2\"/>\n",
       "\t<rect id=\"gpPt4\" stroke-width=\"0.222\" stroke=\"currentColor\" fill=\"currentColor\" x=\"-1\" y=\"-1\" width=\"2\" height=\"2\"/>\n",
       "\t<circle id=\"gpPt5\" stroke-width=\"0.222\" stroke=\"currentColor\" cx=\"0\" cy=\"0\" r=\"1\"/>\n",
       "\t<use xlink:href=\"#gpPt5\" id=\"gpPt6\" fill=\"currentColor\" stroke=\"none\"/>\n",
       "\t<path id=\"gpPt7\" stroke-width=\"0.222\" stroke=\"currentColor\" d=\"M0,-1.33 L-1.33,0.67 L1.33,0.67 z\"/>\n",
       "\t<use xlink:href=\"#gpPt7\" id=\"gpPt8\" fill=\"currentColor\" stroke=\"none\"/>\n",
       "\t<use xlink:href=\"#gpPt7\" id=\"gpPt9\" stroke=\"currentColor\" transform=\"rotate(180)\"/>\n",
       "\t<use xlink:href=\"#gpPt9\" id=\"gpPt10\" fill=\"currentColor\" stroke=\"none\"/>\n",
       "\t<use xlink:href=\"#gpPt3\" id=\"gpPt11\" stroke=\"currentColor\" transform=\"rotate(45)\"/>\n",
       "\t<use xlink:href=\"#gpPt11\" id=\"gpPt12\" fill=\"currentColor\" stroke=\"none\"/>\n",
       "\t<path id=\"gpPt13\" stroke-width=\"0.222\" stroke=\"currentColor\" d=\"M0,1.330 L1.265,0.411 L0.782,-1.067 L-0.782,-1.076 L-1.265,0.411 z\"/>\n",
       "\t<use xlink:href=\"#gpPt13\" id=\"gpPt14\" fill=\"currentColor\" stroke=\"none\"/>\n",
       "\t<filter id=\"textbox\" filterUnits=\"objectBoundingBox\" x=\"0\" y=\"0\" height=\"1\" width=\"1\">\n",
       "\t  <feFlood flood-color=\"white\" flood-opacity=\"1\" result=\"bgnd\"/>\n",
       "\t  <feComposite in=\"SourceGraphic\" in2=\"bgnd\" operator=\"atop\"/>\n",
       "\t</filter>\n",
       "\t<filter id=\"greybox\" filterUnits=\"objectBoundingBox\" x=\"0\" y=\"0\" height=\"1\" width=\"1\">\n",
       "\t  <feFlood flood-color=\"lightgrey\" flood-opacity=\"1\" result=\"grey\"/>\n",
       "\t  <feComposite in=\"SourceGraphic\" in2=\"grey\" operator=\"atop\"/>\n",
       "\t</filter>\n",
       "</defs>\n",
       "<g fill=\"none\" color=\"white\" stroke=\"currentColor\" stroke-width=\"1.00\" stroke-linecap=\"butt\" stroke-linejoin=\"miter\">\n",
       "</g>\n",
       "<g fill=\"none\" color=\"black\" stroke=\"currentColor\" stroke-width=\"1.00\" stroke-linecap=\"butt\" stroke-linejoin=\"miter\">\n",
       "\t<g stroke=\"none\" shape-rendering=\"crispEdges\">\n",
       "\t\t<polygon fill=\"rgb(255, 255, 255)\" points=\"46.14,384.00 534.81,384.00 534.81,18.02 46.14,18.02 \"/>\n",
       "\t</g>\n",
       "</g>\n",
       "<g fill=\"none\" color=\"black\" stroke=\"currentColor\" stroke-width=\"1.00\" stroke-linecap=\"butt\" stroke-linejoin=\"miter\">\n",
       "\t<path stroke=\"rgb(  0,   0,   0)\" d=\"M46.14,384.00 L58.74,384.00  \"/>\t<g transform=\"translate(37.75,387.25)\" stroke=\"none\" fill=\"rgb(38,38,38)\" font-family=\"Arial\" font-size=\"10.00\" text-anchor=\"end\">\n",
       "\t\t<text><tspan font-family=\"Arial\">0</tspan></text>\n",
       "\t</g>\n",
       "</g>\n",
       "<g fill=\"none\" color=\"black\" stroke=\"currentColor\" stroke-width=\"1.00\" stroke-linecap=\"butt\" stroke-linejoin=\"miter\">\n",
       "\t<path stroke=\"rgb(  0,   0,   0)\" d=\"M46.14,331.72 L58.74,331.72  \"/>\t<g transform=\"translate(37.75,334.97)\" stroke=\"none\" fill=\"rgb(38,38,38)\" font-family=\"Arial\" font-size=\"10.00\" text-anchor=\"end\">\n",
       "\t\t<text><tspan font-family=\"Arial\">0.2</tspan></text>\n",
       "\t</g>\n",
       "</g>\n",
       "<g fill=\"none\" color=\"black\" stroke=\"currentColor\" stroke-width=\"1.00\" stroke-linecap=\"butt\" stroke-linejoin=\"miter\">\n",
       "\t<path stroke=\"rgb(  0,   0,   0)\" d=\"M46.14,279.43 L58.74,279.43  \"/>\t<g transform=\"translate(37.75,282.68)\" stroke=\"none\" fill=\"rgb(38,38,38)\" font-family=\"Arial\" font-size=\"10.00\" text-anchor=\"end\">\n",
       "\t\t<text><tspan font-family=\"Arial\">0.4</tspan></text>\n",
       "\t</g>\n",
       "</g>\n",
       "<g fill=\"none\" color=\"black\" stroke=\"currentColor\" stroke-width=\"1.00\" stroke-linecap=\"butt\" stroke-linejoin=\"miter\">\n",
       "\t<path stroke=\"rgb(  0,   0,   0)\" d=\"M46.14,227.15 L58.74,227.15  \"/>\t<g transform=\"translate(37.75,230.40)\" stroke=\"none\" fill=\"rgb(38,38,38)\" font-family=\"Arial\" font-size=\"10.00\" text-anchor=\"end\">\n",
       "\t\t<text><tspan font-family=\"Arial\">0.6</tspan></text>\n",
       "\t</g>\n",
       "</g>\n",
       "<g fill=\"none\" color=\"black\" stroke=\"currentColor\" stroke-width=\"1.00\" stroke-linecap=\"butt\" stroke-linejoin=\"miter\">\n",
       "\t<path stroke=\"rgb(  0,   0,   0)\" d=\"M46.14,174.86 L58.74,174.86  \"/>\t<g transform=\"translate(37.75,178.11)\" stroke=\"none\" fill=\"rgb(38,38,38)\" font-family=\"Arial\" font-size=\"10.00\" text-anchor=\"end\">\n",
       "\t\t<text><tspan font-family=\"Arial\">0.8</tspan></text>\n",
       "\t</g>\n",
       "</g>\n",
       "<g fill=\"none\" color=\"black\" stroke=\"currentColor\" stroke-width=\"1.00\" stroke-linecap=\"butt\" stroke-linejoin=\"miter\">\n",
       "\t<path stroke=\"rgb(  0,   0,   0)\" d=\"M46.14,122.58 L58.74,122.58  \"/>\t<g transform=\"translate(37.75,125.83)\" stroke=\"none\" fill=\"rgb(38,38,38)\" font-family=\"Arial\" font-size=\"10.00\" text-anchor=\"end\">\n",
       "\t\t<text><tspan font-family=\"Arial\">1</tspan></text>\n",
       "\t</g>\n",
       "</g>\n",
       "<g fill=\"none\" color=\"black\" stroke=\"currentColor\" stroke-width=\"1.00\" stroke-linecap=\"butt\" stroke-linejoin=\"miter\">\n",
       "\t<path stroke=\"rgb(  0,   0,   0)\" d=\"M46.14,70.29 L58.74,70.29  \"/>\t<g transform=\"translate(37.75,73.54)\" stroke=\"none\" fill=\"rgb(38,38,38)\" font-family=\"Arial\" font-size=\"10.00\" text-anchor=\"end\">\n",
       "\t\t<text><tspan font-family=\"Arial\">1.2</tspan></text>\n",
       "\t</g>\n",
       "</g>\n",
       "<g fill=\"none\" color=\"black\" stroke=\"currentColor\" stroke-width=\"1.00\" stroke-linecap=\"butt\" stroke-linejoin=\"miter\">\n",
       "\t<path stroke=\"rgb(  0,   0,   0)\" d=\"M46.14,18.01 L58.74,18.01  \"/>\t<g transform=\"translate(37.75,21.26)\" stroke=\"none\" fill=\"rgb(38,38,38)\" font-family=\"Arial\" font-size=\"10.00\" text-anchor=\"end\">\n",
       "\t\t<text><tspan font-family=\"Arial\">1.4</tspan></text>\n",
       "\t</g>\n",
       "</g>\n",
       "<g fill=\"none\" color=\"black\" stroke=\"currentColor\" stroke-width=\"1.00\" stroke-linecap=\"butt\" stroke-linejoin=\"miter\">\n",
       "\t<path stroke=\"rgb(  0,   0,   0)\" d=\"M46.14,384.00 L46.14,371.40  \"/>\t<g transform=\"translate(46.14,405.25)\" stroke=\"none\" fill=\"rgb(38,38,38)\" font-family=\"Arial\" font-size=\"10.00\" text-anchor=\"middle\">\n",
       "\t\t<text><tspan font-family=\"Arial\">0</tspan></text>\n",
       "\t</g>\n",
       "</g>\n",
       "<g fill=\"none\" color=\"black\" stroke=\"currentColor\" stroke-width=\"1.00\" stroke-linecap=\"butt\" stroke-linejoin=\"miter\">\n",
       "\t<path stroke=\"rgb(  0,   0,   0)\" d=\"M143.88,384.00 L143.88,371.40  \"/>\t<g transform=\"translate(143.88,405.25)\" stroke=\"none\" fill=\"rgb(38,38,38)\" font-family=\"Arial\" font-size=\"10.00\" text-anchor=\"middle\">\n",
       "\t\t<text><tspan font-family=\"Arial\">0.2</tspan></text>\n",
       "\t</g>\n",
       "</g>\n",
       "<g fill=\"none\" color=\"black\" stroke=\"currentColor\" stroke-width=\"1.00\" stroke-linecap=\"butt\" stroke-linejoin=\"miter\">\n",
       "\t<path stroke=\"rgb(  0,   0,   0)\" d=\"M241.61,384.00 L241.61,371.40  \"/>\t<g transform=\"translate(241.61,405.25)\" stroke=\"none\" fill=\"rgb(38,38,38)\" font-family=\"Arial\" font-size=\"10.00\" text-anchor=\"middle\">\n",
       "\t\t<text><tspan font-family=\"Arial\">0.4</tspan></text>\n",
       "\t</g>\n",
       "</g>\n",
       "<g fill=\"none\" color=\"black\" stroke=\"currentColor\" stroke-width=\"1.00\" stroke-linecap=\"butt\" stroke-linejoin=\"miter\">\n",
       "\t<path stroke=\"rgb(  0,   0,   0)\" d=\"M339.35,384.00 L339.35,371.40  \"/>\t<g transform=\"translate(339.35,405.25)\" stroke=\"none\" fill=\"rgb(38,38,38)\" font-family=\"Arial\" font-size=\"10.00\" text-anchor=\"middle\">\n",
       "\t\t<text><tspan font-family=\"Arial\">0.6</tspan></text>\n",
       "\t</g>\n",
       "</g>\n",
       "<g fill=\"none\" color=\"black\" stroke=\"currentColor\" stroke-width=\"1.00\" stroke-linecap=\"butt\" stroke-linejoin=\"miter\">\n",
       "\t<path stroke=\"rgb(  0,   0,   0)\" d=\"M437.08,384.00 L437.08,371.40  \"/>\t<g transform=\"translate(437.08,405.25)\" stroke=\"none\" fill=\"rgb(38,38,38)\" font-family=\"Arial\" font-size=\"10.00\" text-anchor=\"middle\">\n",
       "\t\t<text><tspan font-family=\"Arial\">0.8</tspan></text>\n",
       "\t</g>\n",
       "</g>\n",
       "<g fill=\"none\" color=\"black\" stroke=\"currentColor\" stroke-width=\"1.00\" stroke-linecap=\"butt\" stroke-linejoin=\"miter\">\n",
       "\t<path stroke=\"rgb(  0,   0,   0)\" d=\"M534.82,384.00 L534.82,371.40  \"/>\t<g transform=\"translate(534.82,405.25)\" stroke=\"none\" fill=\"rgb(38,38,38)\" font-family=\"Arial\" font-size=\"10.00\" text-anchor=\"middle\">\n",
       "\t\t<text><tspan font-family=\"Arial\">1</tspan></text>\n",
       "\t</g>\n",
       "</g>\n",
       "<g fill=\"none\" color=\"black\" stroke=\"currentColor\" stroke-width=\"1.00\" stroke-linecap=\"butt\" stroke-linejoin=\"miter\">\n",
       "</g>\n",
       "<g fill=\"none\" color=\"black\" stroke=\"currentColor\" stroke-width=\"1.00\" stroke-linecap=\"butt\" stroke-linejoin=\"miter\">\n",
       "</g>\n",
       "\t<g id=\"gnuplot_plot_1a\"><title>gnuplot_plot_1a</title>\n",
       "<g fill=\"none\" color=\"white\" stroke=\"rgb(  0,   0,   0)\" stroke-width=\"0.50\" stroke-linecap=\"butt\" stroke-linejoin=\"miter\">\n",
       "</g>\n",
       "<g fill=\"none\" color=\"black\" stroke=\"currentColor\" stroke-width=\"0.50\" stroke-linecap=\"butt\" stroke-linejoin=\"miter\">\n",
       "\t<path stroke=\"rgb(  0, 114, 189)\" d=\"M46.14,384.00 L107.23,282.66 L168.31,196.75 L229.40,139.35 L290.48,119.19 L351.57,139.35 L412.65,196.75 L473.74,282.66   L534.82,384.00  \"/></g>\n",
       "\t</g>\n",
       "\t<g id=\"gnuplot_plot_2a\"><title>gnuplot_plot_2a</title>\n",
       "<g fill=\"none\" color=\"black\" stroke=\"currentColor\" stroke-width=\"0.50\" stroke-linecap=\"butt\" stroke-linejoin=\"miter\">\n",
       "\t<path stroke=\"rgb(217,  83,  25)\" d=\"M46.14,384.00 L107.23,283.96 L168.31,199.15 L229.40,142.48 L290.48,122.58 L351.57,142.48 L412.65,199.15 L473.74,283.96   L534.82,384.00  \"/></g>\n",
       "\t</g>\n",
       "<g fill=\"none\" color=\"white\" stroke=\"rgb(217,  83,  25)\" stroke-width=\"2.00\" stroke-linecap=\"butt\" stroke-linejoin=\"miter\">\n",
       "</g>\n",
       "<g fill=\"none\" color=\"black\" stroke=\"currentColor\" stroke-width=\"2.00\" stroke-linecap=\"butt\" stroke-linejoin=\"miter\">\n",
       "</g>\n",
       "<g fill=\"none\" color=\"black\" stroke=\"black\" stroke-width=\"0.50\" stroke-linecap=\"butt\" stroke-linejoin=\"miter\">\n",
       "\t<path stroke=\"rgb( 38,  38,  38)\" d=\"M46.15,383.99 L534.83,383.99 M46.15,383.99 L46.15,18.00  \"/></g>\n",
       "<g fill=\"none\" color=\"black\" stroke=\"rgb( 38,  38,  38)\" stroke-width=\"1.00\" stroke-linecap=\"butt\" stroke-linejoin=\"miter\">\n",
       "</g>\n",
       "<g fill=\"none\" color=\"black\" stroke=\"currentColor\" stroke-width=\"1.00\" stroke-linecap=\"butt\" stroke-linejoin=\"miter\">\n",
       "</g>\n",
       "</g>\n",
       "</svg>"
      ],
      "text/plain": [
       "<IPython.core.display.SVG object>"
      ]
     },
     "metadata": {},
     "output_type": "display_data"
    }
   ],
   "source": [
    "hold on\n",
    "sol = mysolution(x);\n",
    "\n",
    "plot(x, u)\n",
    "plot(x, sol)"
   ]
  },
  {
   "cell_type": "markdown",
   "metadata": {},
   "source": [
    "Den Fehler berechnen wir in den Punkten $x_i$:"
   ]
  },
  {
   "cell_type": "code",
   "execution_count": 9,
   "metadata": {},
   "outputs": [
    {
     "name": "stdout",
     "output_type": "stream",
     "text": [
      "einf = 0.012951\r\n"
     ]
    }
   ],
   "source": [
    "einf=norm(u-sol', inf)"
   ]
  },
  {
   "cell_type": "markdown",
   "metadata": {},
   "source": [
    "## b) Studie zur Diskretisierungsgenauigkeit"
   ]
  },
  {
   "cell_type": "code",
   "execution_count": 10,
   "metadata": {},
   "outputs": [],
   "source": [
    "function [h, herr]=discretization_error(f, NumPoints, xLeft, uLeft, xRight, uRight, uref )\n",
    "\n",
    "    # Gitterweite\n",
    "    h = (xRight - xLeft)/(NumPoints-1);\n",
    "    # Koordinaten\n",
    "    x = linspace(xLeft, xRight, NumPoints);\n",
    "    \n",
    "    # Aufstellen des LGS\n",
    "    A = init_matrix(NumPoints);\n",
    "    h\n",
    "    b = f(x)(:);\n",
    "    b *= (h*h);\n",
    "    u = zeros(NumPoints,1);\n",
    "    \n",
    "    [A,b] = set_dirichlet(1, uLeft, A, b);\n",
    "    [A,b] = set_dirichlet(NumPoints, uRight, A, b);\n",
    "    \n",
    "    u = linsolve(A,b);\n",
    "    \n",
    "    sol = uref(x)(:);\n",
    "    err = u -sol;\n",
    "    herr=norm(err, inf);\n",
    "   \n",
    "  # hold on\n",
    "  #  plot(x, u)\n",
    "  #  plot(x, sol)\n",
    "    \n",
    "endfunction\n"
   ]
  },
  {
   "cell_type": "code",
   "execution_count": 11,
   "metadata": {},
   "outputs": [
    {
     "name": "stdout",
     "output_type": "stream",
     "text": [
      "h = 0.5000\n",
      "h = 0.2500\n",
      "h = 0.1250\n",
      "h = 0.062500\n",
      "h = 0.031250\n",
      "h = 0.015625\n",
      "h = 7.8125e-03\n",
      "h = 3.9062e-03\n",
      "ans =\n",
      "\n",
      "   5.0000e-01\n",
      "   2.5000e-01\n",
      "   1.2500e-01\n",
      "   6.2500e-02\n",
      "   3.1250e-02\n",
      "   1.5625e-02\n",
      "   7.8125e-03\n",
      "   3.9062e-03\n",
      "\n",
      "ans =\n",
      "\n",
      "   2.3370e-01\n",
      "   5.3029e-02\n",
      "   1.2951e-02\n",
      "   3.2190e-03\n",
      "   8.0358e-04\n",
      "   2.0082e-04\n",
      "   5.0201e-05\n",
      "   1.2550e-05\n",
      "\n"
     ]
    }
   ],
   "source": [
    "for k=1:8\n",
    "    [hGrid(k), hErr(k)] = discretization_error(f, 2**k+1, xa, ua, xb, ub, mysolution);\n",
    "endfor \n",
    "\n",
    "hGrid(:)\n",
    "hErr(:)"
   ]
  },
  {
   "cell_type": "code",
   "execution_count": 12,
   "metadata": {},
   "outputs": [
    {
     "data": {
      "image/svg+xml": [
       "<svg xmlns=\"http://www.w3.org/2000/svg\" xmlns:xlink=\"http://www.w3.org/1999/xlink\" width=\"560px\" height=\"420px\" viewBox=\"0 0 560 420\">\n",
       "\n",
       "<title>Gnuplot</title>\n",
       "<desc>Produced by GNUPLOT 5.4 patchlevel 1 </desc>\n",
       "\n",
       "<g id=\"gnuplot_canvas\">\n",
       "\n",
       "<rect x=\"0\" y=\"0\" width=\"560\" height=\"420\" fill=\"none\"/>\n",
       "<defs>\n",
       "\n",
       "\t<circle id=\"gpDot\" r=\"0.5\" stroke-width=\"0.5\" stroke=\"currentColor\"/>\n",
       "\t<path id=\"gpPt0\" stroke-width=\"0.222\" stroke=\"currentColor\" d=\"M-1,0 h2 M0,-1 v2\"/>\n",
       "\t<path id=\"gpPt1\" stroke-width=\"0.222\" stroke=\"currentColor\" d=\"M-1,-1 L1,1 M1,-1 L-1,1\"/>\n",
       "\t<path id=\"gpPt2\" stroke-width=\"0.222\" stroke=\"currentColor\" d=\"M-1,0 L1,0 M0,-1 L0,1 M-1,-1 L1,1 M-1,1 L1,-1\"/>\n",
       "\t<rect id=\"gpPt3\" stroke-width=\"0.222\" stroke=\"currentColor\" x=\"-1\" y=\"-1\" width=\"2\" height=\"2\"/>\n",
       "\t<rect id=\"gpPt4\" stroke-width=\"0.222\" stroke=\"currentColor\" fill=\"currentColor\" x=\"-1\" y=\"-1\" width=\"2\" height=\"2\"/>\n",
       "\t<circle id=\"gpPt5\" stroke-width=\"0.222\" stroke=\"currentColor\" cx=\"0\" cy=\"0\" r=\"1\"/>\n",
       "\t<use xlink:href=\"#gpPt5\" id=\"gpPt6\" fill=\"currentColor\" stroke=\"none\"/>\n",
       "\t<path id=\"gpPt7\" stroke-width=\"0.222\" stroke=\"currentColor\" d=\"M0,-1.33 L-1.33,0.67 L1.33,0.67 z\"/>\n",
       "\t<use xlink:href=\"#gpPt7\" id=\"gpPt8\" fill=\"currentColor\" stroke=\"none\"/>\n",
       "\t<use xlink:href=\"#gpPt7\" id=\"gpPt9\" stroke=\"currentColor\" transform=\"rotate(180)\"/>\n",
       "\t<use xlink:href=\"#gpPt9\" id=\"gpPt10\" fill=\"currentColor\" stroke=\"none\"/>\n",
       "\t<use xlink:href=\"#gpPt3\" id=\"gpPt11\" stroke=\"currentColor\" transform=\"rotate(45)\"/>\n",
       "\t<use xlink:href=\"#gpPt11\" id=\"gpPt12\" fill=\"currentColor\" stroke=\"none\"/>\n",
       "\t<path id=\"gpPt13\" stroke-width=\"0.222\" stroke=\"currentColor\" d=\"M0,1.330 L1.265,0.411 L0.782,-1.067 L-0.782,-1.076 L-1.265,0.411 z\"/>\n",
       "\t<use xlink:href=\"#gpPt13\" id=\"gpPt14\" fill=\"currentColor\" stroke=\"none\"/>\n",
       "\t<filter id=\"textbox\" filterUnits=\"objectBoundingBox\" x=\"0\" y=\"0\" height=\"1\" width=\"1\">\n",
       "\t  <feFlood flood-color=\"white\" flood-opacity=\"1\" result=\"bgnd\"/>\n",
       "\t  <feComposite in=\"SourceGraphic\" in2=\"bgnd\" operator=\"atop\"/>\n",
       "\t</filter>\n",
       "\t<filter id=\"greybox\" filterUnits=\"objectBoundingBox\" x=\"0\" y=\"0\" height=\"1\" width=\"1\">\n",
       "\t  <feFlood flood-color=\"lightgrey\" flood-opacity=\"1\" result=\"grey\"/>\n",
       "\t  <feComposite in=\"SourceGraphic\" in2=\"grey\" operator=\"atop\"/>\n",
       "\t</filter>\n",
       "</defs>\n",
       "<g fill=\"none\" color=\"white\" stroke=\"currentColor\" stroke-width=\"1.00\" stroke-linecap=\"butt\" stroke-linejoin=\"miter\">\n",
       "</g>\n",
       "<g fill=\"none\" color=\"black\" stroke=\"currentColor\" stroke-width=\"1.00\" stroke-linecap=\"butt\" stroke-linejoin=\"miter\">\n",
       "\t<g stroke=\"none\" shape-rendering=\"crispEdges\">\n",
       "\t\t<polygon fill=\"rgb(255, 255, 255)\" points=\"64.14,362.40 534.81,362.40 534.81,18.02 64.14,18.02 \"/>\n",
       "\t</g>\n",
       "</g>\n",
       "<g fill=\"none\" color=\"black\" stroke=\"currentColor\" stroke-width=\"1.00\" stroke-linecap=\"butt\" stroke-linejoin=\"miter\">\n",
       "\t<path stroke=\"rgb(  0,   0,   0)\" d=\"M64.14,362.40 L76.74,362.40  \"/>\t<g transform=\"translate(55.75,365.65)\" stroke=\"none\" fill=\"rgb(38,38,38)\" font-family=\"Arial\" font-size=\"10.00\" text-anchor=\"end\">\n",
       "\t\t<text><tspan font-family=\"Arial\">10</tspan><tspan font-family=\"Arial\" font-size=\"8.0\" dy=\"-5.00px\">-5</tspan><tspan font-size=\"10.0\" dy=\"5.00\"/></text>\n",
       "\t</g>\n",
       "</g>\n",
       "<g fill=\"none\" color=\"black\" stroke=\"currentColor\" stroke-width=\"1.00\" stroke-linecap=\"butt\" stroke-linejoin=\"miter\">\n",
       "\t<path stroke=\"rgb(  0,   0,   0)\" d=\"M64.14,293.52 L76.74,293.52  \"/>\t<g transform=\"translate(55.75,296.77)\" stroke=\"none\" fill=\"rgb(38,38,38)\" font-family=\"Arial\" font-size=\"10.00\" text-anchor=\"end\">\n",
       "\t\t<text><tspan font-family=\"Arial\">10</tspan><tspan font-family=\"Arial\" font-size=\"8.0\" dy=\"-5.00px\">-4</tspan><tspan font-size=\"10.0\" dy=\"5.00\"/></text>\n",
       "\t</g>\n",
       "</g>\n",
       "<g fill=\"none\" color=\"black\" stroke=\"currentColor\" stroke-width=\"1.00\" stroke-linecap=\"butt\" stroke-linejoin=\"miter\">\n",
       "\t<path stroke=\"rgb(  0,   0,   0)\" d=\"M64.14,224.64 L76.74,224.64  \"/>\t<g transform=\"translate(55.75,227.89)\" stroke=\"none\" fill=\"rgb(38,38,38)\" font-family=\"Arial\" font-size=\"10.00\" text-anchor=\"end\">\n",
       "\t\t<text><tspan font-family=\"Arial\">10</tspan><tspan font-family=\"Arial\" font-size=\"8.0\" dy=\"-5.00px\">-3</tspan><tspan font-size=\"10.0\" dy=\"5.00\"/></text>\n",
       "\t</g>\n",
       "</g>\n",
       "<g fill=\"none\" color=\"black\" stroke=\"currentColor\" stroke-width=\"1.00\" stroke-linecap=\"butt\" stroke-linejoin=\"miter\">\n",
       "\t<path stroke=\"rgb(  0,   0,   0)\" d=\"M64.14,155.77 L76.74,155.77  \"/>\t<g transform=\"translate(55.75,159.02)\" stroke=\"none\" fill=\"rgb(38,38,38)\" font-family=\"Arial\" font-size=\"10.00\" text-anchor=\"end\">\n",
       "\t\t<text><tspan font-family=\"Arial\">10</tspan><tspan font-family=\"Arial\" font-size=\"8.0\" dy=\"-5.00px\">-2</tspan><tspan font-size=\"10.0\" dy=\"5.00\"/></text>\n",
       "\t</g>\n",
       "</g>\n",
       "<g fill=\"none\" color=\"black\" stroke=\"currentColor\" stroke-width=\"1.00\" stroke-linecap=\"butt\" stroke-linejoin=\"miter\">\n",
       "\t<path stroke=\"rgb(  0,   0,   0)\" d=\"M64.14,86.89 L76.74,86.89  \"/>\t<g transform=\"translate(55.75,90.14)\" stroke=\"none\" fill=\"rgb(38,38,38)\" font-family=\"Arial\" font-size=\"10.00\" text-anchor=\"end\">\n",
       "\t\t<text><tspan font-family=\"Arial\">10</tspan><tspan font-family=\"Arial\" font-size=\"8.0\" dy=\"-5.00px\">-1</tspan><tspan font-size=\"10.0\" dy=\"5.00\"/></text>\n",
       "\t</g>\n",
       "</g>\n",
       "<g fill=\"none\" color=\"black\" stroke=\"currentColor\" stroke-width=\"1.00\" stroke-linecap=\"butt\" stroke-linejoin=\"miter\">\n",
       "\t<path stroke=\"rgb(  0,   0,   0)\" d=\"M64.14,18.01 L76.74,18.01  \"/>\t<g transform=\"translate(55.75,21.26)\" stroke=\"none\" fill=\"rgb(38,38,38)\" font-family=\"Arial\" font-size=\"10.00\" text-anchor=\"end\">\n",
       "\t\t<text><tspan font-family=\"Arial\">10</tspan><tspan font-family=\"Arial\" font-size=\"8.0\" dy=\"-5.00px\">0</tspan><tspan font-size=\"10.0\" dy=\"5.00\"/></text>\n",
       "\t</g>\n",
       "</g>\n",
       "<g fill=\"none\" color=\"black\" stroke=\"currentColor\" stroke-width=\"1.00\" stroke-linecap=\"butt\" stroke-linejoin=\"miter\">\n",
       "\t<path stroke=\"rgb(  0,   0,   0)\" d=\"M64.14,362.40 L64.14,349.80  \"/>\t<g transform=\"translate(64.14,383.65)\" stroke=\"none\" fill=\"rgb(38,38,38)\" font-family=\"Arial\" font-size=\"10.00\" text-anchor=\"middle\">\n",
       "\t\t<text><tspan font-family=\"Arial\">10</tspan><tspan font-family=\"Arial\" font-size=\"8.0\" dy=\"-5.00px\">-3</tspan><tspan font-size=\"10.0\" dy=\"5.00\"/></text>\n",
       "\t</g>\n",
       "</g>\n",
       "<g fill=\"none\" color=\"black\" stroke=\"currentColor\" stroke-width=\"1.00\" stroke-linecap=\"butt\" stroke-linejoin=\"miter\">\n",
       "\t<path stroke=\"rgb(  0,   0,   0)\" d=\"M221.03,362.40 L221.03,349.80  \"/>\t<g transform=\"translate(221.03,383.65)\" stroke=\"none\" fill=\"rgb(38,38,38)\" font-family=\"Arial\" font-size=\"10.00\" text-anchor=\"middle\">\n",
       "\t\t<text><tspan font-family=\"Arial\">10</tspan><tspan font-family=\"Arial\" font-size=\"8.0\" dy=\"-5.00px\">-2</tspan><tspan font-size=\"10.0\" dy=\"5.00\"/></text>\n",
       "\t</g>\n",
       "</g>\n",
       "<g fill=\"none\" color=\"black\" stroke=\"currentColor\" stroke-width=\"1.00\" stroke-linecap=\"butt\" stroke-linejoin=\"miter\">\n",
       "\t<path stroke=\"rgb(  0,   0,   0)\" d=\"M377.93,362.40 L377.93,349.80  \"/>\t<g transform=\"translate(377.93,383.65)\" stroke=\"none\" fill=\"rgb(38,38,38)\" font-family=\"Arial\" font-size=\"10.00\" text-anchor=\"middle\">\n",
       "\t\t<text><tspan font-family=\"Arial\">10</tspan><tspan font-family=\"Arial\" font-size=\"8.0\" dy=\"-5.00px\">-1</tspan><tspan font-size=\"10.0\" dy=\"5.00\"/></text>\n",
       "\t</g>\n",
       "</g>\n",
       "<g fill=\"none\" color=\"black\" stroke=\"currentColor\" stroke-width=\"1.00\" stroke-linecap=\"butt\" stroke-linejoin=\"miter\">\n",
       "\t<path stroke=\"rgb(  0,   0,   0)\" d=\"M534.82,362.40 L534.82,349.80  \"/>\t<g transform=\"translate(534.82,383.65)\" stroke=\"none\" fill=\"rgb(38,38,38)\" font-family=\"Arial\" font-size=\"10.00\" text-anchor=\"middle\">\n",
       "\t\t<text><tspan font-family=\"Arial\">10</tspan><tspan font-family=\"Arial\" font-size=\"8.0\" dy=\"-5.00px\">0</tspan><tspan font-size=\"10.0\" dy=\"5.00\"/></text>\n",
       "\t</g>\n",
       "</g>\n",
       "<g fill=\"none\" color=\"black\" stroke=\"currentColor\" stroke-width=\"1.00\" stroke-linecap=\"butt\" stroke-linejoin=\"miter\">\n",
       "</g>\n",
       "<g fill=\"none\" color=\"black\" stroke=\"currentColor\" stroke-width=\"1.00\" stroke-linecap=\"butt\" stroke-linejoin=\"miter\">\n",
       "\t<g transform=\"translate(18.85,190.21) rotate(-90)\" stroke=\"none\" fill=\"rgb(38,38,38)\" font-family=\"Arial\" font-size=\"11.00\" text-anchor=\"middle\">\n",
       "\t\t<text><tspan font-family=\"Arial\">Error</tspan></text>\n",
       "\t</g>\n",
       "</g>\n",
       "<g fill=\"none\" color=\"black\" stroke=\"currentColor\" stroke-width=\"1.00\" stroke-linecap=\"butt\" stroke-linejoin=\"miter\">\n",
       "\t<g transform=\"translate(299.48,410.98)\" stroke=\"none\" fill=\"rgb(38,38,38)\" font-family=\"Arial\" font-size=\"11.00\" text-anchor=\"middle\">\n",
       "\t\t<text><tspan font-family=\"Arial\">h</tspan></text>\n",
       "\t</g>\n",
       "</g>\n",
       "<g fill=\"none\" color=\"black\" stroke=\"currentColor\" stroke-width=\"1.00\" stroke-linecap=\"butt\" stroke-linejoin=\"miter\">\n",
       "</g>\n",
       "\t<g id=\"gnuplot_plot_1a\"><title>gnuplot_plot_1a</title>\n",
       "<g fill=\"none\" color=\"white\" stroke=\"currentColor\" stroke-width=\"0.50\" stroke-linecap=\"butt\" stroke-linejoin=\"miter\">\n",
       "</g>\n",
       "<g fill=\"none\" color=\"black\" stroke=\"currentColor\" stroke-width=\"0.50\" stroke-linecap=\"butt\" stroke-linejoin=\"miter\">\n",
       "\t<path stroke=\"rgb(  0, 114, 189)\" d=\"M487.59,38.74 L440.36,59.48 L393.13,80.21 L345.90,100.95 L298.67,121.68 L251.44,142.42 L204.21,163.15 L156.98,183.88    \"/></g>\n",
       "\t</g>\n",
       "\t<g id=\"gnuplot_plot_2a\"><title>gnuplot_plot_2a</title>\n",
       "<g fill=\"none\" color=\"black\" stroke=\"currentColor\" stroke-width=\"0.50\" stroke-linecap=\"butt\" stroke-linejoin=\"miter\">\n",
       "\t<path stroke=\"rgb(217,  83,  25)\" d=\"M487.59,59.48 L440.36,100.95 L393.13,142.42 L345.90,183.88 L298.67,225.35 L251.44,266.82 L204.21,308.29 L156.98,349.76    \"/></g>\n",
       "\t</g>\n",
       "\t<g id=\"gnuplot_plot_3a\"><title>gnuplot_plot_3a</title>\n",
       "<g fill=\"none\" color=\"black\" stroke=\"currentColor\" stroke-width=\"0.50\" stroke-linecap=\"butt\" stroke-linejoin=\"miter\">\n",
       "\t<path stroke=\"rgb(237, 177,  32)\" d=\"M487.59,61.50 L440.36,105.86 L393.13,148.03 L345.90,189.67 L298.67,231.19 L251.44,272.66 L204.21,314.14 L156.98,355.61    \"/></g>\n",
       "\t</g>\n",
       "<g fill=\"none\" color=\"white\" stroke=\"rgb(237, 177,  32)\" stroke-width=\"2.00\" stroke-linecap=\"butt\" stroke-linejoin=\"miter\">\n",
       "</g>\n",
       "<g fill=\"none\" color=\"black\" stroke=\"currentColor\" stroke-width=\"2.00\" stroke-linecap=\"butt\" stroke-linejoin=\"miter\">\n",
       "</g>\n",
       "<g fill=\"none\" color=\"black\" stroke=\"black\" stroke-width=\"0.50\" stroke-linecap=\"butt\" stroke-linejoin=\"miter\">\n",
       "\t<path stroke=\"rgb( 38,  38,  38)\" d=\"M64.15,362.39 L534.83,362.39 M64.15,362.39 L64.15,18.00  \"/></g>\n",
       "<g fill=\"none\" color=\"black\" stroke=\"rgb( 38,  38,  38)\" stroke-width=\"1.00\" stroke-linecap=\"butt\" stroke-linejoin=\"miter\">\n",
       "</g>\n",
       "<g fill=\"none\" color=\"black\" stroke=\"currentColor\" stroke-width=\"1.00\" stroke-linecap=\"butt\" stroke-linejoin=\"miter\">\n",
       "</g>\n",
       "</g>\n",
       "</svg>"
      ],
      "text/plain": [
       "<IPython.core.display.SVG object>"
      ]
     },
     "metadata": {},
     "output_type": "display_data"
    }
   ],
   "source": [
    "hold on\n",
    "loglog(hGrid,hGrid)\n",
    "loglog(hGrid,hGrid.*hGrid) # Model\n",
    "loglog(hGrid,hErr)             # Data\n",
    "\n",
    "xlabel(\"h\")\n",
    "ylabel(\"Error\")\n",
    "hold off"
   ]
  },
  {
   "cell_type": "code",
   "execution_count": null,
   "metadata": {},
   "outputs": [],
   "source": []
  },
  {
   "cell_type": "code",
   "execution_count": null,
   "metadata": {},
   "outputs": [],
   "source": []
  }
 ],
 "metadata": {
  "kernelspec": {
   "display_name": "Octave",
   "language": "octave",
   "name": "octave"
  },
  "language_info": {
   "file_extension": ".m",
   "help_links": [
    {
     "text": "GNU Octave",
     "url": "https://www.gnu.org/software/octave/support.html"
    },
    {
     "text": "Octave Kernel",
     "url": "https://github.com/Calysto/octave_kernel"
    },
    {
     "text": "MetaKernel Magics",
     "url": "https://metakernel.readthedocs.io/en/latest/source/README.html"
    }
   ],
   "mimetype": "text/x-octave",
   "name": "octave",
   "version": "6.1.0"
  }
 },
 "nbformat": 4,
 "nbformat_minor": 2
}
