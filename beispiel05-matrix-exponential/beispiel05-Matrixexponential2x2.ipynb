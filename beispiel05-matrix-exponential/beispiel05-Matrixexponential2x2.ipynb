{
 "cells": [
  {
   "cell_type": "markdown",
   "metadata": {},
   "source": [
    "# Beispielprogramm: Matrixwertige Exponentialfuntion\n",
    "\n",
    "\n",
    "\n",
    "Zu einer reellwertigen Matrix betrachten wir ein Anfangswertproblem für die lineare DGL\n",
    "\\begin{align}\n",
    "\\dot {\\vec u}(t) &= A {\\vec u(t)},\\quad t>0\\\\\n",
    "\\vec u(0)&= \\vec u_0\n",
    "\\end{align}\n",
    "Dessen Lösung ist durch $$\\vec u(t) :=   \\exp(A t) \\vec u_0$$\n",
    "explizit gegeben. \n",
    "\n",
    "In der Vorlesung wurde behandelt, dass das Verhalten der Lösung durch die **Eigenwerte von A** bestimmt ist. Wir konzentrieren uns im folgenden auf den Spezialfall \n",
    "$$A := \\begin{pmatrix} a & b \\\\ c & d \\end{pmatrix} \\in \\mathbb R^{2\\times 2}$$\n",
    "Aus diesen Fall kann bereits vieles abgeleitet werden.\n",
    "Zunächst definieren wir die Matrix (**TODO:** Bitte ggf. ändern!):"
   ]
  },
  {
   "cell_type": "code",
   "execution_count": 1,
   "metadata": {},
   "outputs": [
    {
     "name": "stdout",
     "output_type": "stream",
     "text": [
      "A =\r\n",
      "\r\n",
      "   0.30000   1.00000\r\n",
      "  -1.00000   0.30000\r\n",
      "\r\n"
     ]
    }
   ],
   "source": [
    "A = [0.3 1.0; -1.0 0.3]"
   ]
  },
  {
   "cell_type": "markdown",
   "metadata": {},
   "source": [
    "Die Eigenwerte ergeben sich über die Nullstellen des charakteristischen Polynoms:\n",
    "\n",
    "$$ 0= det(A - \\lambda I)  = \\begin{vmatrix} a-\\lambda & b \\\\ c & d-\\lambda \\end{vmatrix} = (a-\\lambda )(d-\\lambda )-bc  = \\lambda^2 - \\lambda (a+b) + (ad - bc)$$\n",
    "Über die $pq$-Formel sieht man, dass sich entweder (i) zwei reellwertige Eigenwerte $\\lambda_1, \\lambda_2 \\in\\mathbb R$\n",
    "oder (ii) zwei komplex-konjugiert Eigenwerte \n",
    "$$\\lambda_{1/2} = \\alpha \\pm i \\beta \\in \\mathbb C,$$\n",
    "mit Real- und Imaginärteil $\\alpha, \\beta \\in \\mathbb R$ ergeben. Wir berechnen diese mit Octave:"
   ]
  },
  {
   "cell_type": "code",
   "execution_count": 2,
   "metadata": {},
   "outputs": [
    {
     "name": "stdout",
     "output_type": "stream",
     "text": [
      "Lambda =\n",
      "\n",
      "Diagonal Matrix\n",
      "\n",
      "   0.3000 + 1.0000i                  0\n",
      "                  0   0.3000 - 1.0000i\n",
      "\n",
      "V =\n",
      "\n",
      "   0.70711 + 0.00000i   0.70711 - 0.00000i\n",
      "   0.00000 + 0.70711i   0.00000 - 0.70711i\n",
      "\n",
      "alpha1 =  0.30000\n",
      "alpha2 =  0.30000\n",
      "beta =  1\n"
     ]
    }
   ],
   "source": [
    "[V,Lambda]=eig(A);\n",
    "Lambda\n",
    "V\n",
    "\n",
    "alpha1 =  real(Lambda(1,1))\n",
    "alpha2 =  real(Lambda(2,2))\n",
    "\n",
    "beta = abs(imag(Lambda(1,1)))\n"
   ]
  },
  {
   "cell_type": "markdown",
   "metadata": {},
   "source": [
    "Für den Eigenwert $\\lambda = \\alpha + i \\beta$ folgt mit der Euler'schen Formel die Gleichung\n",
    "$$\n",
    "\\exp(\\lambda t) = \\exp(\\alpha t) \\cdot \\exp(i \\beta t) =  \\exp(\\alpha t) \\cdot \\left( \\cos (\\beta t) + i \\sin (\\beta t) \\right)\n",
    "$$\n",
    "Somit bestimmt: \n",
    "* der Realteil $\\alpha$ das Wachstumsverhalten $\\exp(\\alpha t)$, während \n",
    "* der Imaginärteil $\\beta$ zu Oszillationen $\\cos (\\beta t)$  bzw. $\\sin (\\beta t)$ führt.\n",
    "\n",
    "Entsprechend definieren wir nachfolgend charakteristische **Zeitkonstanten**. Diese sind für Wachstum und Oszillationen durch $1/|Re \\lambda|$ bzw. $2 \\pi/|Im \\lambda|$ gegeben. Um jeweils den langsamsten Prozess auflösen zu können, betrachten wir insgesamt das  Maximum."
   ]
  },
  {
   "cell_type": "code",
   "execution_count": 3,
   "metadata": {},
   "outputs": [
    {
     "name": "stdout",
     "output_type": "stream",
     "text": [
      "tGrowth =  3.3333\n",
      "tGrowth2 =  3.3333\n",
      "tOscillation =  6.2832\n",
      "tChar =  6.2832\n"
     ]
    }
   ],
   "source": [
    "tGrowth = abs(1.0/real(Lambda(1,1)))\n",
    "tGrowth2 = abs(1.0/real(Lambda(2,2)))    \n",
    "\n",
    "if (beta > 0) \n",
    "    # Ein Wachstums-/Zerfallprozess mit Oszillation\n",
    "    tOscillation = 2.0*pi/beta\n",
    "    tChar = max(tGrowth,tOscillation)\n",
    "else\n",
    "    # Zwei Wachstums-/Zerfallprozesse\n",
    "    tChar=max(tGrowth, tGrowth2)\n",
    "endif\n"
   ]
  },
  {
   "cell_type": "markdown",
   "metadata": {},
   "source": [
    "Obwohl die Lösung explizite Lösung der DGL bekannt ist, lösen wir numerisch ;-):"
   ]
  },
  {
   "cell_type": "code",
   "execution_count": 4,
   "metadata": {},
   "outputs": [],
   "source": [
    "function udot=f_rhs(u,t, A)\n",
    "    udot = A*u;\n",
    "endfunction\n",
    "\n",
    "u0 = [10,40];\n",
    "tdiskret = linspace(0, 4.0*tChar, 500);\n",
    "uDiskret = lsode(@(u,t) f_rhs(u,t,A), u0, tdiskret);"
   ]
  },
  {
   "cell_type": "markdown",
   "metadata": {},
   "source": [
    "Wir wollen nun die Lösung auch graphisch darstellen:"
   ]
  },
  {
   "cell_type": "code",
   "execution_count": 5,
   "metadata": {},
   "outputs": [],
   "source": [
    "# Funktion zur Ausgabe des Vektorfelds\n",
    "function plot_field_2D(myrhs, spaceX1, spaceX2, name)\n",
    "\t\n",
    "\t for j=1:length(spaceX2)\n",
    "    \t     for i=1:length(spaceX1)\n",
    "    \t     \t vec = myrhs([spaceX1(i);spaceX2(j)], 0.0);\n",
    "        \t dX1(j,i) = vec(1);\n",
    "        \t dX2(j,i) = vec(2); \n",
    "    \t     end\n",
    "\tend\n",
    "\n",
    "\tquiver(spaceX1,spaceX2,dX1,dX2);\n",
    "endfunction"
   ]
  },
  {
   "cell_type": "code",
   "execution_count": 6,
   "metadata": {},
   "outputs": [
    {
     "data": {
      "image/png": "[encoded data removed]",
      "text/plain": [
       "<IPython.core.display.Image object>"
      ]
     },
     "metadata": {},
     "output_type": "display_data"
    }
   ],
   "source": [
    "# Plot um Ursprung\n",
    "min1 = min(uDiskret(:,1));\n",
    "max1 = max(uDiskret(:,1));\n",
    "abs1 = max(abs(min1), abs(max1));\n",
    "\n",
    "min2 = min(uDiskret(:,2));\n",
    "max2 = max(uDiskret(:,2));\n",
    "abs2 = max(abs(min2), abs(max2));\n",
    "\n",
    "spaceX1=linspace(-abs1, abs1, 20);\n",
    "spaceX2=linspace(-abs2, abs2, 20);\n",
    "\n",
    "hold on\n",
    "xlabel(\"Komponente u_1\")\n",
    "ylabel(\"Komponente u_2\")\n",
    "\n",
    "plot_field_2D(@(u,t) f_rhs(u,t,A), spaceX1, spaceX2, \"Zeitliche Entwicklung\")\n",
    "plot(uDiskret(:,1), uDiskret(:,2), \"Color\", \"black\")\n",
    "plot (u0(1), u0(2), \"Color\", \"black\")\n",
    "\n",
    "legend(\"Richtungsfeld\", \"Loesung\", \"Anfangswert\")"
   ]
  },
  {
   "cell_type": "markdown",
   "metadata": {},
   "source": [
    "Das Vorzeichen von $Re \\lambda$ entscheidet darüber, ob ein Wachstums- oder Zerfallsprozess vorliegt. Für komplexe $\\lambda$ erhalten wir, je nach Vorzeigen des Realteils, eine gedämpfte ($Re \\lambda<0$) oder angefachte ($Re \\lambda>0$ ) Schwingung. "
   ]
  },
  {
   "cell_type": "code",
   "execution_count": 7,
   "metadata": {},
   "outputs": [
    {
     "data": {
      "image/png": "[encoded data removed]",
      "text/plain": [
       "<IPython.core.display.Image object>"
      ]
     },
     "metadata": {},
     "output_type": "display_data"
    }
   ],
   "source": [
    "xlabel(\"Zeit t\")\n",
    "ylabel(\"Komponente u_1, u_2\")\n",
    "\n",
    "hold on\n",
    "plot(tdiskret, uDiskret(:,1), \"Color\", \"blue\")\n",
    "plot(tdiskret, uDiskret(:,2), \"Color\", \"red\")\n",
    "\n",
    "# Fuer komplexe Eigenwerte plotten wir die einhuellende Exponentialfunktion\n",
    "if (beta > 0) \n",
    "uGrowth = abs(norm(u0))*exp(tdiskret/tGrowth);\n",
    "plot(tdiskret, uGrowth, \"Color\", \"Black\")\n",
    "plot(tdiskret, -uGrowth, \"Color\", \"Black\")\n",
    "legend(\"Komponente u_1\", \"Komponente u_2\", \"Einhuellende\")\n",
    "else\n",
    "legend(\"Komponente u_1\", \"Komponente u_2\")\n",
    "endif\n"
   ]
  },
  {
   "cell_type": "code",
   "execution_count": null,
   "metadata": {},
   "outputs": [],
   "source": []
  }
 ],
 "metadata": {
  "kernelspec": {
   "display_name": "Octave",
   "language": "octave",
   "name": "octave"
  },
  "language_info": {
   "file_extension": ".m",
   "help_links": [
    {
     "text": "GNU Octave",
     "url": "https://www.gnu.org/software/octave/support.html"
    },
    {
     "text": "Octave Kernel",
     "url": "https://github.com/Calysto/octave_kernel"
    },
    {
     "text": "MetaKernel Magics",
     "url": "https://metakernel.readthedocs.io/en/latest/source/README.html"
    }
   ],
   "mimetype": "text/x-octave",
   "name": "octave",
   "version": "5.2.0"
  }
 },
 "nbformat": 4,
 "nbformat_minor": 2
}
