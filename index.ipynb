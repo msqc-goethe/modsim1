{
 "cells": [
  {
   "cell_type": "markdown",
   "metadata": {},
   "source": [
    "# Online-Kurs zu Modellierung und Simulation \n",
    "(c) Goethe-Universität Frankfurt, [G-CSC](https://gcsc.uni-frankfurt.de/simulation-and-modelling), 2020-\n",
    "\n",
    "\n",
    "\n",
    "## Gewöhnliche Differentialgleichungen\n",
    "\n",
    "Beispiele mit Octave:\n",
    "* [Einschrittverfahren (allgemein)](octave/beispiel02-einschrittverfahren/beispiel02-einschrittverfahren.ipynb)  \n",
    "* [Lotka-Volterra-System](octave/beispiel01-lotka-volterra/beispiel01-LotkaVolterra.ipynb)\n",
    "* [SIR-Modell](octave/beispiel01-lotka-volterra/beispiel01-SIR.ipynb)\n",
    "\n",
    "Beispiele mit C++:\n",
    "* [Explizites Euler-Verfahren](cpp/beispiel01-euler-dahlquist/beispiel01-euler-dahlquist.ipynb) auch mit [C++-Templates](beispiel02-einschritt-mit-templates/beispiel02-dahlquist.ipynb)\n",
    "* [Einschrittverfahren mit C++-Templates](beispiel02-einschritt-mit-templates/beispiel02-dahlquist.ipynb)\n",
    "* [Lotka-Volterra-System](octave/beispiel01-lotka-volterra/beispiel01-LotkaVolterra.ipynb) sowie [C++-Templates](cpp/beispiel02-einschritt-mit-templates/beispiel02-lotka-volterra.ipynb)\n",
    "\n",
    "## Grundlagen\n",
    "* Taylorentwicklung: [Beispiel mit Octave](octave/beispiel03-taylor/beispiel03_TaylorEntwicklung.ipynb)\n"
   ]
  },
  {
   "cell_type": "code",
   "execution_count": null,
   "metadata": {},
   "outputs": [],
   "source": []
  }
 ],
 "metadata": {
  "kernelspec": {
   "display_name": "Python 3 (ipykernel)",
   "language": "python",
   "name": "python3"
  },
  "language_info": {
   "codemirror_mode": {
    "name": "ipython",
    "version": 3
   },
   "file_extension": ".py",
   "mimetype": "text/x-python",
   "name": "python",
   "nbconvert_exporter": "python",
   "pygments_lexer": "ipython3",
   "version": "3.12.2"
  }
 },
 "nbformat": 4,
 "nbformat_minor": 4
}
