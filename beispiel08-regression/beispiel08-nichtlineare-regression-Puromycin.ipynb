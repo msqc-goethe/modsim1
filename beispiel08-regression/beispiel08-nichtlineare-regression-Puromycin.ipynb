{
 "cells": [
  {
   "cell_type": "markdown",
   "metadata": {},
   "source": [
    "# Beispiel 9: b) Nichtlineare Regression mit dem Gauß-Newton-Verfahren\n",
    "\n",
    "Wir betrachten nun einen weiteren Datensatz (Quelle: M. A. Treloar: “Effects\n",
    "of Puromycin on Galactosyltransferase of Golgi Membranes” nach: D.M Bates & D.G. Watts: \"Nonlinear Regression Analysis and Its Applications\", Wiley & Sons, 1988).\n",
    "\n",
    "Dabei geht es um eine Substrat-vermittelte Reaktion:\n",
    "$$ P + S \\rightarrow E$$\n",
    "Die Geschwindigkeit dieser Reaktion $v$ hängt von der Konzentration von $x=[S]$ ab.  "
   ]
  },
  {
   "cell_type": "code",
   "execution_count": 1,
   "metadata": {
    "jupyter": {
     "source_hidden": true
    }
   },
   "outputs": [],
   "source": [
    "PuromycinData =[\n",
    "0.02 76 67;\n",
    "0.02 47 51;\n",
    "0.06 97 84;\n",
    "0.06 107 86;\n",
    "0.11 123 98;\n",
    "0.11 139 115;\n",
    "0.22 159 131;\n",
    "0.22 152 124;\n",
    "0.56 191 144;\n",
    "0.56 201 158;\n",
    "1.10 207 160;\n",
    "1.10 200 NaN];"
   ]
  },
  {
   "cell_type": "code",
   "execution_count": 2,
   "metadata": {
    "jupyter": {
     "source_hidden": true
    }
   },
   "outputs": [],
   "source": [
    "# Shortcuts\n",
    "xlin = linspace(0.0,1.1,51);\n",
    "xconc = PuromycinData(:,1);\n",
    "vtreated = PuromycinData(:,2);\n",
    "vuntreated = PuromycinData(:,3);"
   ]
  },
  {
   "cell_type": "code",
   "execution_count": 3,
   "metadata": {
    "collapsed": true,
    "jupyter": {
     "outputs_hidden": true,
     "source_hidden": true
    },
    "scrolled": true
   },
   "outputs": [
    {
     "data": {
      "text/plain": [
       "ans = {\n",
       "  [1,1] = gnuplot\n",
       "  [1,2] = notebook\n",
       "  [1,3] = plotly\n",
       "}\n"
      ]
     },
     "metadata": {},
     "output_type": "display_data"
    }
   ],
   "source": [
    "available_graphics_toolkits()"
   ]
  },
  {
   "cell_type": "code",
   "execution_count": 4,
   "metadata": {
    "jupyter": {
     "source_hidden": true
    }
   },
   "outputs": [
    {
     "data": {
      "text/plain": [
       "myColorFit = #FF8800\n"
      ]
     },
     "metadata": {},
     "output_type": "display_data"
    },
    {
     "data": {
      "text/plain": [
       "myColorExp = #0000FF\n"
      ]
     },
     "metadata": {},
     "output_type": "display_data"
    }
   ],
   "source": [
    "# graphics_toolkit(\"notebook\")\n",
    "# %graphics_toolkit(\"gnuplot\")\n",
    "# %setenv(\"GNUTERM\", \"qt\")\n",
    "myColorFit = \"#FF8800\" # Orange\n",
    "myColorExp = \"#0000FF\" # Blue"
   ]
  },
  {
   "cell_type": "code",
   "execution_count": 5,
   "metadata": {
    "jupyter": {
     "source_hidden": true
    }
   },
   "outputs": [],
   "source": [
    "graphics_toolkit(\"plotly\")"
   ]
  },
  {
   "cell_type": "markdown",
   "metadata": {},
   "source": [
    "## Modellierung\n",
    "Es wird angenommen, dass die Geschwindigkeit der Reaktion über eine Michaelis-Menten-Kinetik beschrieben werden kann:\n",
    "$$ v(x) = \\frac{\\theta_1 x}{ \\theta_2 + x}\n",
    "$$\n",
    "Dabei sind die Modell-Parameter $\\theta_1$, $\\theta_2$ zu bestimmen. Die Größe $x$ ist die experimentell verwendete Substrat-Konzentration. "
   ]
  },
  {
   "cell_type": "code",
   "execution_count": 6,
   "metadata": {
    "jupyter": {
     "source_hidden": true
    }
   },
   "outputs": [],
   "source": [
    "function fval = MichaelisMenten(x, theta)\n",
    "    fval = (theta(1).*x)./(theta(2) + x);\n",
    "endfunction"
   ]
  },
  {
   "cell_type": "code",
   "execution_count": 7,
   "metadata": {
    "jupyter": {
     "source_hidden": true
    }
   },
   "outputs": [
    {
     "data": {
      "application/vnd.plotly.v1+json": {
       "data": [
        {
         "line": {
          "color": "rgb(255,136,0)",
          "dash": "solid",
          "width": 3
         },
         "marker": {
          "color": "rgb(255,136,0)",
          "line": {
           "color": "rgb(255,136,0)"
          },
          "size": 6,
          "symbol": "none"
         },
         "mode": "lines",
         "name": "",
         "showlegend": false,
         "type": "scatter",
         "visibility": true,
         "x": [
          0,
          0.022000000000000002,
          0.044000000000000004,
          0.066,
          0.08800000000000001,
          0.11000000000000001,
          0.132,
          0.15400000000000003,
          0.17600000000000002,
          0.198,
          0.22000000000000003,
          0.24200000000000002,
          0.264,
          0.28600000000000003,
          0.30800000000000005,
          0.33,
          0.35200000000000004,
          0.37400000000000005,
          0.396,
          0.41800000000000004,
          0.44000000000000006,
          0.462,
          0.48400000000000004,
          0.506,
          0.528,
          0.55,
          0.5720000000000001,
          0.5940000000000001,
          0.616,
          0.638,
          0.66,
          0.682,
          0.7040000000000001,
          0.7260000000000001,
          0.748,
          0.77,
          0.792,
          0.8140000000000001,
          0.8360000000000001,
          0.8580000000000001,
          0.8800000000000001,
          0.902,
          0.924,
          0.9460000000000001,
          0.9680000000000001,
          0.9900000000000001,
          1.012,
          1.034,
          1.056,
          1.078,
          1.1
         ],
         "xaxis": "x",
         "y": [
          0,
          21.63934426229508,
          36.666666666666664,
          47.71084337349397,
          56.17021276595745,
          62.857142857142854,
          68.27586206896551,
          72.75590551181104,
          76.52173913043478,
          79.73154362416106,
          82.49999999999999,
          84.91228070175438,
          87.03296703296704,
          88.91191709844561,
          90.58823529411767,
          92.09302325581395,
          93.45132743362831,
          94.68354430379748,
          95.80645161290323,
          96.83397683397683,
          97.77777777777779,
          98.6476868327402,
          99.45205479452055,
          100.1980198019802,
          100.89171974522293,
          101.53846153846153,
          102.14285714285715,
          102.70893371757927,
          103.24022346368716,
          103.739837398374,
          104.21052631578948,
          104.65473145780051,
          105.07462686567165,
          105.47215496368038,
          105.84905660377359,
          106.20689655172414,
          106.54708520179372,
          106.87089715536105,
          107.17948717948718,
          107.47390396659708,
          107.75510204081633,
          108.0239520958084,
          108.28125000000001,
          108.52772466539197,
          108.76404494382022,
          108.9908256880734,
          109.20863309352517,
          109.4179894179894,
          109.61937716262975,
          109.81324278438031,
          109.99999999999999
         ],
         "yaxis": "y"
        },
        {
         "line": {
          "color": "rgb(0, 0, 0)",
          "dash": "dot",
          "width": 3
         },
         "marker": {
          "color": "rgb(0, 0, 0)",
          "line": {
           "color": "rgb(0, 0, 0)"
          },
          "size": 6,
          "symbol": "none"
         },
         "mode": "lines",
         "name": "",
         "showlegend": false,
         "type": "scatter",
         "visibility": true,
         "x": [
          0,
          0.1
         ],
         "xaxis": "x",
         "y": [
          60,
          60
         ],
         "yaxis": "y"
        },
        {
         "line": {
          "color": "rgb(0, 0, 0)",
          "dash": "dot",
          "width": 3
         },
         "marker": {
          "color": "rgb(0, 0, 0)",
          "line": {
           "color": "rgb(0, 0, 0)"
          },
          "size": 6,
          "symbol": "none"
         },
         "mode": "lines",
         "name": "",
         "showlegend": false,
         "type": "scatter",
         "visibility": true,
         "x": [
          0.1,
          0.1
         ],
         "xaxis": "x",
         "y": [
          0,
          60
         ],
         "yaxis": "y"
        }
       ],
       "layout": {
        "height": 420,
        "hovermode": "closest",
        "margin": {
         "b": 0,
         "l": 0,
         "r": 0,
         "t": 0
        },
        "plot_bgcolor": "rgba(0, 0, 0, 0)",
        "showlegend": false,
        "width": 560,
        "xaxis": {
         "anchor": "y",
         "autorange": false,
         "domain": [
          0.13,
          0.905
         ],
         "exponentformat": "none",
         "gridcolor": "rgba(38,38,38,0.15)",
         "gridwidth": 1,
         "linecolor": "rgb(38,38,38)",
         "linewidth": 1,
         "mirror": "ticks",
         "range": [
          0,
          1.4000000000000001
         ],
         "showgrid": false,
         "showline": true,
         "side": "bottom",
         "spikedash": "solid",
         "spikemode": "across",
         "spikesides": false,
         "spikethickness": 1,
         "tickangle": 0,
         "tickcolor": "rgb(38,38,38)",
         "tickfont": {
          "color": "rgb(38,38,38)",
          "size": 10
         },
         "ticklen": 3,
         "ticks": "inside",
         "ticktext": [
          "0",
          "0.2",
          "0.4",
          "0.6",
          "0.8",
          "1",
          "1.2",
          "1.4"
         ],
         "tickvals": [
          0,
          0.2,
          0.4,
          0.6000000000000001,
          0.8,
          1,
          1.2000000000000002,
          1.4000000000000001
         ],
         "title": {
          "font": {
           "color": "rgb(0, 0, 0)",
           "size": 11
          },
          "text": ""
         },
         "type": "linear",
         "visible": true,
         "zeroline": false
        },
        "yaxis": {
         "anchor": "x",
         "autorange": false,
         "domain": [
          0.11,
          0.9249999999999999
         ],
         "exponentformat": "none",
         "gridcolor": "rgba(38,38,38,0.15)",
         "gridwidth": 1,
         "linecolor": "rgb(38,38,38)",
         "linewidth": 1,
         "mirror": "ticks",
         "range": [
          0,
          120
         ],
         "showgrid": false,
         "showline": true,
         "side": "left",
         "spikedash": "solid",
         "spikemode": "across",
         "spikesides": false,
         "spikethickness": 1,
         "tickangle": 0,
         "tickcolor": "rgb(38,38,38)",
         "tickfont": {
          "color": "rgb(38,38,38)",
          "size": 10
         },
         "ticklen": 3,
         "ticks": "inside",
         "ticktext": [
          "0",
          "20",
          "40",
          "60",
          "80",
          "100",
          "120"
         ],
         "tickvals": [
          0,
          20,
          40,
          60,
          80,
          100,
          120
         ],
         "title": {
          "font": {
           "color": "rgb(0, 0, 0)",
           "size": 11
          },
          "text": ""
         },
         "type": "linear",
         "visible": true,
         "zeroline": false
        }
       }
      },
      "image/png": "[encoded data removed]"
     },
     "metadata": {},
     "output_type": "display_data"
    },
    {
     "name": "stderr",
     "output_type": "stream",
     "text": [
      "warning: opengl_renderer::render_text: support for rendering text (FreeType) was unavailable or disabled when Octave was built\n",
      "warning: called from\n",
      "    axes at line 107 column 8\n",
      "    newplot at line 161 column 10\n",
      "    plot at line 234 column 9\n",
      "    cell[7] at line 3 column 1\n",
      "\n"
     ]
    }
   ],
   "source": [
    "vapprox = MichaelisMenten(xlin, [120,0.1]);\n",
    "clf;\n",
    "plot(xlin, vapprox, \"-\", \"linewidth\", 3, \"color\", myColorFit);\n",
    "line([0 0.1], [60 60], \"linestyle\", \":\", \"color\", \"k\", \"linewidth\", 3);\n",
    "line([0.1 0.1], [0 60], \"linestyle\", \":\", \"color\", \"k\", \"linewidth\", 3);"
   ]
  },
  {
   "cell_type": "markdown",
   "metadata": {},
   "source": [
    "## Daten"
   ]
  },
  {
   "cell_type": "code",
   "execution_count": 8,
   "metadata": {
    "collapsed": true,
    "jupyter": {
     "outputs_hidden": true,
     "source_hidden": true
    }
   },
   "outputs": [
    {
     "data": {
      "text/html": [
       "<table><tr><th><i>theta0<i></th><th>1</th><th>2</th></tr><tr><th>1</th><td>120</td><td>0.4</td></tr></table>"
      ],
      "text/plain": [
       "theta0 =    120.0000     0.4000\n"
      ]
     },
     "metadata": {},
     "output_type": "display_data"
    }
   ],
   "source": [
    "theta0 = [120, 0.4]\n",
    "#theta0 = [300, 0.5]"
   ]
  },
  {
   "cell_type": "code",
   "execution_count": 9,
   "metadata": {
    "jupyter": {
     "source_hidden": true
    }
   },
   "outputs": [
    {
     "data": {
      "application/vnd.plotly.v1+json": {
       "data": [
        {
         "line": {
          "color": "rgb(0,0,255)",
          "width": 2
         },
         "marker": {
          "color": "rgb(0,0,255)",
          "line": {
           "color": "rgb(0,0,255)"
          },
          "size": 6,
          "symbol": "asterisk-open"
         },
         "mode": "markers",
         "name": "",
         "showlegend": false,
         "type": "scatter",
         "visibility": true,
         "x": [
          0.02,
          0.02,
          0.06,
          0.06,
          0.11,
          0.11,
          0.22,
          0.22,
          0.56,
          0.56,
          1.1,
          1.1
         ],
         "xaxis": "x",
         "y": [
          76,
          47,
          97,
          107,
          123,
          139,
          159,
          152,
          191,
          201,
          207,
          200
         ],
         "yaxis": "y"
        },
        {
         "line": {
          "color": "rgb(255,136,0)",
          "dash": "dash",
          "width": 2
         },
         "marker": {
          "color": "rgb(255,136,0)",
          "line": {
           "color": "rgb(255,136,0)"
          },
          "size": 6,
          "symbol": "none"
         },
         "mode": "lines",
         "name": "",
         "showlegend": false,
         "type": "scatter",
         "visibility": true,
         "x": [
          0,
          0.022000000000000002,
          0.044000000000000004,
          0.066,
          0.08800000000000001,
          0.11000000000000001,
          0.132,
          0.15400000000000003,
          0.17600000000000002,
          0.198,
          0.22000000000000003,
          0.24200000000000002,
          0.264,
          0.28600000000000003,
          0.30800000000000005,
          0.33,
          0.35200000000000004,
          0.37400000000000005,
          0.396,
          0.41800000000000004,
          0.44000000000000006,
          0.462,
          0.48400000000000004,
          0.506,
          0.528,
          0.55,
          0.5720000000000001,
          0.5940000000000001,
          0.616,
          0.638,
          0.66,
          0.682,
          0.7040000000000001,
          0.7260000000000001,
          0.748,
          0.77,
          0.792,
          0.8140000000000001,
          0.8360000000000001,
          0.8580000000000001,
          0.8800000000000001,
          0.902,
          0.924,
          0.9460000000000001,
          0.9680000000000001,
          0.9900000000000001,
          1.012,
          1.034,
          1.056,
          1.078,
          1.1
         ],
         "xaxis": "x",
         "y": [
          0,
          6.2559241706161135,
          11.891891891891893,
          16.99570815450644,
          21.63934426229508,
          25.88235294117647,
          29.774436090225564,
          33.357400722021666,
          36.666666666666664,
          39.7324414715719,
          42.58064516129032,
          45.23364485981309,
          47.71084337349397,
          50.02915451895044,
          52.20338983050848,
          54.24657534246575,
          56.17021276595745,
          57.98449612403102,
          59.698492462311556,
          61.32029339853301,
          62.857142857142854,
          64.31554524361948,
          65.70135746606334,
          67.01986754966887,
          68.27586206896551,
          69.47368421052632,
          70.61728395061729,
          71.7102615694165,
          72.75590551181102,
          73.75722543352602,
          74.71698113207547,
          75.63770794824399,
          76.52173913043478,
          77.37122557726465,
          78.18815331010452,
          78.97435897435898,
          79.73154362416106,
          80.46128500823724,
          81.16504854368931,
          81.8441971383148,
          82.49999999999999,
          83.1336405529954,
          83.74622356495469,
          84.33878157503715,
          84.91228070175438,
          85.46762589928058,
          86.0056657223796,
          86.52719665271965,
          87.03296703296704,
          87.52368064952638,
          88
         ],
         "yaxis": "y"
        }
       ],
       "layout": {
        "height": 420,
        "hovermode": "closest",
        "margin": {
         "b": 0,
         "l": 0,
         "r": 0,
         "t": 0
        },
        "plot_bgcolor": "rgba(0, 0, 0, 0)",
        "showlegend": false,
        "width": 560,
        "xaxis": {
         "anchor": "y",
         "autorange": false,
         "domain": [
          0.13,
          0.905
         ],
         "exponentformat": "none",
         "gridcolor": "rgba(38,38,38,0.15)",
         "gridwidth": 1,
         "linecolor": "rgb(38,38,38)",
         "linewidth": 1,
         "mirror": false,
         "range": [
          0,
          1.4000000000000001
         ],
         "showgrid": false,
         "showline": true,
         "side": "bottom",
         "spikedash": "solid",
         "spikemode": "across",
         "spikesides": false,
         "spikethickness": 1,
         "tickangle": 0,
         "tickcolor": "rgb(38,38,38)",
         "tickfont": {
          "color": "rgb(38,38,38)",
          "size": 10
         },
         "ticklen": 3,
         "ticks": "inside",
         "ticktext": [
          "0",
          "0.2",
          "0.4",
          "0.6",
          "0.8",
          "1",
          "1.2",
          "1.4"
         ],
         "tickvals": [
          0,
          0.2,
          0.4,
          0.6000000000000001,
          0.8,
          1,
          1.2000000000000002,
          1.4000000000000001
         ],
         "title": {
          "font": {
           "color": "rgb(38,38,38)",
           "size": 11
          },
          "text": "Concentration (ppm)"
         },
         "type": "linear",
         "visible": true,
         "zeroline": false
        },
        "yaxis": {
         "anchor": "x",
         "autorange": false,
         "domain": [
          0.11,
          0.9249999999999999
         ],
         "exponentformat": "none",
         "gridcolor": "rgba(38,38,38,0.15)",
         "gridwidth": 1,
         "linecolor": "rgb(38,38,38)",
         "linewidth": 1,
         "mirror": false,
         "range": [
          0,
          250
         ],
         "showgrid": false,
         "showline": true,
         "side": "left",
         "spikedash": "solid",
         "spikemode": "across",
         "spikesides": false,
         "spikethickness": 1,
         "tickangle": 0,
         "tickcolor": "rgb(38,38,38)",
         "tickfont": {
          "color": "rgb(38,38,38)",
          "size": 10
         },
         "ticklen": 3,
         "ticks": "inside",
         "ticktext": [
          "0",
          "50",
          "100",
          "150",
          "200",
          "250"
         ],
         "tickvals": [
          0,
          50,
          100,
          150,
          200,
          250
         ],
         "title": {
          "font": {
           "color": "rgb(38,38,38)",
           "size": 11
          },
          "text": "Reation rate (counts/min<sup>2</sup>)"
         },
         "type": "linear",
         "visible": true,
         "zeroline": false
        }
       }
      },
      "image/png": "[encoded data removed]"
     },
     "metadata": {},
     "output_type": "display_data"
    }
   ],
   "source": [
    "vapprox = MichaelisMenten(xlin, theta0 );\n",
    "\n",
    "hold on\n",
    "\n",
    "xlabel(\"Concentration (ppm)\")\n",
    "ylabel(\"Reation rate (counts/min^2)\")\n",
    "\n",
    "plot(xconc, vtreated, \"*\", \"linewidth\", 2, \"color\", myColorExp)\n",
    "\n",
    "#plot(xconc, vuntreated, \"+\", \"linewidth\", 2, \"color\", myColorExp)\n",
    "plot(xlin, vapprox, \"--\", \"linewidth\", 2,  \"color\", myColorFit)\n",
    "\n",
    "\n",
    "#legend(\"Messung\");\n",
    "\n",
    "#legend(\"Messung A\", \"Messung B\", \"Modell\");"
   ]
  },
  {
   "cell_type": "markdown",
   "metadata": {},
   "source": [
    "## Gauß-Newton-Verfahren\n",
    "\n",
    "Die Ableitungen $\\frac{\\partial f}{\\partial \\theta_i}(x, \\theta)$ sollen numerisch bestimmt werden:"
   ]
  },
  {
   "cell_type": "code",
   "execution_count": 10,
   "metadata": {
    "jupyter": {
     "source_hidden": true
    }
   },
   "outputs": [],
   "source": [
    "function fprime = num_deriv(f, i, x, theta)\n",
    "    eps = 1e-8;\n",
    "    delta = zeros(size(theta));\n",
    "    delta(i) = abs(theta(i)*eps);\n",
    "    deltaf = f(x,theta+delta) - f(x,theta);\n",
    "    fprime = deltaf/abs(delta(i));\n",
    "endfunction"
   ]
  },
  {
   "cell_type": "markdown",
   "metadata": {},
   "source": [
    "Definiere Hilfsfunktion zur Liniensuche:"
   ]
  },
  {
   "cell_type": "code",
   "execution_count": 11,
   "metadata": {
    "jupyter": {
     "source_hidden": true
    }
   },
   "outputs": [],
   "source": [
    "function jopt=LineSearch(f,x,y, mytheta, mydelta, lambda)\n",
    "    jopt=1;\n",
    "    obj_opt=1e+60;\n",
    "    % disp (\"=== LS:\")\n",
    "    % mytheta\n",
    "    % mydelta\n",
    "    \n",
    "    for j=1:length(lambda)\n",
    "        % j\n",
    "        tentative = mytheta + lambda(j)*mydelta;\n",
    "        r = f(x, tentative) - y;\n",
    "        \n",
    "        obj = norm (r);\n",
    "        obj =obj*obj;\n",
    "        \n",
    "        if (obj < obj_opt)\n",
    "            jopt = j;\n",
    "            obj_opt = obj;\n",
    "        end \n",
    "    end\n",
    "endfunction"
   ]
  },
  {
   "cell_type": "markdown",
   "metadata": {},
   "source": [
    "Das Gauß-Newton-Verfahren bestimmt\n",
    "$$\\theta^{(k+1)} := \\theta^{(k)} + \\lambda \\Delta$$\n",
    "über \n",
    "$$ J^T J \\Delta = -J^T r$$"
   ]
  },
  {
   "cell_type": "code",
   "execution_count": 12,
   "metadata": {
    "jupyter": {
     "source_hidden": true
    }
   },
   "outputs": [],
   "source": [
    "function theta_opt = GaussNewton(f, x, y, theta0, nsteps)\n",
    "   \n",
    "    % Startwert\n",
    "    mytheta(1,:) = theta0;\n",
    "\n",
    "    % Parameter fuer Liniensuche\n",
    "    lambda = [1 0.5 0.25 0.125 0.0625 0.0625/2, 0]; \n",
    "    \n",
    "    % Iteration\n",
    "    for k=1:nsteps\n",
    "    \n",
    "        % Ausgabe\n",
    "        disp (\"==============================\")\n",
    "        k\n",
    "        mytheta(end,:)\n",
    "    \n",
    "        % Berechne Residuum und dessen Norm.\n",
    "        r = f(x, mytheta(end,:)) - y;\n",
    "        obj = norm (r);\n",
    "        obj =obj*obj\n",
    "    \n",
    "        % Berechne Jacobi-Matrix bzgl. der Parameter.\n",
    "        J(:,1) = num_deriv(f, 1, x, mytheta(end,:));\n",
    "        J(:,2) = num_deriv(f, 2, x, mytheta(end,:));\n",
    "\n",
    "        # Abbruchkriterium\n",
    "        myeps = norm(J'*r);\n",
    "\n",
    "        % Berechne Abstiegsrichtung über Normalengleichung\n",
    "        delta = linsolve(J'*J, -J'*r)'\n",
    "\n",
    "        % Verbesserung 1: QR-Zerlegung\n",
    "        % [Q, R] = qr (J);\n",
    "        %q=Q'*r;       \n",
    "        %delta=linsolve(R(1:2,1:2), -q(1:2))'\n",
    "        %scJ=R(1,1)/R(2,2)\n",
    "\n",
    "        % Verbesserung 2: Liniensuche zur Optimierung des Abstiegs.\n",
    "        %j_opt = 1\n",
    "        j_opt = LineSearch(f,x,y, mytheta(end,:), delta, lambda); \n",
    "    \n",
    "        # Auswahl der naechsten Iterierten     \n",
    "        mytheta(end+1,:) = mytheta(end,:) + lambda(j_opt)*delta;\n",
    "\n",
    "        if (myeps < 1e-8) \n",
    "            break; \n",
    "        endif\n",
    "        \n",
    "    end % for nsteps\n",
    "\n",
    "    % Rueckgabe\n",
    "    theta_opt = mytheta;\n",
    "end"
   ]
  },
  {
   "cell_type": "markdown",
   "metadata": {},
   "source": [
    "### Resultate (Fall A) \n",
    "Fall A: Mit Puromycin (treated)"
   ]
  },
  {
   "cell_type": "code",
   "execution_count": 28,
   "metadata": {
    "collapsed": true,
    "jupyter": {
     "outputs_hidden": true,
     "source_hidden": true
    },
    "scrolled": true
   },
   "outputs": [
    {
     "name": "stdout",
     "output_type": "stream",
     "text": [
      "==============================\n"
     ]
    },
    {
     "data": {
      "text/plain": [
       "k = 1\n"
      ]
     },
     "metadata": {},
     "output_type": "display_data"
    },
    {
     "data": {
      "text/html": [
       "<table><tr><th><i>ans<i></th><th>1</th><th>2</th></tr><tr><th>1</th><td>120</td><td>0.4</td></tr></table>"
      ],
      "text/plain": [
       "ans =    120.0000     0.4000\n"
      ]
     },
     "metadata": {},
     "output_type": "display_data"
    },
    {
     "data": {
      "text/plain": [
       "obj = 1.2787e+05\n"
      ]
     },
     "metadata": {},
     "output_type": "display_data"
    },
    {
     "data": {
      "text/html": [
       "<table><tr><th><i>delta<i></th><th>1</th><th>2</th></tr><tr><th>1</th><td>-14.627</td><td>-1.9888</td></tr></table>"
      ],
      "text/plain": [
       "delta =   -14.6270   -1.9888\n"
      ]
     },
     "metadata": {},
     "output_type": "display_data"
    },
    {
     "name": "stdout",
     "output_type": "stream",
     "text": [
      "==============================\n"
     ]
    },
    {
     "data": {
      "text/plain": [
       "k = 2\n"
      ]
     },
     "metadata": {},
     "output_type": "display_data"
    },
    {
     "data": {
      "text/html": [
       "<table><tr><th><i>ans<i></th><th>1</th><th>2</th></tr><tr><th>1</th><td>118.172</td><td>0.1514</td></tr></table>"
      ],
      "text/plain": [
       "ans =    118.1716     0.1514\n"
      ]
     },
     "metadata": {},
     "output_type": "display_data"
    },
    {
     "data": {
      "text/plain": [
       "obj = 8.3514e+04\n"
      ]
     },
     "metadata": {},
     "output_type": "display_data"
    },
    {
     "data": {
      "text/html": [
       "<table><tr><th><i>delta<i></th><th>1</th><th>2</th></tr><tr><th>1</th><td>86.2044</td><td>-0.248391</td></tr></table>"
      ],
      "text/plain": [
       "delta =    86.2044   -0.2484\n"
      ]
     },
     "metadata": {},
     "output_type": "display_data"
    },
    {
     "name": "stdout",
     "output_type": "stream",
     "text": [
      "==============================\n"
     ]
    },
    {
     "data": {
      "text/plain": [
       "k = 3\n"
      ]
     },
     "metadata": {},
     "output_type": "display_data"
    },
    {
     "data": {
      "text/html": [
       "<table><tr><th><i>ans<i></th><th>1</th><th>2</th></tr><tr><th>1</th><td>161.274</td><td>0.0272043</td></tr></table>"
      ],
      "text/plain": [
       "ans =    1.6127e+02   2.7204e-02\n"
      ]
     },
     "metadata": {},
     "output_type": "display_data"
    },
    {
     "data": {
      "text/plain": [
       "obj = 9059.1\n"
      ]
     },
     "metadata": {},
     "output_type": "display_data"
    },
    {
     "data": {
      "text/html": [
       "<table><tr><th><i>delta<i></th><th>1</th><th>2</th></tr><tr><th>1</th><td>43.0546</td><td>0.0260034</td></tr></table>"
      ],
      "text/plain": [
       "delta =    4.3055e+01   2.6003e-02\n"
      ]
     },
     "metadata": {},
     "output_type": "display_data"
    },
    {
     "name": "stdout",
     "output_type": "stream",
     "text": [
      "==============================\n"
     ]
    },
    {
     "data": {
      "text/plain": [
       "k = 4\n"
      ]
     },
     "metadata": {},
     "output_type": "display_data"
    },
    {
     "data": {
      "text/html": [
       "<table><tr><th><i>ans<i></th><th>1</th><th>2</th></tr><tr><th>1</th><td>204.328</td><td>0.0532077</td></tr></table>"
      ],
      "text/plain": [
       "ans =    2.0433e+02   5.3208e-02\n"
      ]
     },
     "metadata": {},
     "output_type": "display_data"
    },
    {
     "data": {
      "text/plain": [
       "obj = 1419.3\n"
      ]
     },
     "metadata": {},
     "output_type": "display_data"
    },
    {
     "data": {
      "text/html": [
       "<table><tr><th><i>delta<i></th><th>1</th><th>2</th></tr><tr><th>1</th><td>7.30336</td><td>0.00914083</td></tr></table>"
      ],
      "text/plain": [
       "delta =    7.3034e+00   9.1408e-03\n"
      ]
     },
     "metadata": {},
     "output_type": "display_data"
    },
    {
     "name": "stdout",
     "output_type": "stream",
     "text": [
      "==============================\n"
     ]
    },
    {
     "data": {
      "text/plain": [
       "k = 5\n"
      ]
     },
     "metadata": {},
     "output_type": "display_data"
    },
    {
     "data": {
      "text/html": [
       "<table><tr><th><i>ans<i></th><th>1</th><th>2</th></tr><tr><th>1</th><td>211.632</td><td>0.0623486</td></tr></table>"
      ],
      "text/plain": [
       "ans =    2.1163e+02   6.2349e-02\n"
      ]
     },
     "metadata": {},
     "output_type": "display_data"
    },
    {
     "data": {
      "text/plain": [
       "obj = 1200.6\n"
      ]
     },
     "metadata": {},
     "output_type": "display_data"
    },
    {
     "data": {
      "text/html": [
       "<table><tr><th><i>delta<i></th><th>1</th><th>2</th></tr><tr><th>1</th><td>0.933255</td><td>0.00158195</td></tr></table>"
      ],
      "text/plain": [
       "delta =    9.3325e-01   1.5820e-03\n"
      ]
     },
     "metadata": {},
     "output_type": "display_data"
    },
    {
     "name": "stdout",
     "output_type": "stream",
     "text": [
      "==============================\n"
     ]
    },
    {
     "data": {
      "text/plain": [
       "k = 6\n"
      ]
     },
     "metadata": {},
     "output_type": "display_data"
    },
    {
     "data": {
      "text/html": [
       "<table><tr><th><i>ans<i></th><th>1</th><th>2</th></tr><tr><th>1</th><td>212.565</td><td>0.0639305</td></tr></table>"
      ],
      "text/plain": [
       "ans =    2.1257e+02   6.3931e-02\n"
      ]
     },
     "metadata": {},
     "output_type": "display_data"
    },
    {
     "data": {
      "text/plain": [
       "obj = 1195.5\n"
      ]
     },
     "metadata": {},
     "output_type": "display_data"
    },
    {
     "data": {
      "text/html": [
       "<table><tr><th><i>delta<i></th><th>1</th><th>2</th></tr><tr><th>1</th><td>0.106841</td><td>0.000172147</td></tr></table>"
      ],
      "text/plain": [
       "delta =    1.0684e-01   1.7215e-04\n"
      ]
     },
     "metadata": {},
     "output_type": "display_data"
    },
    {
     "name": "stdout",
     "output_type": "stream",
     "text": [
      "==============================\n"
     ]
    },
    {
     "data": {
      "text/plain": [
       "k = 7\n"
      ]
     },
     "metadata": {},
     "output_type": "display_data"
    },
    {
     "data": {
      "text/html": [
       "<table><tr><th><i>ans<i></th><th>1</th><th>2</th></tr><tr><th>1</th><td>212.672</td><td>0.0641027</td></tr></table>"
      ],
      "text/plain": [
       "ans =    2.1267e+02   6.4103e-02\n"
      ]
     },
     "metadata": {},
     "output_type": "display_data"
    },
    {
     "data": {
      "text/plain": [
       "obj = 1195.4\n"
      ]
     },
     "metadata": {},
     "output_type": "display_data"
    },
    {
     "data": {
      "text/html": [
       "<table><tr><th><i>delta<i></th><th>1</th><th>2</th></tr><tr><th>1</th><td>0.0107488</td><td>1.68081e-05</td></tr></table>"
      ],
      "text/plain": [
       "delta =    1.0749e-02   1.6808e-05\n"
      ]
     },
     "metadata": {},
     "output_type": "display_data"
    },
    {
     "name": "stdout",
     "output_type": "stream",
     "text": [
      "==============================\n"
     ]
    },
    {
     "data": {
      "text/plain": [
       "k = 8\n"
      ]
     },
     "metadata": {},
     "output_type": "display_data"
    },
    {
     "data": {
      "text/html": [
       "<table><tr><th><i>ans<i></th><th>1</th><th>2</th></tr><tr><th>1</th><td>212.683</td><td>0.0641195</td></tr></table>"
      ],
      "text/plain": [
       "ans =    2.1268e+02   6.4119e-02\n"
      ]
     },
     "metadata": {},
     "output_type": "display_data"
    },
    {
     "data": {
      "text/plain": [
       "obj = 1195.4\n"
      ]
     },
     "metadata": {},
     "output_type": "display_data"
    },
    {
     "data": {
      "text/html": [
       "<table><tr><th><i>delta<i></th><th>1</th><th>2</th></tr><tr><th>1</th><td>0.00104038</td><td>1.62141e-06</td></tr></table>"
      ],
      "text/plain": [
       "delta =    1.0404e-03   1.6214e-06\n"
      ]
     },
     "metadata": {},
     "output_type": "display_data"
    },
    {
     "name": "stdout",
     "output_type": "stream",
     "text": [
      "==============================\n"
     ]
    },
    {
     "data": {
      "text/plain": [
       "k = 9\n"
      ]
     },
     "metadata": {},
     "output_type": "display_data"
    },
    {
     "data": {
      "text/html": [
       "<table><tr><th><i>ans<i></th><th>1</th><th>2</th></tr><tr><th>1</th><td>212.684</td><td>0.0641211</td></tr></table>"
      ],
      "text/plain": [
       "ans =    2.1268e+02   6.4121e-02\n"
      ]
     },
     "metadata": {},
     "output_type": "display_data"
    },
    {
     "data": {
      "text/plain": [
       "obj = 1195.4\n"
      ]
     },
     "metadata": {},
     "output_type": "display_data"
    },
    {
     "data": {
      "text/html": [
       "<table><tr><th><i>delta<i></th><th>1</th><th>2</th></tr><tr><th>1</th><td>0.000100505</td><td>1.56603e-07</td></tr></table>"
      ],
      "text/plain": [
       "delta =    1.0050e-04   1.5660e-07\n"
      ]
     },
     "metadata": {},
     "output_type": "display_data"
    },
    {
     "name": "stdout",
     "output_type": "stream",
     "text": [
      "==============================\n"
     ]
    },
    {
     "data": {
      "text/plain": [
       "k = 10\n"
      ]
     },
     "metadata": {},
     "output_type": "display_data"
    },
    {
     "data": {
      "text/html": [
       "<table><tr><th><i>ans<i></th><th>1</th><th>2</th></tr><tr><th>1</th><td>212.684</td><td>0.0641213</td></tr></table>"
      ],
      "text/plain": [
       "ans =    2.1268e+02   6.4121e-02\n"
      ]
     },
     "metadata": {},
     "output_type": "display_data"
    },
    {
     "data": {
      "text/plain": [
       "obj = 1195.4\n"
      ]
     },
     "metadata": {},
     "output_type": "display_data"
    },
    {
     "data": {
      "text/html": [
       "<table><tr><th><i>delta<i></th><th>1</th><th>2</th></tr><tr><th>1</th><td>9.59491e-06</td><td>1.48431e-08</td></tr></table>"
      ],
      "text/plain": [
       "delta =    9.5949e-06   1.4843e-08\n"
      ]
     },
     "metadata": {},
     "output_type": "display_data"
    },
    {
     "data": {
      "text/html": [
       "<table><tr><th><i>theta_optA<i></th><th>1</th><th>2</th></tr><tr><th>1</th><td>120</td><td>0.4</td></tr><tr><th>2</th><td>118.172</td><td>0.1514</td></tr><tr><th>3</th><td>161.274</td><td>0.0272043</td></tr><tr><th>4</th><td>204.328</td><td>0.0532077</td></tr><tr><th>5</th><td>211.632</td><td>0.0623486</td></tr><tr><th>6</th><td>212.565</td><td>0.0639305</td></tr><tr><th>7</th><td>212.672</td><td>0.0641027</td></tr><tr><th>8</th><td>212.683</td><td>0.0641195</td></tr><tr><th>9</th><td>212.684</td><td>0.0641211</td></tr><tr><th>10</th><td>212.684</td><td>0.0641213</td></tr><tr><th>11</th><td>212.684</td><td>0.0641213</td></tr></table>"
      ],
      "text/plain": [
       "theta_optA =    1.2000e+02   4.0000e-01\n",
       "   1.1817e+02   1.5140e-01\n",
       "   1.6127e+02   2.7204e-02\n",
       "   2.0433e+02   5.3208e-02\n",
       "   2.1163e+02   6.2349e-02\n",
       "   2.1257e+02   6.3931e-02\n",
       "   2.1267e+02   6.4103e-02\n",
       "   2.1268e+02   6.4119e-02\n",
       "   2.1268e+02   6.4121e-02\n",
       "   2.1268e+02   6.4121e-02\n",
       "   2.1268e+02   6.4121e-02\n"
      ]
     },
     "metadata": {},
     "output_type": "display_data"
    }
   ],
   "source": [
    "theta_optA = GaussNewton(@MichaelisMenten, xconc, vtreated, theta0, 10)"
   ]
  },
  {
   "cell_type": "code",
   "execution_count": 14,
   "metadata": {},
   "outputs": [
    {
     "data": {
      "application/vnd.plotly.v1+json": {
       "data": [
        {
         "line": {
          "color": "rgb(0,0,255)",
          "width": 0.5
         },
         "marker": {
          "color": "rgb(0,0,255)",
          "line": {
           "color": "rgb(0,0,255)"
          },
          "size": 6,
          "symbol": "asterisk-open"
         },
         "mode": "markers",
         "name": "Messung A",
         "showlegend": true,
         "type": "scatter",
         "visibility": true,
         "x": [
          0.02,
          0.02,
          0.06,
          0.06,
          0.11,
          0.11,
          0.22,
          0.22,
          0.56,
          0.56,
          1.1,
          1.1
         ],
         "xaxis": "x",
         "y": [
          76,
          47,
          97,
          107,
          123,
          139,
          159,
          152,
          191,
          201,
          207,
          200
         ],
         "yaxis": "y"
        },
        {
         "line": {
          "color": "rgb(255,136,0)",
          "dash": "solid",
          "width": 3
         },
         "marker": {
          "color": "rgb(255,136,0)",
          "line": {
           "color": "rgb(255,136,0)"
          },
          "size": 6,
          "symbol": "none"
         },
         "mode": "lines",
         "name": "Fit",
         "showlegend": true,
         "type": "scatter",
         "visibility": true,
         "x": [
          0,
          0.022000000000000002,
          0.044000000000000004,
          0.066,
          0.08800000000000001,
          0.11000000000000001,
          0.132,
          0.15400000000000003,
          0.17600000000000002,
          0.198,
          0.22000000000000003,
          0.24200000000000002,
          0.264,
          0.28600000000000003,
          0.30800000000000005,
          0.33,
          0.35200000000000004,
          0.37400000000000005,
          0.396,
          0.41800000000000004,
          0.44000000000000006,
          0.462,
          0.48400000000000004,
          0.506,
          0.528,
          0.55,
          0.5720000000000001,
          0.5940000000000001,
          0.616,
          0.638,
          0.66,
          0.682,
          0.7040000000000001,
          0.7260000000000001,
          0.748,
          0.77,
          0.792,
          0.8140000000000001,
          0.8360000000000001,
          0.8580000000000001,
          0.8800000000000001,
          0.902,
          0.924,
          0.9460000000000001,
          0.9680000000000001,
          0.9900000000000001,
          1.012,
          1.034,
          1.056,
          1.078,
          1.1
         ],
         "xaxis": "x",
         "y": [
          0,
          54.33084974143234,
          86.55173753248594,
          107.87725861702589,
          123.03452416743878,
          134.36158766611564,
          143.14741344833834,
          150.16093927764598,
          155.88930147470455,
          160.65609375804823,
          164.6846841706727,
          168.1342296436301,
          171.12120225093082,
          173.73279980336275,
          176.03559939540415,
          178.0813126864244,
          179.9107155191395,
          181.55639359731967,
          183.04470048104622,
          184.39717950238733,
          185.63161336417988,
          186.76281040211597,
          187.80320149713776,
          188.76329878489383,
          189.65205210633357,
          190.47712884236304,
          191.24513568068272,
          191.9617959026433,
          192.63209226173151,
          193.2603830006561,
          193.85049671969043,
          194.40581046138763,
          194.92931437660525,
          195.4236655872315,
          195.89123329420988,
          196.3341367472023,
          196.75427735994637,
          197.15336599800307,
          197.53294626484012,
          197.89441445455503,
          198.2390367149566,
          198.5679638656755,
          198.88224423676985,
          199.18283482961598,
          199.47061105041058,
          199.74637522481717,
          200.01086406818212,
          200.2647552577913,
          200.50867323062354,
          200.74319431103123,
          200.96885125699313
         ],
         "yaxis": "y"
        },
        {
         "hoverinfo": "none",
         "line": {
          "color": "rgb(0,0,255)",
          "width": 0.5
         },
         "marker": {
          "color": "rgb(0,0,255)",
          "line": {
           "color": "rgb(0,0,255)"
          },
          "size": 6,
          "symbol": "none"
         },
         "mode": "none",
         "name": "",
         "showlegend": false,
         "type": "scatter",
         "visibility": true,
         "x": [
          3,
          18
         ],
         "xaxis": "x2",
         "y": [
          6.15,
          6.15
         ],
         "yaxis": "y2"
        },
        {
         "hoverinfo": "none",
         "line": {
          "color": "rgb(255,136,0)",
          "dash": "solid",
          "width": 3
         },
         "marker": {
          "color": "rgb(255,136,0)",
          "line": {
           "color": "rgb(255,136,0)"
          },
          "size": 6,
          "symbol": "none"
         },
         "mode": "lines",
         "name": "",
         "showlegend": false,
         "type": "scatter",
         "visibility": true,
         "x": [
          3,
          18
         ],
         "xaxis": "x2",
         "y": [
          15.450000000000001,
          15.450000000000001
         ],
         "yaxis": "y2"
        }
       ],
       "layout": {
        "annotations": [
         {
          "font": {
           "color": "rgb(0, 0, 0)",
           "size": 9
          },
          "showarrow": false,
          "text": "Messung A",
          "x": 21,
          "xanchor": "left",
          "xref": "x2",
          "y": 6.15,
          "yanchor": "middle",
          "yref": "y2"
         },
         {
          "font": {
           "color": "rgb(0, 0, 0)",
           "size": 9
          },
          "showarrow": false,
          "text": "Fit",
          "x": 21,
          "xanchor": "left",
          "xref": "x2",
          "y": 15.450000000000001,
          "yanchor": "middle",
          "yref": "y2"
         }
        ],
        "height": 420,
        "hovermode": "closest",
        "margin": {
         "b": 0,
         "l": 0,
         "r": 0,
         "t": 0
        },
        "plot_bgcolor": "rgba(0, 0, 0, 0)",
        "showlegend": false,
        "width": 560,
        "xaxis": {
         "anchor": "y",
         "autorange": false,
         "domain": [
          0.13,
          0.905
         ],
         "exponentformat": "none",
         "gridcolor": "rgba(38,38,38,0.15)",
         "gridwidth": 1,
         "linecolor": "rgb(38,38,38)",
         "linewidth": 1,
         "mirror": false,
         "range": [
          0,
          1.4000000000000001
         ],
         "showgrid": false,
         "showline": true,
         "side": "bottom",
         "spikedash": "solid",
         "spikemode": "across",
         "spikesides": false,
         "spikethickness": 1,
         "tickangle": 0,
         "tickcolor": "rgb(38,38,38)",
         "tickfont": {
          "color": "rgb(38,38,38)",
          "size": 10
         },
         "ticklen": 3,
         "ticks": "inside",
         "ticktext": [
          "0",
          "0.2",
          "0.4",
          "0.6",
          "0.8",
          "1",
          "1.2",
          "1.4"
         ],
         "tickvals": [
          0,
          0.2,
          0.4,
          0.6000000000000001,
          0.8,
          1,
          1.2000000000000002,
          1.4000000000000001
         ],
         "title": {
          "font": {
           "color": "rgb(38,38,38)",
           "size": 11
          },
          "text": "Concentration (ppm)"
         },
         "type": "linear",
         "visible": true,
         "zeroline": false
        },
        "xaxis2": {
         "anchor": "y2",
         "autorange": false,
         "domain": [
          0.8316700943197792,
          0.8903340188639559
         ],
         "exponentformat": "none",
         "fixedrange": true,
         "gridcolor": "rgba(38,38,38,0.15)",
         "gridwidth": 1,
         "linecolor": "rgb(38,38,38)",
         "linewidth": 1,
         "mirror": true,
         "range": [
          0,
          24
         ],
         "showgrid": false,
         "showline": true,
         "showspikes": false,
         "side": "bottom",
         "spikedash": "solid",
         "spikemode": "across",
         "spikesides": false,
         "spikethickness": 1,
         "tickangle": 0,
         "tickcolor": "rgb(38,38,38)",
         "tickfont": {
          "color": "rgb(38,38,38)",
          "size": 9
         },
         "ticklen": 3,
         "ticks": "",
         "ticktext": [],
         "tickvals": [],
         "title": {
          "font": {
           "color": "rgb(0, 0, 0)",
           "size": 9.9
          },
          "text": ""
         },
         "type": "linear",
         "visible": true,
         "zeroline": false
        },
        "yaxis": {
         "anchor": "x",
         "autorange": false,
         "domain": [
          0.11,
          0.9249999999999999
         ],
         "exponentformat": "none",
         "gridcolor": "rgba(38,38,38,0.15)",
         "gridwidth": 1,
         "linecolor": "rgb(38,38,38)",
         "linewidth": 1,
         "mirror": false,
         "range": [
          0,
          250
         ],
         "showgrid": false,
         "showline": true,
         "side": "left",
         "spikedash": "solid",
         "spikemode": "across",
         "spikesides": false,
         "spikethickness": 1,
         "tickangle": 0,
         "tickcolor": "rgb(38,38,38)",
         "tickfont": {
          "color": "rgb(38,38,38)",
          "size": 10
         },
         "ticklen": 3,
         "ticks": "inside",
         "ticktext": [
          "0",
          "50",
          "100",
          "150",
          "200",
          "250"
         ],
         "tickvals": [
          0,
          50,
          100,
          150,
          200,
          250
         ],
         "title": {
          "font": {
           "color": "rgb(38,38,38)",
           "size": 11
          },
          "text": "Reation rate (counts/min<sup>2</sup>)"
         },
         "type": "linear",
         "visible": true,
         "zeroline": false
        },
        "yaxis2": {
         "anchor": "x2",
         "autorange": false,
         "domain": [
          0.8350486490322622,
          0.9054453584852742
         ],
         "exponentformat": "none",
         "fixedrange": true,
         "gridcolor": "rgba(38,38,38,0.15)",
         "gridwidth": 1,
         "linecolor": "rgb(38,38,38)",
         "linewidth": 1,
         "mirror": true,
         "range": [
          21.6,
          0
         ],
         "showgrid": false,
         "showline": true,
         "showspikes": false,
         "side": "left",
         "spikedash": "solid",
         "spikemode": "across",
         "spikesides": false,
         "spikethickness": 1,
         "tickangle": 0,
         "tickcolor": "rgb(38,38,38)",
         "tickfont": {
          "color": "rgb(38,38,38)",
          "size": 9
         },
         "ticklen": 3,
         "ticks": "",
         "ticktext": [],
         "tickvals": [],
         "title": {
          "font": {
           "color": "rgb(0, 0, 0)",
           "size": 9.9
          },
          "text": ""
         },
         "type": "linear",
         "visible": true,
         "zeroline": false
        }
       }
      },
      "image/png": "[encoded data removed]"
     },
     "metadata": {},
     "output_type": "display_data"
    }
   ],
   "source": [
    "clf;\n",
    "hold on\n",
    "vapprox0 = MichaelisMenten(xlin, theta0);\n",
    "vapprox = MichaelisMenten(xlin, theta_optA(end,:));\n",
    "\n",
    "plot(xconc, vtreated, \"*\",  \"color\", myColorExp )\n",
    "plot(xlin, vapprox, \"-\",  \"linewidth\", 3,  \"color\", myColorFit)\n",
    "# plot(xlin, vapprox0, \"--\", \"linewidth\", 2,  \"color\", myColorFit)\n",
    "\n",
    "#h=legend(\"Messung A\", \"Fit\", \"Start\");\n",
    "h=legend(\"Messung A\", \"Fit\");\n",
    "legend(h, \"location\", \"northeast\")\n",
    "\n",
    "xlabel(\"Concentration (ppm)\")\n",
    "ylabel(\"Reation rate (counts/min^2)\")"
   ]
  },
  {
   "cell_type": "markdown",
   "metadata": {},
   "source": [
    "### Resultate (Fall B)\n",
    "Ohne Puromycin (untreated)"
   ]
  },
  {
   "cell_type": "code",
   "execution_count": 15,
   "metadata": {
    "collapsed": true,
    "jupyter": {
     "outputs_hidden": true
    }
   },
   "outputs": [
    {
     "name": "stdout",
     "output_type": "stream",
     "text": [
      "==============================\n"
     ]
    },
    {
     "data": {
      "text/plain": [
       "k = 1\n"
      ]
     },
     "metadata": {},
     "output_type": "display_data"
    },
    {
     "data": {
      "text/html": [
       "<table><tr><th><i>ans<i></th><th>1</th><th>2</th></tr><tr><th>1</th><td>120</td><td>0.4</td></tr></table>"
      ],
      "text/plain": [
       "ans =    120.0000     0.4000\n"
      ]
     },
     "metadata": {},
     "output_type": "display_data"
    },
    {
     "data": {
      "text/plain": [
       "obj = 6.1421e+04\n"
      ]
     },
     "metadata": {},
     "output_type": "display_data"
    },
    {
     "data": {
      "text/html": [
       "<table><tr><th><i>delta<i></th><th>1</th><th>2</th></tr><tr><th>1</th><td>-70.3206</td><td>-1.81021</td></tr></table>"
      ],
      "text/plain": [
       "delta =   -70.3206   -1.8102\n"
      ]
     },
     "metadata": {},
     "output_type": "display_data"
    },
    {
     "name": "stdout",
     "output_type": "stream",
     "text": [
      "==============================\n"
     ]
    },
    {
     "data": {
      "text/plain": [
       "k = 2\n"
      ]
     },
     "metadata": {},
     "output_type": "display_data"
    },
    {
     "data": {
      "text/html": [
       "<table><tr><th><i>ans<i></th><th>1</th><th>2</th></tr><tr><th>1</th><td>111.21</td><td>0.173724</td></tr></table>"
      ],
      "text/plain": [
       "ans =    111.2099     0.1737\n"
      ]
     },
     "metadata": {},
     "output_type": "display_data"
    },
    {
     "data": {
      "text/plain": [
       "obj = 4.0700e+04\n"
      ]
     },
     "metadata": {},
     "output_type": "display_data"
    },
    {
     "data": {
      "text/html": [
       "<table><tr><th><i>delta<i></th><th>1</th><th>2</th></tr><tr><th>1</th><td>32.2743</td><td>-0.361261</td></tr></table>"
      ],
      "text/plain": [
       "delta =    32.2743   -0.3613\n"
      ]
     },
     "metadata": {},
     "output_type": "display_data"
    },
    {
     "name": "stdout",
     "output_type": "stream",
     "text": [
      "==============================\n"
     ]
    },
    {
     "data": {
      "text/plain": [
       "k = 3\n"
      ]
     },
     "metadata": {},
     "output_type": "display_data"
    },
    {
     "data": {
      "text/html": [
       "<table><tr><th><i>ans<i></th><th>1</th><th>2</th></tr><tr><th>1</th><td>119.278</td><td>0.083409</td></tr></table>"
      ],
      "text/plain": [
       "ans =    1.1928e+02   8.3409e-02\n"
      ]
     },
     "metadata": {},
     "output_type": "display_data"
    },
    {
     "data": {
      "text/plain": [
       "obj = 1.8662e+04\n"
      ]
     },
     "metadata": {},
     "output_type": "display_data"
    },
    {
     "data": {
      "text/html": [
       "<table><tr><th><i>delta<i></th><th>1</th><th>2</th></tr><tr><th>1</th><td>40.874</td><td>-0.0580859</td></tr></table>"
      ],
      "text/plain": [
       "delta =    4.0874e+01  -5.8086e-02\n"
      ]
     },
     "metadata": {},
     "output_type": "display_data"
    },
    {
     "name": "stdout",
     "output_type": "stream",
     "text": [
      "==============================\n"
     ]
    },
    {
     "data": {
      "text/plain": [
       "k = 4\n"
      ]
     },
     "metadata": {},
     "output_type": "display_data"
    },
    {
     "data": {
      "text/html": [
       "<table><tr><th><i>ans<i></th><th>1</th><th>2</th></tr><tr><th>1</th><td>160.152</td><td>0.0253231</td></tr></table>"
      ],
      "text/plain": [
       "ans =    1.6015e+02   2.5323e-02\n"
      ]
     },
     "metadata": {},
     "output_type": "display_data"
    },
    {
     "data": {
      "text/plain": [
       "obj = 3858.6\n"
      ]
     },
     "metadata": {},
     "output_type": "display_data"
    },
    {
     "data": {
      "text/html": [
       "<table><tr><th><i>delta<i></th><th>1</th><th>2</th></tr><tr><th>1</th><td>-4.56388</td><td>0.0131205</td></tr></table>"
      ],
      "text/plain": [
       "delta =   -4.563880   0.013120\n"
      ]
     },
     "metadata": {},
     "output_type": "display_data"
    },
    {
     "name": "stdout",
     "output_type": "stream",
     "text": [
      "==============================\n"
     ]
    },
    {
     "data": {
      "text/plain": [
       "k = 5\n"
      ]
     },
     "metadata": {},
     "output_type": "display_data"
    },
    {
     "data": {
      "text/html": [
       "<table><tr><th><i>ans<i></th><th>1</th><th>2</th></tr><tr><th>1</th><td>155.589</td><td>0.0384436</td></tr></table>"
      ],
      "text/plain": [
       "ans =    1.5559e+02   3.8444e-02\n"
      ]
     },
     "metadata": {},
     "output_type": "display_data"
    },
    {
     "data": {
      "text/plain": [
       "obj = 1012.0\n"
      ]
     },
     "metadata": {},
     "output_type": "display_data"
    },
    {
     "data": {
      "text/html": [
       "<table><tr><th><i>delta<i></th><th>1</th><th>2</th></tr><tr><th>1</th><td>3.45363</td><td>0.00714825</td></tr></table>"
      ],
      "text/plain": [
       "delta =    3.4536e+00   7.1483e-03\n"
      ]
     },
     "metadata": {},
     "output_type": "display_data"
    },
    {
     "name": "stdout",
     "output_type": "stream",
     "text": [
      "==============================\n"
     ]
    },
    {
     "data": {
      "text/plain": [
       "k = 6\n"
      ]
     },
     "metadata": {},
     "output_type": "display_data"
    },
    {
     "data": {
      "text/html": [
       "<table><tr><th><i>ans<i></th><th>1</th><th>2</th></tr><tr><th>1</th><td>159.042</td><td>0.0455919</td></tr></table>"
      ],
      "text/plain": [
       "ans =    1.5904e+02   4.5592e-02\n"
      ]
     },
     "metadata": {},
     "output_type": "display_data"
    },
    {
     "data": {
      "text/plain": [
       "obj = 865.98\n"
      ]
     },
     "metadata": {},
     "output_type": "display_data"
    },
    {
     "data": {
      "text/html": [
       "<table><tr><th><i>delta<i></th><th>1</th><th>2</th></tr><tr><th>1</th><td>1.02075</td><td>0.00177173</td></tr></table>"
      ],
      "text/plain": [
       "delta =    1.0208e+00   1.7717e-03\n"
      ]
     },
     "metadata": {},
     "output_type": "display_data"
    },
    {
     "name": "stdout",
     "output_type": "stream",
     "text": [
      "==============================\n"
     ]
    },
    {
     "data": {
      "text/plain": [
       "k = 7\n"
      ]
     },
     "metadata": {},
     "output_type": "display_data"
    },
    {
     "data": {
      "text/html": [
       "<table><tr><th><i>ans<i></th><th>1</th><th>2</th></tr><tr><th>1</th><td>160.063</td><td>0.0473636</td></tr></table>"
      ],
      "text/plain": [
       "ans =    1.6006e+02   4.7364e-02\n"
      ]
     },
     "metadata": {},
     "output_type": "display_data"
    },
    {
     "data": {
      "text/plain": [
       "obj = 859.77\n"
      ]
     },
     "metadata": {},
     "output_type": "display_data"
    },
    {
     "data": {
      "text/html": [
       "<table><tr><th><i>delta<i></th><th>1</th><th>2</th></tr><tr><th>1</th><td>0.184113</td><td>0.00029341</td></tr></table>"
      ],
      "text/plain": [
       "delta =    1.8411e-01   2.9341e-04\n"
      ]
     },
     "metadata": {},
     "output_type": "display_data"
    },
    {
     "name": "stdout",
     "output_type": "stream",
     "text": [
      "==============================\n"
     ]
    },
    {
     "data": {
      "text/plain": [
       "k = 8\n"
      ]
     },
     "metadata": {},
     "output_type": "display_data"
    },
    {
     "data": {
      "text/html": [
       "<table><tr><th><i>ans<i></th><th>1</th><th>2</th></tr><tr><th>1</th><td>160.247</td><td>0.047657</td></tr></table>"
      ],
      "text/plain": [
       "ans =    1.6025e+02   4.7657e-02\n"
      ]
     },
     "metadata": {},
     "output_type": "display_data"
    },
    {
     "data": {
      "text/plain": [
       "obj = 859.61\n"
      ]
     },
     "metadata": {},
     "output_type": "display_data"
    },
    {
     "data": {
      "text/html": [
       "<table><tr><th><i>delta<i></th><th>1</th><th>2</th></tr><tr><th>1</th><td>0.0281357</td><td>4.37e-05</td></tr></table>"
      ],
      "text/plain": [
       "delta =    2.8136e-02   4.3700e-05\n"
      ]
     },
     "metadata": {},
     "output_type": "display_data"
    },
    {
     "name": "stdout",
     "output_type": "stream",
     "text": [
      "==============================\n"
     ]
    },
    {
     "data": {
      "text/plain": [
       "k = 9\n"
      ]
     },
     "metadata": {},
     "output_type": "display_data"
    },
    {
     "data": {
      "text/html": [
       "<table><tr><th><i>ans<i></th><th>1</th><th>2</th></tr><tr><th>1</th><td>160.275</td><td>0.0477007</td></tr></table>"
      ],
      "text/plain": [
       "ans =    1.6028e+02   4.7701e-02\n"
      ]
     },
     "metadata": {},
     "output_type": "display_data"
    },
    {
     "data": {
      "text/plain": [
       "obj = 859.60\n"
      ]
     },
     "metadata": {},
     "output_type": "display_data"
    },
    {
     "data": {
      "text/html": [
       "<table><tr><th><i>delta<i></th><th>1</th><th>2</th></tr><tr><th>1</th><td>0.00413498</td><td>6.39644e-06</td></tr></table>"
      ],
      "text/plain": [
       "delta =    4.1350e-03   6.3964e-06\n"
      ]
     },
     "metadata": {},
     "output_type": "display_data"
    },
    {
     "name": "stdout",
     "output_type": "stream",
     "text": [
      "==============================\n"
     ]
    },
    {
     "data": {
      "text/plain": [
       "k = 10\n"
      ]
     },
     "metadata": {},
     "output_type": "display_data"
    },
    {
     "data": {
      "text/html": [
       "<table><tr><th><i>ans<i></th><th>1</th><th>2</th></tr><tr><th>1</th><td>160.279</td><td>0.0477071</td></tr></table>"
      ],
      "text/plain": [
       "ans =    1.6028e+02   4.7707e-02\n"
      ]
     },
     "metadata": {},
     "output_type": "display_data"
    },
    {
     "data": {
      "text/plain": [
       "obj = 859.60\n"
      ]
     },
     "metadata": {},
     "output_type": "display_data"
    },
    {
     "data": {
      "text/html": [
       "<table><tr><th><i>delta<i></th><th>1</th><th>2</th></tr><tr><th>1</th><td>0.000603561</td><td>9.33055e-07</td></tr></table>"
      ],
      "text/plain": [
       "delta =    6.0356e-04   9.3305e-07\n"
      ]
     },
     "metadata": {},
     "output_type": "display_data"
    },
    {
     "data": {
      "text/html": [
       "<table><tr><th><i>theta_optB<i></th><th>1</th><th>2</th></tr><tr><th>1</th><td>120</td><td>0.4</td></tr><tr><th>2</th><td>111.21</td><td>0.173724</td></tr><tr><th>3</th><td>119.278</td><td>0.083409</td></tr><tr><th>4</th><td>160.152</td><td>0.0253231</td></tr><tr><th>5</th><td>155.589</td><td>0.0384436</td></tr><tr><th>6</th><td>159.042</td><td>0.0455919</td></tr><tr><th>7</th><td>160.063</td><td>0.0473636</td></tr><tr><th>8</th><td>160.247</td><td>0.047657</td></tr><tr><th>9</th><td>160.275</td><td>0.0477007</td></tr><tr><th>10</th><td>160.279</td><td>0.0477071</td></tr><tr><th>11</th><td>160.28</td><td>0.047708</td></tr></table>"
      ],
      "text/plain": [
       "theta_optB =    1.2000e+02   4.0000e-01\n",
       "   1.1121e+02   1.7372e-01\n",
       "   1.1928e+02   8.3409e-02\n",
       "   1.6015e+02   2.5323e-02\n",
       "   1.5559e+02   3.8444e-02\n",
       "   1.5904e+02   4.5592e-02\n",
       "   1.6006e+02   4.7364e-02\n",
       "   1.6025e+02   4.7657e-02\n",
       "   1.6028e+02   4.7701e-02\n",
       "   1.6028e+02   4.7707e-02\n",
       "   1.6028e+02   4.7708e-02\n"
      ]
     },
     "metadata": {},
     "output_type": "display_data"
    }
   ],
   "source": [
    "theta_optB = GaussNewton(@MichaelisMenten, xconc(1:11), vuntreated(1:11), theta0, 10)"
   ]
  },
  {
   "cell_type": "code",
   "execution_count": 16,
   "metadata": {},
   "outputs": [
    {
     "data": {
      "application/vnd.plotly.v1+json": {
       "data": [
        {
         "line": {
          "color": "rgb(0,0,255)",
          "width": 0.5
         },
         "marker": {
          "color": "rgb(0,0,255)",
          "line": {
           "color": "rgb(0,0,255)"
          },
          "size": 6,
          "symbol": "asterisk-open"
         },
         "mode": "markers",
         "name": "Messung B",
         "showlegend": true,
         "type": "scatter",
         "visibility": true,
         "x": [
          0.02,
          0.02,
          0.06,
          0.06,
          0.11,
          0.11,
          0.22,
          0.22,
          0.56,
          0.56,
          1.1,
          1.1
         ],
         "xaxis": "x",
         "y": [
          67,
          51,
          84,
          86,
          98,
          115,
          131,
          124,
          144,
          158,
          160,
          null
         ],
         "yaxis": "y"
        },
        {
         "line": {
          "color": "rgb(255,136,0)",
          "dash": "solid",
          "width": 3
         },
         "marker": {
          "color": "rgb(255,136,0)",
          "line": {
           "color": "rgb(255,136,0)"
          },
          "size": 6,
          "symbol": "none"
         },
         "mode": "lines",
         "name": "Fit",
         "showlegend": true,
         "type": "scatter",
         "visibility": true,
         "x": [
          0,
          0.022000000000000002,
          0.044000000000000004,
          0.066,
          0.08800000000000001,
          0.11000000000000001,
          0.132,
          0.15400000000000003,
          0.17600000000000002,
          0.198,
          0.22000000000000003,
          0.24200000000000002,
          0.264,
          0.28600000000000003,
          0.30800000000000005,
          0.33,
          0.35200000000000004,
          0.37400000000000005,
          0.396,
          0.41800000000000004,
          0.44000000000000006,
          0.462,
          0.48400000000000004,
          0.506,
          0.528,
          0.55,
          0.5720000000000001,
          0.5940000000000001,
          0.616,
          0.638,
          0.66,
          0.682,
          0.7040000000000001,
          0.7260000000000001,
          0.748,
          0.77,
          0.792,
          0.8140000000000001,
          0.8360000000000001,
          0.8580000000000001,
          0.8800000000000001,
          0.902,
          0.924,
          0.9460000000000001,
          0.9680000000000001,
          0.9900000000000001,
          1.012,
          1.034,
          1.056,
          1.078,
          1.1
         ],
         "xaxis": "x",
         "y": [
          0,
          50.58468893740134,
          76.89967712793931,
          93.03192329646613,
          103.93368413826293,
          111.79389095488608,
          117.72959217031591,
          122.37049684014201,
          126.09860544092659,
          129.15910549006404,
          131.71658736348255,
          133.88564643575882,
          135.74852603350547,
          137.3657816238645,
          138.78298762002382,
          140.03510031720901,
          141.1493800080876,
          142.1473984387149,
          143.04644906052982,
          143.8605575613808,
          144.60121889255183,
          145.27794342657944,
          145.89866752781438,
          146.4700662459219,
          146.99779431411278,
          147.48667392445378,
          147.94084250637343,
          148.3638701069772,
          148.7588534264565,
          149.12849175151624,
          149.47514872588167,
          149.80090294687477,
          150.10758967722722,
          150.39683544056575,
          150.67008687785335,
          150.92863494562653,
          151.1736353103307,
          151.40612561856656,
          151.62704018766965,
          151.83722255525035,
          152.0374362431082,
          152.22837402506923,
          152.4106659358492,
          152.5848862160539,
          152.7515593546162,
          152.91116536261495,
          153.06414439017294,
          153.2109007799586,
          153.3518066359014,
          153.4872049734416,
          153.6174125074638
         ],
         "yaxis": "y"
        },
        {
         "hoverinfo": "none",
         "line": {
          "color": "rgb(0,0,255)",
          "width": 0.5
         },
         "marker": {
          "color": "rgb(0,0,255)",
          "line": {
           "color": "rgb(0,0,255)"
          },
          "size": 6,
          "symbol": "none"
         },
         "mode": "none",
         "name": "",
         "showlegend": false,
         "type": "scatter",
         "visibility": true,
         "x": [
          3,
          18
         ],
         "xaxis": "x2",
         "y": [
          6.15,
          6.15
         ],
         "yaxis": "y2"
        },
        {
         "hoverinfo": "none",
         "line": {
          "color": "rgb(255,136,0)",
          "dash": "solid",
          "width": 3
         },
         "marker": {
          "color": "rgb(255,136,0)",
          "line": {
           "color": "rgb(255,136,0)"
          },
          "size": 6,
          "symbol": "none"
         },
         "mode": "lines",
         "name": "",
         "showlegend": false,
         "type": "scatter",
         "visibility": true,
         "x": [
          3,
          18
         ],
         "xaxis": "x2",
         "y": [
          15.450000000000001,
          15.450000000000001
         ],
         "yaxis": "y2"
        }
       ],
       "layout": {
        "annotations": [
         {
          "font": {
           "color": "rgb(0, 0, 0)",
           "size": 9
          },
          "showarrow": false,
          "text": "Messung B",
          "x": 21,
          "xanchor": "left",
          "xref": "x2",
          "y": 6.15,
          "yanchor": "middle",
          "yref": "y2"
         },
         {
          "font": {
           "color": "rgb(0, 0, 0)",
           "size": 9
          },
          "showarrow": false,
          "text": "Fit",
          "x": 21,
          "xanchor": "left",
          "xref": "x2",
          "y": 15.450000000000001,
          "yanchor": "middle",
          "yref": "y2"
         }
        ],
        "height": 420,
        "hovermode": "closest",
        "margin": {
         "b": 0,
         "l": 0,
         "r": 0,
         "t": 0
        },
        "plot_bgcolor": "rgba(0, 0, 0, 0)",
        "showlegend": false,
        "width": 560,
        "xaxis": {
         "anchor": "y",
         "autorange": false,
         "domain": [
          0.13,
          0.905
         ],
         "exponentformat": "none",
         "gridcolor": "rgba(38,38,38,0.15)",
         "gridwidth": 1,
         "linecolor": "rgb(38,38,38)",
         "linewidth": 1,
         "mirror": false,
         "range": [
          0,
          1.4000000000000001
         ],
         "showgrid": false,
         "showline": true,
         "side": "bottom",
         "spikedash": "solid",
         "spikemode": "across",
         "spikesides": false,
         "spikethickness": 1,
         "tickangle": 0,
         "tickcolor": "rgb(38,38,38)",
         "tickfont": {
          "color": "rgb(38,38,38)",
          "size": 10
         },
         "ticklen": 3,
         "ticks": "inside",
         "ticktext": [
          "0",
          "0.2",
          "0.4",
          "0.6",
          "0.8",
          "1",
          "1.2",
          "1.4"
         ],
         "tickvals": [
          0,
          0.2,
          0.4,
          0.6000000000000001,
          0.8,
          1,
          1.2000000000000002,
          1.4000000000000001
         ],
         "title": {
          "font": {
           "color": "rgb(38,38,38)",
           "size": 11
          },
          "text": "concentration (ppm)"
         },
         "type": "linear",
         "visible": true,
         "zeroline": false
        },
        "xaxis2": {
         "anchor": "y2",
         "autorange": false,
         "domain": [
          0.8316700943197792,
          0.8903340188639559
         ],
         "exponentformat": "none",
         "fixedrange": true,
         "gridcolor": "rgba(38,38,38,0.15)",
         "gridwidth": 1,
         "linecolor": "rgb(38,38,38)",
         "linewidth": 1,
         "mirror": true,
         "range": [
          0,
          24
         ],
         "showgrid": false,
         "showline": true,
         "showspikes": false,
         "side": "bottom",
         "spikedash": "solid",
         "spikemode": "across",
         "spikesides": false,
         "spikethickness": 1,
         "tickangle": 0,
         "tickcolor": "rgb(38,38,38)",
         "tickfont": {
          "color": "rgb(38,38,38)",
          "size": 9
         },
         "ticklen": 3,
         "ticks": "",
         "ticktext": [],
         "tickvals": [],
         "title": {
          "font": {
           "color": "rgb(0, 0, 0)",
           "size": 9.9
          },
          "text": ""
         },
         "type": "linear",
         "visible": true,
         "zeroline": false
        },
        "yaxis": {
         "anchor": "x",
         "autorange": false,
         "domain": [
          0.11,
          0.9249999999999999
         ],
         "exponentformat": "none",
         "gridcolor": "rgba(38,38,38,0.15)",
         "gridwidth": 1,
         "linecolor": "rgb(38,38,38)",
         "linewidth": 1,
         "mirror": false,
         "range": [
          0,
          200
         ],
         "showgrid": false,
         "showline": true,
         "side": "left",
         "spikedash": "solid",
         "spikemode": "across",
         "spikesides": false,
         "spikethickness": 1,
         "tickangle": 0,
         "tickcolor": "rgb(38,38,38)",
         "tickfont": {
          "color": "rgb(38,38,38)",
          "size": 10
         },
         "ticklen": 3,
         "ticks": "inside",
         "ticktext": [
          "0",
          "50",
          "100",
          "150",
          "200"
         ],
         "tickvals": [
          0,
          50,
          100,
          150,
          200
         ],
         "title": {
          "font": {
           "color": "rgb(38,38,38)",
           "size": 11
          },
          "text": "reation rate (counts/min<sup>2</sup>)"
         },
         "type": "linear",
         "visible": true,
         "zeroline": false
        },
        "yaxis2": {
         "anchor": "x2",
         "autorange": false,
         "domain": [
          0.8350486490322622,
          0.9054453584852742
         ],
         "exponentformat": "none",
         "fixedrange": true,
         "gridcolor": "rgba(38,38,38,0.15)",
         "gridwidth": 1,
         "linecolor": "rgb(38,38,38)",
         "linewidth": 1,
         "mirror": true,
         "range": [
          21.6,
          0
         ],
         "showgrid": false,
         "showline": true,
         "showspikes": false,
         "side": "left",
         "spikedash": "solid",
         "spikemode": "across",
         "spikesides": false,
         "spikethickness": 1,
         "tickangle": 0,
         "tickcolor": "rgb(38,38,38)",
         "tickfont": {
          "color": "rgb(38,38,38)",
          "size": 9
         },
         "ticklen": 3,
         "ticks": "",
         "ticktext": [],
         "tickvals": [],
         "title": {
          "font": {
           "color": "rgb(0, 0, 0)",
           "size": 9.9
          },
          "text": ""
         },
         "type": "linear",
         "visible": true,
         "zeroline": false
        }
       }
      },
      "image/png": "[encoded data removed]"
     },
     "metadata": {},
     "output_type": "display_data"
    },
    {
     "name": "stderr",
     "output_type": "stream",
     "text": [
      "warning: legend: ignoring extra labels.\n",
      "warning: called from\n",
      "    legend>parse_opts at line 825 column 9\n",
      "    legend at line 210 column 8\n",
      "    cell[16] at line 10 column 2\n",
      "\n"
     ]
    }
   ],
   "source": [
    "hold on\n",
    "vapprox0 = MichaelisMenten(xlin, theta0);\n",
    "vapprox = MichaelisMenten(xlin, theta_optB(end,:));\n",
    "plot(xconc, vuntreated, \"*\", \"color\", myColorExp)\n",
    "\n",
    "plot(xlin, vapprox, \"-\", \"linewidth\", 3, \"color\", myColorFit)\n",
    "# plot(xlin, vapprox0, \"--\", \"linewidth\", 3, \"color\", myColorFit)\n",
    "\n",
    "\n",
    "h=legend(\"Messung B\",  \"Fit\", \"Ausgangsmodell\");\n",
    "legend(h, \"location\", \"northeast\")\n",
    "\n",
    "title(\"Fall A: Behandelt\")\n",
    "xlabel(\"concentration (ppm)\")\n",
    "ylabel(\"reation rate (counts/min^2)\")"
   ]
  },
  {
   "cell_type": "markdown",
   "metadata": {},
   "source": [
    "### Vergleich der Parameter"
   ]
  },
  {
   "cell_type": "code",
   "execution_count": 17,
   "metadata": {},
   "outputs": [
    {
     "data": {
      "text/html": [
       "<table><tr><th><i>theta_optA<i></th><th>1</th><th>2</th></tr><tr><th>1</th><td>120</td><td>0.4</td></tr><tr><th>2</th><td>118.172</td><td>0.1514</td></tr><tr><th>3</th><td>161.274</td><td>0.0272043</td></tr><tr><th>4</th><td>204.328</td><td>0.0532077</td></tr><tr><th>5</th><td>211.632</td><td>0.0623486</td></tr><tr><th>6</th><td>212.565</td><td>0.0639305</td></tr><tr><th>7</th><td>212.672</td><td>0.0641027</td></tr><tr><th>8</th><td>212.683</td><td>0.0641195</td></tr><tr><th>9</th><td>212.684</td><td>0.0641211</td></tr><tr><th>10</th><td>212.684</td><td>0.0641213</td></tr><tr><th>11</th><td>212.684</td><td>0.0641213</td></tr></table>"
      ],
      "text/plain": [
       "theta_optA =    1.2000e+02   4.0000e-01\n",
       "   1.1817e+02   1.5140e-01\n",
       "   1.6127e+02   2.7204e-02\n",
       "   2.0433e+02   5.3208e-02\n",
       "   2.1163e+02   6.2349e-02\n",
       "   2.1257e+02   6.3931e-02\n",
       "   2.1267e+02   6.4103e-02\n",
       "   2.1268e+02   6.4119e-02\n",
       "   2.1268e+02   6.4121e-02\n",
       "   2.1268e+02   6.4121e-02\n",
       "   2.1268e+02   6.4121e-02\n"
      ]
     },
     "metadata": {},
     "output_type": "display_data"
    },
    {
     "data": {
      "text/html": [
       "<table><tr><th><i>theta_optB<i></th><th>1</th><th>2</th></tr><tr><th>1</th><td>120</td><td>0.4</td></tr><tr><th>2</th><td>111.21</td><td>0.173724</td></tr><tr><th>3</th><td>119.278</td><td>0.083409</td></tr><tr><th>4</th><td>160.152</td><td>0.0253231</td></tr><tr><th>5</th><td>155.589</td><td>0.0384436</td></tr><tr><th>6</th><td>159.042</td><td>0.0455919</td></tr><tr><th>7</th><td>160.063</td><td>0.0473636</td></tr><tr><th>8</th><td>160.247</td><td>0.047657</td></tr><tr><th>9</th><td>160.275</td><td>0.0477007</td></tr><tr><th>10</th><td>160.279</td><td>0.0477071</td></tr><tr><th>11</th><td>160.28</td><td>0.047708</td></tr></table>"
      ],
      "text/plain": [
       "theta_optB =    1.2000e+02   4.0000e-01\n",
       "   1.1121e+02   1.7372e-01\n",
       "   1.1928e+02   8.3409e-02\n",
       "   1.6015e+02   2.5323e-02\n",
       "   1.5559e+02   3.8444e-02\n",
       "   1.5904e+02   4.5592e-02\n",
       "   1.6006e+02   4.7364e-02\n",
       "   1.6025e+02   4.7657e-02\n",
       "   1.6028e+02   4.7701e-02\n",
       "   1.6028e+02   4.7707e-02\n",
       "   1.6028e+02   4.7708e-02\n"
      ]
     },
     "metadata": {},
     "output_type": "display_data"
    }
   ],
   "source": [
    "theta_optA\n",
    "theta_optB"
   ]
  },
  {
   "cell_type": "markdown",
   "metadata": {},
   "source": [
    "## Darstellung der Minimierung\n",
    "\n",
    "Wir betrachten die Energie:\n",
    "$$\\Phi(\\theta) = \\frac{1}{2} \\|f(\\theta) - y\\|^2$$"
   ]
  },
  {
   "cell_type": "code",
   "execution_count": 18,
   "metadata": {},
   "outputs": [],
   "source": [
    "function energy = EnergyPhi(y, f, theta)\n",
    "    energy = norm(f(theta)-y, 2);\n",
    "    energy = 0.5*energy*energy;\n",
    "end "
   ]
  },
  {
   "cell_type": "code",
   "execution_count": 19,
   "metadata": {},
   "outputs": [
    {
     "data": {
      "text/plain": [
       "ans = 597.72\n"
      ]
     },
     "metadata": {},
     "output_type": "display_data"
    }
   ],
   "source": [
    "EnergyPhi(vtreated, @(theta) MichaelisMenten(xconc, theta), theta_optA(end,:))"
   ]
  },
  {
   "cell_type": "code",
   "execution_count": 20,
   "metadata": {
    "jupyter": {
     "source_hidden": true
    }
   },
   "outputs": [],
   "source": [
    "# Berechne Energielandschaft\n",
    "tx = linspace (0.0, 400.0, 41)';\n",
    "ty = linspace (0.0, 0.5, 41)';\n",
    "[xx, yy] = meshgrid (tx, ty);\n",
    "\n",
    "for i=1:length(tx)\n",
    "for j=1:length(ty)\n",
    "    thetaij =[xx(i,j), yy(i,j)];\n",
    "    tz(i,j) = EnergyPhi(vtreated, @(theta) MichaelisMenten(xconc, theta), thetaij);\n",
    "endfor\n",
    "endfor"
   ]
  },
  {
   "cell_type": "code",
   "execution_count": 21,
   "metadata": {
    "jupyter": {
     "source_hidden": true
    }
   },
   "outputs": [],
   "source": [
    "# Berechne Energie fuer Messdaten \n",
    "in=theta_optA(:,1:2);\n",
    "energies = zeros(size(in(:,1)));\n",
    "for i=1:size(energies)(1)\n",
    "    energies(i) = EnergyPhi(vtreated, @(theta) MichaelisMenten(xconc, theta), in(i,:));\n",
    "endfor\n",
    "energies;"
   ]
  },
  {
   "cell_type": "markdown",
   "metadata": {},
   "source": [
    "### Graphische Darstellung"
   ]
  },
  {
   "cell_type": "code",
   "execution_count": 22,
   "metadata": {},
   "outputs": [
    {
     "data": {
      "application/vnd.plotly.v1+json": {
       "data": [
        {
         "autocolorscale": "false",
         "cauto": "false",
         "cmax": 416104.49999999994,
         "cmin": 607.911651676026,
         "colorscale": [
          [
           0,
           "rgb(68,1,84)"
          ],
          [
           0.015873015873015872,
           "rgb(69,6,90)"
          ],
          [
           0.031746031746031744,
           "rgb(70,12,95)"
          ],
          [
           0.047619047619047616,
           "rgb(71,18,101)"
          ],
          [
           0.06349206349206349,
           "rgb(72,24,106)"
          ],
          [
           0.07936507936507936,
           "rgb(72,29,111)"
          ],
          [
           0.09523809523809523,
           "rgb(72,35,115)"
          ],
          [
           0.1111111111111111,
           "rgb(71,40,119)"
          ],
          [
           0.12698412698412698,
           "rgb(71,45,123)"
          ],
          [
           0.14285714285714285,
           "rgb(70,50,126)"
          ],
          [
           0.15873015873015872,
           "rgb(68,55,129)"
          ],
          [
           0.1746031746031746,
           "rgb(67,60,132)"
          ],
          [
           0.19047619047619047,
           "rgb(65,64,134)"
          ],
          [
           0.20634920634920634,
           "rgb(64,69,135)"
          ],
          [
           0.2222222222222222,
           "rgb(62,74,137)"
          ],
          [
           0.23809523809523808,
           "rgb(60,78,138)"
          ],
          [
           0.25396825396825395,
           "rgb(58,83,139)"
          ],
          [
           0.2698412698412698,
           "rgb(56,87,140)"
          ],
          [
           0.2857142857142857,
           "rgb(54,91,140)"
          ],
          [
           0.30158730158730157,
           "rgb(52,95,141)"
          ],
          [
           0.31746031746031744,
           "rgb(50,99,141)"
          ],
          [
           0.3333333333333333,
           "rgb(48,103,141)"
          ],
          [
           0.3492063492063492,
           "rgb(46,107,142)"
          ],
          [
           0.36507936507936506,
           "rgb(45,111,142)"
          ],
          [
           0.38095238095238093,
           "rgb(43,115,142)"
          ],
          [
           0.3968253968253968,
           "rgb(42,119,142)"
          ],
          [
           0.4126984126984127,
           "rgb(40,123,142)"
          ],
          [
           0.42857142857142855,
           "rgb(39,127,142)"
          ],
          [
           0.4444444444444444,
           "rgb(37,130,142)"
          ],
          [
           0.4603174603174603,
           "rgb(36,134,141)"
          ],
          [
           0.47619047619047616,
           "rgb(34,138,141)"
          ],
          [
           0.49206349206349204,
           "rgb(33,142,140)"
          ],
          [
           0.5079365079365079,
           "rgb(32,146,140)"
          ],
          [
           0.5238095238095238,
           "rgb(31,149,139)"
          ],
          [
           0.5396825396825397,
           "rgb(30,153,138)"
          ],
          [
           0.5555555555555556,
           "rgb(30,157,136)"
          ],
          [
           0.5714285714285714,
           "rgb(31,161,135)"
          ],
          [
           0.5873015873015873,
           "rgb(32,164,133)"
          ],
          [
           0.6031746031746031,
           "rgb(34,168,131)"
          ],
          [
           0.6190476190476191,
           "rgb(38,172,129)"
          ],
          [
           0.6349206349206349,
           "rgb(42,176,126)"
          ],
          [
           0.6507936507936508,
           "rgb(47,179,123)"
          ],
          [
           0.6666666666666666,
           "rgb(53,183,120)"
          ],
          [
           0.6825396825396826,
           "rgb(59,186,117)"
          ],
          [
           0.6984126984126984,
           "rgb(66,190,113)"
          ],
          [
           0.7142857142857143,
           "rgb(73,193,109)"
          ],
          [
           0.7301587301587301,
           "rgb(81,196,104)"
          ],
          [
           0.746031746031746,
           "rgb(90,199,99)"
          ],
          [
           0.7619047619047619,
           "rgb(99,202,94)"
          ],
          [
           0.7777777777777778,
           "rgb(108,205,89)"
          ],
          [
           0.7936507936507936,
           "rgb(117,208,83)"
          ],
          [
           0.8095238095238095,
           "rgb(127,210,77)"
          ],
          [
           0.8253968253968254,
           "rgb(137,213,71)"
          ],
          [
           0.8412698412698413,
           "rgb(148,215,64)"
          ],
          [
           0.8571428571428571,
           "rgb(158,217,57)"
          ],
          [
           0.873015873015873,
           "rgb(169,219,50)"
          ],
          [
           0.8888888888888888,
           "rgb(180,221,43)"
          ],
          [
           0.9047619047619048,
           "rgb(190,223,36)"
          ],
          [
           0.9206349206349206,
           "rgb(201,224,30)"
          ],
          [
           0.9365079365079365,
           "rgb(212,225,26)"
          ],
          [
           0.9523809523809523,
           "rgb(223,227,24)"
          ],
          [
           0.9682539682539683,
           "rgb(233,228,25)"
          ],
          [
           0.9841269841269841,
           "rgb(243,229,30)"
          ],
          [
           1,
           "rgb(253,231,36)"
          ]
         ],
         "contours": {
          "x": {
           "highlight": true,
           "highlightcolor": "rgb(0, 0, 0)",
           "highlightwidth": 1,
           "show": false
          },
          "y": {
           "highlight": true,
           "highlightcolor": "rgb(0, 0, 0)",
           "highlightwidth": 1,
           "show": false
          },
          "z": {
           "highlight": true,
           "highlightcolor": "rgb(0, 0, 0)",
           "highlightwidth": 1,
           "show": false
          }
         },
         "name": "",
         "scene": "scene",
         "showlegend": false,
         "showscale": false,
         "surfacecolor": [
          [
           135704.5,
           119314.50000000001,
           104124.49999999997,
           90134.49999999999,
           77344.50000000003,
           65754.50000000001,
           55364.499999999985,
           46174.5,
           38184.5,
           31394.5,
           25804.500000000007,
           21414.500000000004,
           18224.500000000007,
           16234.499999999998,
           15444.500000000002,
           15854.5,
           17464.5,
           20274.500000000004,
           24284.500000000004,
           29494.500000000004,
           35904.5,
           43514.5,
           52324.5,
           62334.500000000015,
           73544.5,
           85954.50000000001,
           99564.49999999999,
           114374.49999999999,
           130384.5,
           147594.5,
           166004.49999999997,
           185614.49999999997,
           206424.49999999994,
           228434.5,
           251644.50000000003,
           276054.5,
           301664.4999999999,
           328474.50000000006,
           356484.5000000001,
           385694.49999999994,
           416104.49999999994
          ],
          [
           135704.5,
           120575.14759925027,
           106385.746081825,
           93136.2954477242,
           80826.79569694787,
           69457.24682949595,
           59027.64884536855,
           49538.00174456558,
           40988.305527087075,
           33378.56019293304,
           26708.765742103456,
           20978.922174598327,
           16189.029490417674,
           12339.087689561466,
           9429.096772029725,
           7459.056737822446,
           6428.967586939625,
           6338.829319381264,
           7188.641935147364,
           8978.405434237933,
           11708.119816652952,
           15377.785082392431,
           19987.401231456366,
           25536.968263844778,
           32026.48617955764,
           39455.95497859496,
           47825.37466095675,
           57134.74522664299,
           67384.06667565371,
           78573.33900798885,
           90702.5622236485,
           103771.7363226326,
           117780.86130494117,
           132729.9371705741,
           148618.9639195316,
           165447.9415518136,
           183216.87006741995,
           201925.74946635074,
           221574.5797486061,
           242163.36091418582,
           263692.09296309017
          ],
          [
           135704.5,
           121462.17729120981,
           108027.5466263197,
           95400.60800532957,
           83581.36142823944,
           72569.80689504933,
           62365.94440575927,
           52969.77396036916,
           44381.29555887908,
           36600.509201289045,
           29627.41488759897,
           23462.01261780894,
           18104.302391918904,
           13554.284209928888,
           9811.958071838882,
           6877.323977648888,
           4750.381927358905,
           3431.131920968932,
           2919.573958478972,
           3215.708039889024,
           4319.5341651990875,
           6231.052334409162,
           8950.262547519247,
           12477.164804529344,
           16811.75910543945,
           21954.04545024957,
           27904.023838959703,
           34661.69427156984,
           42227.05674808001,
           50600.11126849015,
           59780.85783280035,
           69769.29644101052,
           80565.42709312074,
           92169.24978913095,
           104580.76452904115,
           117799.97131285137,
           131826.87014056166,
           146661.4610121719,
           162303.7439276821,
           178753.71888709243,
           196011.3858904028
          ],
          [
           135704.5,
           122160.44036866231,
           109336.25238922589,
           97231.93606169081,
           85847.49138605698,
           75182.91836232443,
           65238.21699049318,
           56013.38727056321,
           47508.42920253453,
           39723.3427864071,
           32658.128022180987,
           26312.784909856156,
           20687.313449432615,
           15781.713640910344,
           11595.98548428937,
           8130.128979569671,
           5384.14412675126,
           3358.030925834127,
           2051.7893768182853,
           1465.4194797037292,
           1598.9212344904572,
           2452.2946411784737,
           4025.5396997677685,
           6318.65641025835,
           9331.644772650214,
           13064.504786943367,
           17517.236453137804,
           22689.839771233514,
           28582.314741230526,
           35194.66136312882,
           42526.87963692839,
           50578.96956262925,
           59350.93114023139,
           68842.76436973482,
           79054.46925113954,
           89986.04578444554,
           101637.49396965283,
           114008.8138067614,
           127100.00529577126,
           140911.0684366824,
           155442.00322949485
          ],
          [
           135704.5,
           122740.63315710757,
           110431.45647059224,
           98776.96994045394,
           87777.17356669277,
           77432.06734930864,
           67741.65128830158,
           58705.92538367158,
           50324.88963541865,
           42598.544043542795,
           35526.88860804401,
           29109.923328922298,
           23347.64820617768,
           18240.0632398101,
           13787.168429819598,
           9988.963776206174,
           6845.449278969815,
           4356.624938110528,
           2522.490753628309,
           1343.0467255231636,
           818.2928537950893,
           948.2291384440852,
           1732.8555794701501,
           3172.1721768732873,
           5266.178930653491,
           8014.87584081077,
           11418.262907345113,
           15476.340130256536,
           20189.107509545025,
           25556.565045210576,
           31578.712737253205,
           38255.55058567292,
           45587.0785904697,
           53573.29675164352,
           62214.20506919444,
           71509.80354312246,
           81460.09217342752,
           92065.0709601096,
           103324.73990316877,
           115239.09900260511,
           127808.14825841844
          ],
          [
           135704.5,
           123238.49611982488,
           111375.77554029429,
           100116.33826140824,
           89460.18428316676,
           79407.31360556975,
           69957.72622861734,
           61111.42215230947,
           52868.40137664613,
           45228.6639016273,
           38192.20972725306,
           31759.038853523354,
           25929.151280438182,
           20702.54700799756,
           16079.226036201468,
           12059.188365049919,
           8642.433994542915,
           5828.962924680454,
           3618.7751554625347,
           2011.8706868891575,
           1008.2495189603194,
           607.911651676026,
           810.8570850362735,
           1617.0858190410627,
           3026.5978536903904,
           5039.393188984264,
           7655.4718249226835,
           10874.833761505635,
           14697.478998733139,
           19123.407536605173,
           24152.619375121765,
           29785.114514282886,
           36020.892954088544,
           42859.95469453876,
           50302.29973563351,
           58347.9280773728,
           66996.83971975667,
           76249.03466278504,
           86104.5129064579,
           96563.27445077538,
           107625.31929573741
          ],
          [
           135704.5,
           123675.0755702925,
           112206.79137476397,
           101299.64741341458,
           90953.64368624419,
           81168.78019325282,
           71945.05693444054,
           63282.47390980736,
           55181.03111935315,
           47640.728563078046,
           40661.56624098196,
           34243.54415306492,
           28386.66229932696,
           23090.92067976804,
           18356.319294388173,
           14182.858143187344,
           10570.537226165576,
           7519.356543322859,
           5029.316094659185,
           3100.4158801745675,
           1732.6558998689986,
           926.0361537424817,
           680.5566417950153,
           996.217364026599,
           1873.0183204372315,
           3310.959511026917,
           5310.040935795655,
           7870.262594743436,
           10991.624487870276,
           14674.12661517616,
           18917.768976661097,
           23722.551572325097,
           29088.47440216814,
           35015.53746619023,
           41503.74076439136,
           48553.084296771594,
           56163.56806333079,
           64335.19206406912,
           73067.95629898644,
           82361.86076808286,
           92216.90547135829
          ],
          [
           135704.5,
           124063.99624224912,
           112949.1337848778,
           102359.91262788617,
           92296.33277127406,
           82758.39421504157,
           73746.09695918867,
           65259.44100371536,
           57298.42634862165,
           49863.05299390757,
           42953.32093957306,
           36569.23018561815,
           30710.780732042862,
           25377.972578847144,
           20570.80572603105,
           16289.280173594534,
           12533.395921537622,
           9303.152969860312,
           6598.551318562594,
           4419.590967644476,
           2766.271917105959,
           1638.5941669470392,
           1036.5577171677176,
           960.1625677679945,
           1409.4087187478679,
           2384.2961701073395,
           3884.8249218464134,
           5910.994973965082,
           8462.806326463351,
           11540.258979341212,
           15143.35293259868,
           19272.088186235742,
           23926.464740252406,
           29106.48259464867,
           34812.14174942451,
           41043.442204579995,
           47800.38396011505,
           55082.96701602969,
           62891.19137232393,
           71225.05702899776,
           80084.56398605125
          ],
          [
           135704.5,
           124414.66408431488,
           113619.95612080919,
           103320.37610948306,
           93515.92405033641,
           84206.59994336922,
           75392.40378858153,
           67073.33558597337,
           59249.39533554468,
           51920.583037295495,
           45086.89869122579,
           38748.34229733561,
           32904.9138556249,
           27556.61336609368,
           22703.440828741976,
           18345.396243569743,
           14482.479610577015,
           11114.690929763778,
           8242.030201130035,
           5864.497424675795,
           3982.0926004010425,
           2594.8157283057844,
           1702.6668083900233,
           1305.6458406537545,
           1403.7528250969808,
           1996.9877617197003,
           3085.350650521914,
           4668.841491503624,
           6747.460284664827,
           9321.207030005526,
           12390.081727525718,
           15954.084377225403,
           20013.214979104578,
           24567.47353316326,
           29616.860039401447,
           35161.3744978191,
           41201.01690841627,
           47735.7872711929,
           54765.685586149055,
           62290.71185328469,
           70310.86607259983
          ],
          [
           135704.5,
           124733.88215726364,
           114231.74844258388,
           104198.09885596076,
           94632.93339739428,
           85536.25206688442,
           76908.05486443121,
           68748.3417900346,
           61057.11284369461,
           53834.36802541126,
           47080.107335184526,
           40794.33077301445,
           34977.03833890099,
           29628.230032844167,
           24747.90585484395,
           20336.065804900376,
           16392.709883013416,
           12917.838089183104,
           9911.45042340941,
           7373.546885692345,
           5304.127476031907,
           3703.1921944281007,
           2570.741040880921,
           1906.774015390369,
           1711.2911179564446,
           1984.2923485791478,
           2725.7777072584827,
           3935.747193994443,
           5614.20080878703,
           7761.138551636245,
           10376.560422542088,
           13460.466421504565,
           17012.856548523683,
           21033.730803599396,
           25523.08918673177,
           30480.93169792076,
           35907.25833716637,
           41802.069104468625,
           48165.363999827474,
           54997.14302324295,
           62297.40617471513
          ],
          [
           135704.5,
           125026.74830576255,
           114793.9204009575,
           105006.01628558486,
           95663.03595964464,
           86764.97942313676,
           78311.84667606134,
           70303.63771841834,
           62740.35255020771,
           55621.99117142949,
           48948.553582083696,
           42720.03978217029,
           36936.44977168931,
           31597.783550640703,
           26704.041119024514,
           22255.222476840743,
           18251.327624089365,
           14692.356560770388,
           11578.309286883827,
           8909.185802429665,
           6684.986107407908,
           4905.71020181856,
           3571.3580856616168,
           2681.9297589370763,
           2237.4252216449436,
           2237.844473785212,
           2683.1875153578885,
           3573.4543463629693,
           4908.644966800453,
           6688.759376670343,
           8913.797575972643,
           11583.759564707345,
           14698.645342874459,
           18258.45491047397,
           22263.18826750589,
           26712.84541397021,
           31607.426349866935,
           36946.93107519608,
           42731.359589957596,
           48960.71189415154,
           55634.98798777792
          ],
          [
           135704.5,
           125297.19081409219,
           115313.75491851082,
           105754.19231325605,
           96618.50299832772,
           87906.68697372588,
           79618.74423945056,
           71754.6747955017,
           64314.478641879396,
           57298.15577858355,
           50705.70620561421,
           44537.12992297137,
           38792.426930655034,
           33471.59722866518,
           28574.640817001822,
           24101.557695664964,
           20052.34786465462,
           16427.011323970753,
           13225.548073613394,
           10447.958113582528,
           8094.241443878163,
           6164.398064500293,
           4658.4279754489235,
           3576.331176724049,
           2918.1076683256742,
           2683.7574502537927,
           2873.280522508412,
           3486.6768850895296,
           4523.946537997139,
           5985.089481231248,
           7870.105714791854,
           10178.995238678963,
           12911.758052892568,
           16068.394157432669,
           19648.903552299274,
           23653.28623749236,
           28081.542213011962,
           32933.671478858036,
           38209.67403503063,
           43909.549881529725,
           50033.2990183553
          ],
          [
           135704.5,
           125548.30617004323,
           115797.01415772538,
           106450.62396304663,
           97509.13558600683,
           88972.54902660607,
           80840.8642848443,
           73114.08136072154,
           65792.20025423777,
           58875.22096539301,
           52363.14349418728,
           46255.967840620535,
           40553.69400469283,
           35256.32198640409,
           30363.85178575438,
           25876.283402743666,
           21793.616837371967,
           18115.852089639273,
           14842.989159545581,
           11975.028047090904,
           9511.968752275221,
           7453.81127509855,
           5800.55561556089,
           4552.201773662231,
           3708.749749402584,
           3270.1995427819397,
           3236.5511538003025,
           3607.8045824576707,
           4383.959828754046,
           5565.0168926894285,
           7150.97577426382,
           9141.836473477219,
           11537.598990329621,
           14338.26332482103,
           17543.829476951447,
           21154.297446720873,
           25169.667234129305,
           29589.93883917673,
           34415.112261863156,
           39645.18750218862,
           45280.164560153105
          ],
          [
           135704.5,
           125782.58159507632,
           116248.34126658454,
           107101.7790145247,
           98342.89483889675,
           89971.68873970068,
           81988.16071693655,
           74392.31077060432,
           67184.138900704,
           60363.64510723559,
           53930.82939019908,
           47885.691749594494,
           42228.23218542182,
           36958.45069768103,
           32076.347286372173,
           27581.92195149521,
           23475.174693050172,
           19756.105511037033,
           16424.714405455798,
           13481.001376306478,
           10924.966423589069,
           8756.60954730356,
           6975.930747449969,
           5582.930024028283,
           4577.607377038514,
           3959.9628064806448,
           3729.9963123546872,
           3887.707894660639,
           4433.097553398498,
           5366.165288568267,
           6686.91110016995,
           8395.334988203536,
           10491.436952669032,
           12975.216993566439,
           15846.675110895758,
           19105.811304656992,
           22752.625574850113,
           26787.11792147517,
           31209.288344532095,
           36019.13684402097,
           41216.663419941746
          ],
          [
           135704.5,
           126002.0469898714,
           116671.53614864439,
           107712.96747631914,
           99126.3409728956,
           90911.65663837384,
           83068.91447275374,
           75598.11447603538,
           68499.2566482187,
           61772.34098930375,
           55417.36749929051,
           49434.33617817902,
           43823.24702596921,
           38584.100042661135,
           33716.89522825476,
           29221.63258275011,
           25098.31210614717,
           21346.933798445945,
           17967.497659646426,
           14960.003689748635,
           12324.451888752566,
           10060.8422566582,
           8169.174793465554,
           6649.449499174619,
           5501.666373785401,
           4725.825417297901,
           4321.926629712111,
           4289.970011028041,
           4629.9555612456825,
           5341.883280365041,
           6425.753168386116,
           7881.565225308904,
           9709.319451133406,
           11909.015845859634,
           14480.654409487566,
           17424.235142017227,
           20739.758043448586,
           24427.22311378166,
           28486.630353016455,
           32917.97976115297,
           37721.2713381912
          ],
          [
           135704.5,
           126208.3818149793,
           117069.75032700524,
           108288.60553607787,
           99864.94744219717,
           91798.7760453631,
           84090.09134557573,
           76738.89334283501,
           69745.18203714097,
           63108.957428493566,
           56830.21951689282,
           50908.968302338755,
           45345.20378483136,
           40138.92596437062,
           35290.13484095654,
           30798.830414589112,
           26665.01268526837,
           22888.681652994277,
           19469.837317766847,
           16408.479679586097,
           13704.608738451992,
           11358.224494364558,
           9369.326947323787,
           7737.916097329676,
           6463.991944382234,
           5547.554488481452,
           4988.60372962733,
           4787.139667819875,
           4943.162303059083,
           5456.671635344953,
           6327.6676646774895,
           7556.150391056685,
           9142.119814482548,
           11085.575934955077,
           13386.518752474261,
           16044.94826704011,
           19060.864478652624,
           22434.26738731181,
           26165.15699301765,
           30253.533295770158,
           34699.39629556933
          ],
          [
           135704.5,
           126402.99218725723,
           117445.62806396418,
           108832.40763012078,
           100563.33088572707,
           92638.39783078304,
           85057.60846528872,
           77820.96278924409,
           70928.46080264909,
           64380.10250550381,
           58175.887897808214,
           52315.81697956232,
           46799.88975076609,
           41628.10621141954,
           36800.46636152268,
           32316.97020107551,
           28177.61773007804,
           24382.408948530243,
           20931.34385643212,
           17824.42245378369,
           15061.644740584945,
           12643.010716835885,
           10568.520382536512,
           8838.173737686826,
           7451.9707822868195,
           6409.9115163364995,
           5711.995939835866,
           5358.224052784914,
           5348.59585518365,
           5683.111347032073,
           6361.770528330178,
           7384.573399077974,
           8751.519959275443,
           10462.610208922615,
           12517.84414801946,
           14917.221776565992,
           17660.743094562207,
           20748.408102008103,
           24180.216798903686,
           27956.169185248975,
           32076.265261043918
          ],
          [
           135704.5,
           126587.06770556558,
           117801.41074077314,
           109347.52910562245,
           101225.42280011377,
           93435.0918242469,
           85976.53617802197,
           78849.75586143897,
           72054.75087449784,
           65591.52121719855,
           59460.06688954122,
           53660.38789152576,
           48192.48422315222,
           43056.355884420555,
           38252.00287533079,
           33779.425195882926,
           29638.622846076945,
           25829.59582591287,
           22352.344135390686,
           19206.867774510407,
           16393.16674327201,
           13911.241041675521,
           11761.090669720927,
           9942.715627408219,
           8456.115914737416,
           7301.291531708503,
           6478.242478321484,
           5986.968754576366,
           5827.47036047314,
           5999.747296011814,
           6503.79956119238,
           7339.627156014842,
           8507.2300804792,
           10006.608334585459,
           11837.761918333616,
           14000.69083172366,
           16495.39507475561,
           19321.87464742944,
           22480.129549745176,
           25970.1597817028,
           29791.965343302334
          ],
          [
           135704.5,
           126761.62412832018,
           118139.01549402787,
           109836.67409712308,
           101854.59993760574,
           94192.79301547592,
           86851.25333073364,
           79829.98088337887,
           73128.97567341155,
           66748.23770083176,
           60687.766965639465,
           54947.563467834676,
           49527.62720741739,
           44427.95818438761,
           39648.55639874534,
           35189.42185049056,
           31050.5545396233,
           27231.954466143517,
           23733.621630051257,
           20555.556031346492,
           17697.757670029237,
           15160.226546099477,
           12942.962659557228,
           11045.966010402479,
           9469.236598635236,
           8212.774424255493,
           7276.579487263248,
           6660.651787658514,
           6364.991325441278,
           6389.59810061155,
           6734.472113169322,
           7399.613363114594,
           8385.021850447372,
           9690.697575167658,
           11316.640537275449,
           13262.850736770743,
           15529.328173653534,
           18116.072847923824,
           21023.084759581616,
           24250.36390862693,
           27797.91029505974
          ],
          [
           135704.5,
           126927.53595738398,
           118460.09542190321,
           110302.17839355773,
           102453.78487234746,
           94914.91485827253,
           87685.56835133287,
           80765.74535152846,
           74155.44585885936,
           67854.66987332552,
           61863.417394926946,
           56181.68842366366,
           50809.48295953563,
           45746.801002542874,
           40993.64255268542,
           36550.007609963206,
           32415.896174376296,
           28591.30824592465,
           25076.243824608275,
           21870.70291042718,
           18974.685503381355,
           16388.191603470805,
           14111.22121069553,
           12143.774325055532,
           10485.850946550809,
           9137.451075181356,
           8098.57471094718,
           7369.221853848282,
           6949.392503884651,
           6839.0866610563,
           7038.30432536322,
           7547.045496805419,
           8365.31017538289,
           9493.098361095645,
           10930.410053943659,
           12677.245253926954,
           14733.603961045526,
           17099.486175299367,
           19774.891896688496,
           22759.8211252129,
           26054.27386087256
          ],
          [
           135704.5,
           127085.56168088778,
           118766.08634411402,
           110746.07398967896,
           103025.52461758249,
           95604.43822782453,
           88482.81482040524,
           81660.65439532451,
           75137.9569525824,
           68914.72249217884,
           62990.9510141139,
           57366.642518387554,
           52041.79700499978,
           47016.414473950616,
           42290.49492524004,
           37864.03835886806,
           33737.044774834685,
           29909.514173139873,
           26381.446553783655,
           23152.841916766036,
           20223.700262087008,
           17594.021589746582,
           15263.80589974474,
           13233.053192081496,
           11501.763466756842,
           10069.936723770776,
           8937.5729631233,
           8104.672184814419,
           7571.23438884413,
           7337.259575212435,
           7402.747743919333,
           7767.698894964822,
           8432.113028348893,
           9395.990144071577,
           10659.33024213284,
           12222.1333225327,
           14084.399385271148,
           16246.128430348195,
           18707.320457763828,
           21467.97546751804,
           24528.09345961086
          ],
          [
           135704.5,
           127236.36358505565,
           119058.24358589265,
           111170.1400025112,
           103572.05283491111,
           96263.98208309249,
           89245.92774705532,
           82517.88982679957,
           76079.86832232527,
           69931.86323363241,
           64073.87456072102,
           58505.90230359104,
           53227.946462242515,
           48240.007036675444,
           43542.08402688982,
           39134.177432885605,
           35016.287254662864,
           31188.413492221553,
           27650.556145561684,
           24402.71521468325,
           21444.890699586267,
           18777.082600270725,
           16399.29091673663,
           14311.515648983977,
           12513.756797012764,
           11006.014360822986,
           9788.288340414654,
           8860.578735787767,
           8222.885546942322,
           7875.208773878322,
           7817.548416595757,
           8049.9044750946405,
           8572.276949374964,
           9384.665839436739,
           10487.07114527994,
           11879.492866904591,
           13561.93100431069,
           15534.38555749823,
           17796.856526467207,
           20349.343911217617,
           23191.847711749488
          ],
          [
           135704.5,
           127380.52348645165,
           119337.67124892406,
           111575.94328741703,
           104095.33960193065,
           96895.86019246494,
           89977.50505901985,
           83340.27420159544,
           76984.16762019166,
           70909.18531480849,
           65115.32728544598,
           59602.59353210416,
           54370.98405478295,
           49420.49885348239,
           44751.13792820248,
           40362.901278943216,
           36255.78890570458,
           32429.80080848661,
           28884.93698728927,
           25621.197442112592,
           22638.582172956558,
           19937.091179821156,
           17516.724462706417,
           15377.482021612308,
           13519.363856538856,
           11942.369967486038,
           10646.500354453874,
           9631.755017442345,
           8898.133956451476,
           8445.637171481249,
           8274.264662531665,
           8384.016429602725,
           8774.892472694433,
           9446.892791806793,
           10400.01738693979,
           11634.266258093436,
           13149.639405267728,
           14946.136828462662,
           17023.758527678237,
           19382.50450291447,
           22022.374754171342
          ],
          [
           135704.5,
           127518.55535753035,
           119605.3457473453,
           111964.87116944474,
           104597.13162382873,
           97502.12711049725,
           90679.85762945026,
           84130.32318068782,
           77853.52376420992,
           71849.45938001656,
           66118.13002810768,
           60659.53570848337,
           55473.67642114362,
           50560.55216608834,
           45920.162943317635,
           41552.5087528314,
           37457.58959462977,
           33635.405468712626,
           30085.956375080004,
           26809.242313731935,
           23805.26328466839,
           21074.019287889372,
           18615.510323394887,
           16429.736391184928,
           14516.697491259509,
           12876.393623618605,
           11508.824788262242,
           10413.990985190409,
           9591.8922144031,
           9042.528475900319,
           8765.899769682075,
           8762.00609574836,
           9030.847454099168,
           9572.423844734516,
           10386.735267654389,
           11473.78172285879,
           12833.563210347727,
           14466.07973012118,
           16371.331282179179,
           18549.3178665217,
           21000.039483148757
          ],
          [
           135704.5,
           127650.91555687992,
           119862.13491237882,
           112338.15806649668,
           105078.98501923346,
           98084.6157705892,
           91355.05032056393,
           84890.2886691576,
           78690.33081637022,
           72755.1767622018,
           67084.82650665233,
           61679.28004972185,
           56538.537391410304,
           51662.59853171772,
           47051.46347064408,
           42705.1322081894,
           38623.604744353666,
           34806.881079136896,
           31254.961212539107,
           27967.845144560262,
           24945.53287520037,
           22188.02440445943,
           19695.31973233745,
           17467.418858834433,
           15504.321783950372,
           13806.02850768526,
           12372.539030039105,
           11203.853351011914,
           10299.971470603676,
           9660.893388814398,
           9286.61910564407,
           9177.148621092701,
           9332.481935160296,
           9752.619047846842,
           10437.559959152351,
           11387.30466907681,
           12601.85317762023,
           14081.205484782597,
           15825.36159056394,
           17834.32149496422,
           20108.08519798346
          ],
          [
           135704.5,
           127778.01119173519,
           120108.81363466383,
           112696.90732878582,
           105542.29227410117,
           98644.96847060992,
           92004.93591831205,
           85622.19461720755,
           79496.74456729648,
           73628.58576857879,
           68017.71822105444,
           62664.14192472352,
           57567.856879585954,
           52728.86308564178,
           48147.16054289101,
           43822.74925133362,
           39755.62921096959,
           35945.80042179895,
           32393.262883821702,
           29098.01659703784,
           26060.061561447365,
           23279.39777705027,
           20756.02524384657,
           18489.94396183624,
           16481.153931019304,
           14729.655151395738,
           13235.447622965572,
           11998.53134572878,
           11018.906319685373,
           10296.572544835364,
           9831.530021178727,
           9623.778748715478,
           9673.318727445616,
           9980.149957369136,
           10544.272438486043,
           11365.686170796333,
           12444.391154300007,
           13780.387388997066,
           15373.674874887509,
           17224.253611971344,
           19332.123600248542
          ],
          [
           135704.5,
           127900.2070090739,
           120346.0767738617,
           113042.10929436347,
           105988.30457057922,
           99184.66260250888,
           92631.18339015252,
           86327.8669335101,
           80274.71323258162,
           74471.72228736705,
           68918.89409786648,
           63616.228664079834,
           58563.72598600715,
           53761.38606364838,
           49209.20889700358,
           44907.19448607273,
           40855.34283085582,
           37053.65393135287,
           33502.127787563855,
           30200.764399488802,
           27149.56376712767,
           24348.5258904805,
           21797.65076954727,
           19496.938404327993,
           17446.38879482267,
           15646.001941031289,
           14095.777842953847,
           12795.716500590364,
           11745.817913940826,
           10946.08208300523,
           10396.509007783581,
           10097.098688275886,
           10047.851124482133,
           10248.766316402329,
           10699.844264036476,
           11401.084967384559,
           12352.488426446607,
           13554.054641222587,
           15005.783611712515,
           16707.675337916397,
           18659.72981983422
          ],
          [
           135704.5,
           128017.8311165201,
           120574.54989120149,
           113374.65632404436,
           106418.15041504854,
           99705.03216421418,
           93235.30157154112,
           87008.95863702947,
           81026.00336067923,
           75286.43574249034,
           69790.25578246283,
           64537.46348059673,
           59528.05883689199,
           54762.04185134866,
           50239.4125239667,
           45960.17085474612,
           41924.31684368693,
           38131.85049078911,
           34582.77179605266,
           31277.08075947762,
           28214.77738106395,
           25395.861660811654,
           22820.33359872076,
           20488.193194791238,
           18399.440449023095,
           16554.075361416344,
           14952.097931970971,
           13593.508160686977,
           12478.306047564362,
           11606.491592603137,
           10978.064795803288,
           10593.025657164828,
           10451.37417668775,
           10553.110354372055,
           10898.23419021774,
           11486.74568422481,
           12318.64483639326,
           13393.931646723087,
           14712.606115214301,
           16274.668241866904,
           18080.118026680888
          ],
          [
           135704.5,
           128131.17976448499,
           120794.79823270004,
           113695.35540464513,
           106832.8512803202,
           100207.28585972538,
           93818.65914286047,
           87666.9711297257,
           81752.22182032092,
           76074.41121464616,
           70633.53931270141,
           65429.60611448674,
           60462.61162000205,
           55732.555829247416,
           51239.43874222282,
           46983.260358928244,
           42964.02067936369,
           39181.71970352917,
           35636.357431424665,
           32327.933863050206,
           29256.44899840577,
           26421.90283749135,
           23824.295380306987,
           21463.62662685264,
           19339.89657712831,
           17453.105231134025,
           15803.252588869762,
           14390.33865033553,
           13214.363415531323,
           12275.326884457152,
           11573.229057113005,
           11108.069933498886,
           10879.849513614801,
           10888.567797460744,
           11134.224785036711,
           11616.82047634271,
           12336.354871378742,
           13292.827970144794,
           14486.23977264088,
           15916.590278867006,
           17583.879488823142
          ],
          [
           135704.5,
           128240.52136912405,
           121007.33429555575,
           114004.93877929509,
           107233.33482034206,
           100692.52241869668,
           94382.50157435892,
           88303.27228732887,
           82454.83455760642,
           76837.1883851916,
           71450.33377008446,
           66294.27071228497,
           61368.99921179312,
           56674.51926860886,
           52210.8308827323,
           47977.93405416335,
           43975.82878290207,
           40204.51506894845,
           36663.99291230245,
           33354.26231296409,
           30275.32327093338,
           27427.175786210315,
           24809.819858794894,
           22423.255488687122,
           20267.482675886986,
           18342.501420394503,
           16648.311722209655,
           15184.913581332461,
           13952.306997762898,
           12950.491971500987,
           12179.468502546726,
           11639.236590900104,
           11329.796236561126,
           11251.1474395298,
           11403.29019980611,
           11786.224517390065,
           12399.950392281664,
           13244.467824480918,
           14319.776813987803,
           15625.87736080235,
           17162.76946492452
          ],
          [
           135704.5,
           128346.0999167404,
           121212.62423853528,
           114304.07296538478,
           107620.4460972888,
           101161.74363424738,
           94927.9655762605,
           88919.11192332818,
           83135.18267545043,
           77576.17783262719,
           72242.0973948585,
           67132.9413621444,
           62248.70973448482,
           57589.4025118798,
           53155.019694329356,
           48945.56128183344,
           44961.02727439207,
           41201.417672005264,
           37666.73247467301,
           34356.9716823953,
           31272.135295172135,
           28412.22331300354,
           25777.235735889473,
           23367.17256382997,
           21182.033796825017,
           19221.819434874622,
           17486.529477978765,
           15976.163926137471,
           14690.722779350714,
           13630.206037618509,
           12794.613700940863,
           12183.945769317768,
           11798.202242749223,
           11637.383121235236,
           11701.48840477579,
           11990.518093370898,
           12504.47218702055,
           13243.350685724767,
           14207.153589483527,
           15395.88089829684,
           16809.5326121647
          ],
          [
           135704.5,
           128448.13786070677,
           121411.09334267481,
           114593.3664459041,
           107994.95717039466,
           101615.86551614646,
           95456.09148315959,
           89515.6350714339,
           83794.49628096948,
           78292.67511176635,
           73010.17156382446,
           67946.98563714384,
           63103.1173317245,
           58478.566647566404,
           54073.33358466955,
           49887.418143033974,
           45920.820322659645,
           42173.54012354659,
           38645.57754569478,
           35336.932589104246,
           32247.60525377495,
           29377.59553970693,
           26726.903446900174,
           24295.528975354668,
           22083.47212507043,
           20090.73289604745,
           18317.311288285724,
           16763.207301785264,
           15428.420936546068,
           14312.952192568122,
           13416.801069851437,
           12739.967568396016,
           12282.451688201856,
           12044.253429268965,
           12025.372791597316,
           12225.809775186934,
           12645.564380037813,
           13284.63660614996,
           14143.026453523355,
           15220.733922158017,
           16517.75901205393
          ],
          [
           135704.5,
           128546.83859932736,
           121603.13068678741,
           114873.3762623801,
           108357.57532610548,
           102055.72787796352,
           95967.83391795425,
           90093.89344607759,
           84433.90646233363,
           78987.87296672232,
           73755.79295924373,
           68737.66643989773,
           63933.49340868446,
           59343.27386560382,
           54967.007810655865,
           50804.69524384055,
           46856.336165157925,
           43121.93057460797,
           39601.47847219068,
           36294.97985790605,
           33202.434731754074,
           30323.843093734773,
           27659.204943848148,
           25208.520282094185,
           22971.78910847289,
           20949.01142298427,
           19140.18722562829,
           17545.316516405008,
           16164.399295314364,
           14997.435562356402,
           14044.4253175311,
           13305.368560838475,
           12780.26529227851,
           12469.11551185121,
           12371.919219556577,
           12488.676415394619,
           12819.387099365316,
           13364.051271468683,
           14122.668931704717,
           15095.240080073429,
           16281.764716574788
          ],
          [
           135704.5,
           128642.38860555328,
           121789.09316988302,
           115144.6136929892,
           108708.9501748718,
           102482.10261553086,
           96464.07101496636,
           90654.85537317832,
           85054.45569016671,
           79662.87196593154,
           74480.10420047284,
           69506.15239379056,
           64741.01654588473,
           60184.69665675535,
           55837.19272640242,
           51698.50475482593,
           47768.632742025875,
           44047.576688002264,
           40535.33659275509,
           37231.91245628438,
           34137.304278590105,
           31251.512059672266,
           28574.53579953088,
           26106.37549816595,
           23847.031155577453,
           21796.502771765405,
           19954.79034672979,
           18321.89388047063,
           16897.813372987905,
           15682.548824281641,
           14676.100234351803,
           13878.467603198422,
           13289.650930821474,
           12909.650217220982,
           12738.465462396929,
           12776.096666349322,
           13022.543829078151,
           13477.806950583437,
           14141.886030865158,
           15014.781069923325,
           16096.492067757941
          ],
          [
           135704.5,
           128734.95926581934,
           121969.30898732318,
           115407.54916451154,
           109049.67979738445,
           102895.70088594186,
           96945.61243018377,
           91199.41443011024,
           85657.10688572118,
           80318.68979701665,
           75184.1631639966,
           70253.5269866611,
           65526.78126501013,
           61003.92599904364,
           56684.96118876171,
           52569.88683416425,
           48658.70293525133,
           44951.409492022925,
           41448.006504479024,
           38148.493972619646,
           35052.87189644479,
           32161.140275954454,
           29473.29911114862,
           26989.34840202729,
           24709.288148590505,
           22633.11835083821,
           20760.83900877045,
           19092.450122387203,
           17627.951691688457,
           16367.343716674242,
           15310.626197344533,
           14457.799133699345,
           13808.862525738667,
           13363.81637346252,
           13122.660676870877,
           13085.39543596374,
           13252.02065074114,
           13622.536321203039,
           14196.942447349466,
           14975.239029180406,
           15957.426066695845
          ],
          [
           135704.5,
           128824.7084745488,
           122144.08064764537,
           115662.6165192898,
           109380.31608948203,
           103297.17935822214,
           97413.20632551001,
           91728.39699134575,
           86242.7513557293,
           80956.26941866068,
           75868.95118013983,
           70980.79664016685,
           66291.80579874173,
           61801.9786558644,
           57511.31521153489,
           53419.815465753214,
           49527.47941851933,
           45834.3070698333,
           42340.29841969509,
           39045.45346810472,
           35949.77221506216,
           33053.25466056742,
           30355.900804620505,
           27857.710647221422,
           25558.68418837017,
           23458.82142806673,
           21558.122366311112,
           19856.587003103326,
           18354.215338443362,
           17051.00737233123,
           15946.963104766914,
           15042.082535750427,
           14336.365665281764,
           13829.812493360925,
           13522.423019987911,
           13414.197245162717,
           13505.135168885354,
           13795.23679115581,
           14284.502111974098,
           14972.931131340205,
           15860.523849254132
          ],
          [
           135704.5,
           128911.78202239102,
           122313.68760123274,
           115910.21673652518,
           109701.36942826839,
           103687.14567646234,
           97867.54548110696,
           92242.56884220241,
           86812.21575974852,
           81576.4862337454,
           76535.38026419298,
           71688.89785109129,
           67037.03899444036,
           62579.80369424015,
           58317.19195049068,
           54249.203763191945,
           50375.83913234392,
           46697.09805794666,
           43212.980540000106,
           39923.48657850431,
           36828.61617345922,
           33928.36932486488,
           31222.746032721254,
           28711.74629702837,
           26395.37011778623,
           24273.617494994814,
           22346.488428654124,
           20613.982918764177,
           19076.10096532496,
           17732.842568336473,
           16584.207727798726,
           15630.196443711699,
           14870.808716075408,
           14306.044544889863,
           13935.903930155044,
           13760.386871870944,
           13779.493370037591,
           13993.22342465497,
           14401.577035723076,
           15004.554203241922,
           15802.154927211488
          ],
          [
           135704.5,
           128996.31480950012,
           122478.38853943622,
           116150.72118980836,
           110013.31276061648,
           104066.1632518607,
           98309.27266354086,
           92742.64099565709,
           87366.26824820938,
           82180.15442119763,
           77184.29951462196,
           72378.70352848229,
           67763.36646277865,
           63338.28831751101,
           59103.46909267941,
           55058.90878828381,
           51204.60740432428,
           47540.56494080074,
           44066.78139771325,
           40783.25677506176,
           37689.9910728463,
           34786.98429106686,
           32074.23642972345,
           29551.747488816076,
           27219.517468344704,
           25077.546368309377,
           23125.83418871005,
           21364.380929546754,
           19793.1865908195,
           18412.25117252825,
           17221.574674673026,
           16221.15709725384,
           15410.998440270669,
           14791.098703723523,
           14361.4578876124,
           14122.0759919373,
           14072.953016698226,
           14214.08896189517,
           14545.483827528147,
           15067.13761359715,
           15779.050320102158
          ],
          [
           135704.5,
           129078.43190974354,
           122638.42341266369,
           116384.47450876038,
           110316.5851980337,
           104434.75548048361,
           98738.9853561101,
           93229.27482491321,
           87905.6238868929,
           82768.03254204917,
           77816.50079038205,
           73051.02863189153,
           68471.61606657757,
           64078.26309444019,
           59870.96971547944,
           55849.73592969525,
           52014.56173708765,
           48365.44713765667,
           44902.39213140226,
           41625.39671832444,
           38534.46089842323,
           35629.58467169861,
           32910.76803815057,
           30378.01099777912,
           28031.313550584277,
           25870.675696566006,
           23896.09743572433,
           22107.57876805925,
           20505.119693570767,
           19088.72021225887,
           17858.380324123562,
           16814.100029164845,
           15955.879327382716,
           15283.718218777194,
           14797.616703348254,
           14497.574781095898,
           14383.592452020144,
           14455.669716120983,
           14713.806573398404,
           15158.003023852427,
           15788.259067483034
          ],
          [
           135704.5,
           129158.2495073604,
           122794.01520780222,
           116611.79710132549,
           110611.59518793019,
           104793.40946761641,
           99157.23994038401,
           93703.08660623309,
           88430.94946516363,
           83340.8285171756,
           78432.72376226909,
           73706.63520044391,
           69162.56283170028,
           64800.506656038066,
           60620.46667345731,
           56622.44288395801,
           52806.43528754017,
           49172.443884203756,
           45720.4686739488,
           42450.509656775306,
           39362.566832683246,
           36456.64020167264,
           33732.729763743504,
           31190.835518895812,
           28830.957467129592,
           26653.09560844479,
           24657.249942841452,
           22843.420470319576,
           21211.607190879135,
           19761.81010452015,
           18494.029211242618,
           17408.26451104655,
           16504.51600393192,
           15782.783689898748,
           15243.067568947024,
           14885.36764107675,
           14709.683906287926,
           14716.016364580553,
           14904.365015954638,
           15274.72986041017,
           15827.110897947156
          ],
          [
           135704.5,
           129235.87572404143,
           122945.37151871918,
           116832.98738403332,
           110898.72331998381,
           105142.5793265706,
           99564.5554037938,
           94164.65155165331,
           88942.86777014921,
           83899.20405928146,
           79033.66041905008,
           74346.236849455,
           69836.93335049631,
           65505.74992217395,
           61352.68656448795,
           57377.743277438305,
           53580.92006102502,
           49962.21691524808,
           46521.6338401075,
           43259.170835603254,
           40174.82790173536,
           37268.60503850385,
           34540.50224590867,
           31990.51952394984,
           29618.65687262737,
           27424.914291941255,
           25409.29178189148,
           23571.789342478063,
           21912.40697370101,
           20431.144675560296,
           19128.002448055933,
           18002.980291187934,
           17056.078204956284,
           16287.296189360994,
           15696.634244402041,
           15284.092370079445,
           15049.670566393213,
           14993.36883334331,
           15115.18717092978,
           15415.125579152593,
           15893.184058011757
          ]
         ],
         "type": "surface",
         "visibility": true,
         "x": [
          0,
          10,
          20,
          30,
          40,
          50,
          60,
          70,
          80,
          90,
          100,
          110,
          120,
          130,
          140,
          150,
          160,
          170,
          180,
          190,
          200,
          210,
          220,
          230,
          240,
          250,
          260,
          270,
          280,
          290,
          300,
          310,
          320,
          330,
          340,
          350,
          360,
          370,
          380,
          390,
          400
         ],
         "y": [
          0,
          0.0125,
          0.025,
          0.037500000000000006,
          0.05,
          0.0625,
          0.07500000000000001,
          0.08750000000000001,
          0.1,
          0.1125,
          0.125,
          0.1375,
          0.15000000000000002,
          0.1625,
          0.17500000000000002,
          0.1875,
          0.2,
          0.21250000000000002,
          0.225,
          0.23750000000000002,
          0.25,
          0.2625,
          0.27499999999999997,
          0.2875,
          0.3,
          0.3125,
          0.325,
          0.33749999999999997,
          0.35,
          0.3625,
          0.375,
          0.3875,
          0.4,
          0.4125,
          0.425,
          0.4375,
          0.45,
          0.4625,
          0.475,
          0.4875,
          0.5
         ],
         "z": [
          [
           135704.5,
           119314.50000000001,
           104124.49999999997,
           90134.49999999999,
           77344.50000000003,
           65754.50000000001,
           55364.499999999985,
           46174.5,
           38184.5,
           31394.5,
           25804.500000000007,
           21414.500000000004,
           18224.500000000007,
           16234.499999999998,
           15444.500000000002,
           15854.5,
           17464.5,
           20274.500000000004,
           24284.500000000004,
           29494.500000000004,
           35904.5,
           43514.5,
           52324.5,
           62334.500000000015,
           73544.5,
           85954.50000000001,
           99564.49999999999,
           114374.49999999999,
           130384.5,
           147594.5,
           166004.49999999997,
           185614.49999999997,
           206424.49999999994,
           228434.5,
           251644.50000000003,
           276054.5,
           301664.4999999999,
           328474.50000000006,
           356484.5000000001,
           385694.49999999994,
           416104.49999999994
          ],
          [
           135704.5,
           120575.14759925027,
           106385.746081825,
           93136.2954477242,
           80826.79569694787,
           69457.24682949595,
           59027.64884536855,
           49538.00174456558,
           40988.305527087075,
           33378.56019293304,
           26708.765742103456,
           20978.922174598327,
           16189.029490417674,
           12339.087689561466,
           9429.096772029725,
           7459.056737822446,
           6428.967586939625,
           6338.829319381264,
           7188.641935147364,
           8978.405434237933,
           11708.119816652952,
           15377.785082392431,
           19987.401231456366,
           25536.968263844778,
           32026.48617955764,
           39455.95497859496,
           47825.37466095675,
           57134.74522664299,
           67384.06667565371,
           78573.33900798885,
           90702.5622236485,
           103771.7363226326,
           117780.86130494117,
           132729.9371705741,
           148618.9639195316,
           165447.9415518136,
           183216.87006741995,
           201925.74946635074,
           221574.5797486061,
           242163.36091418582,
           263692.09296309017
          ],
          [
           135704.5,
           121462.17729120981,
           108027.5466263197,
           95400.60800532957,
           83581.36142823944,
           72569.80689504933,
           62365.94440575927,
           52969.77396036916,
           44381.29555887908,
           36600.509201289045,
           29627.41488759897,
           23462.01261780894,
           18104.302391918904,
           13554.284209928888,
           9811.958071838882,
           6877.323977648888,
           4750.381927358905,
           3431.131920968932,
           2919.573958478972,
           3215.708039889024,
           4319.5341651990875,
           6231.052334409162,
           8950.262547519247,
           12477.164804529344,
           16811.75910543945,
           21954.04545024957,
           27904.023838959703,
           34661.69427156984,
           42227.05674808001,
           50600.11126849015,
           59780.85783280035,
           69769.29644101052,
           80565.42709312074,
           92169.24978913095,
           104580.76452904115,
           117799.97131285137,
           131826.87014056166,
           146661.4610121719,
           162303.7439276821,
           178753.71888709243,
           196011.3858904028
          ],
          [
           135704.5,
           122160.44036866231,
           109336.25238922589,
           97231.93606169081,
           85847.49138605698,
           75182.91836232443,
           65238.21699049318,
           56013.38727056321,
           47508.42920253453,
           39723.3427864071,
           32658.128022180987,
           26312.784909856156,
           20687.313449432615,
           15781.713640910344,
           11595.98548428937,
           8130.128979569671,
           5384.14412675126,
           3358.030925834127,
           2051.7893768182853,
           1465.4194797037292,
           1598.9212344904572,
           2452.2946411784737,
           4025.5396997677685,
           6318.65641025835,
           9331.644772650214,
           13064.504786943367,
           17517.236453137804,
           22689.839771233514,
           28582.314741230526,
           35194.66136312882,
           42526.87963692839,
           50578.96956262925,
           59350.93114023139,
           68842.76436973482,
           79054.46925113954,
           89986.04578444554,
           101637.49396965283,
           114008.8138067614,
           127100.00529577126,
           140911.0684366824,
           155442.00322949485
          ],
          [
           135704.5,
           122740.63315710757,
           110431.45647059224,
           98776.96994045394,
           87777.17356669277,
           77432.06734930864,
           67741.65128830158,
           58705.92538367158,
           50324.88963541865,
           42598.544043542795,
           35526.88860804401,
           29109.923328922298,
           23347.64820617768,
           18240.0632398101,
           13787.168429819598,
           9988.963776206174,
           6845.449278969815,
           4356.624938110528,
           2522.490753628309,
           1343.0467255231636,
           818.2928537950893,
           948.2291384440852,
           1732.8555794701501,
           3172.1721768732873,
           5266.178930653491,
           8014.87584081077,
           11418.262907345113,
           15476.340130256536,
           20189.107509545025,
           25556.565045210576,
           31578.712737253205,
           38255.55058567292,
           45587.0785904697,
           53573.29675164352,
           62214.20506919444,
           71509.80354312246,
           81460.09217342752,
           92065.0709601096,
           103324.73990316877,
           115239.09900260511,
           127808.14825841844
          ],
          [
           135704.5,
           123238.49611982488,
           111375.77554029429,
           100116.33826140824,
           89460.18428316676,
           79407.31360556975,
           69957.72622861734,
           61111.42215230947,
           52868.40137664613,
           45228.6639016273,
           38192.20972725306,
           31759.038853523354,
           25929.151280438182,
           20702.54700799756,
           16079.226036201468,
           12059.188365049919,
           8642.433994542915,
           5828.962924680454,
           3618.7751554625347,
           2011.8706868891575,
           1008.2495189603194,
           607.911651676026,
           810.8570850362735,
           1617.0858190410627,
           3026.5978536903904,
           5039.393188984264,
           7655.4718249226835,
           10874.833761505635,
           14697.478998733139,
           19123.407536605173,
           24152.619375121765,
           29785.114514282886,
           36020.892954088544,
           42859.95469453876,
           50302.29973563351,
           58347.9280773728,
           66996.83971975667,
           76249.03466278504,
           86104.5129064579,
           96563.27445077538,
           107625.31929573741
          ],
          [
           135704.5,
           123675.0755702925,
           112206.79137476397,
           101299.64741341458,
           90953.64368624419,
           81168.78019325282,
           71945.05693444054,
           63282.47390980736,
           55181.03111935315,
           47640.728563078046,
           40661.56624098196,
           34243.54415306492,
           28386.66229932696,
           23090.92067976804,
           18356.319294388173,
           14182.858143187344,
           10570.537226165576,
           7519.356543322859,
           5029.316094659185,
           3100.4158801745675,
           1732.6558998689986,
           926.0361537424817,
           680.5566417950153,
           996.217364026599,
           1873.0183204372315,
           3310.959511026917,
           5310.040935795655,
           7870.262594743436,
           10991.624487870276,
           14674.12661517616,
           18917.768976661097,
           23722.551572325097,
           29088.47440216814,
           35015.53746619023,
           41503.74076439136,
           48553.084296771594,
           56163.56806333079,
           64335.19206406912,
           73067.95629898644,
           82361.86076808286,
           92216.90547135829
          ],
          [
           135704.5,
           124063.99624224912,
           112949.1337848778,
           102359.91262788617,
           92296.33277127406,
           82758.39421504157,
           73746.09695918867,
           65259.44100371536,
           57298.42634862165,
           49863.05299390757,
           42953.32093957306,
           36569.23018561815,
           30710.780732042862,
           25377.972578847144,
           20570.80572603105,
           16289.280173594534,
           12533.395921537622,
           9303.152969860312,
           6598.551318562594,
           4419.590967644476,
           2766.271917105959,
           1638.5941669470392,
           1036.5577171677176,
           960.1625677679945,
           1409.4087187478679,
           2384.2961701073395,
           3884.8249218464134,
           5910.994973965082,
           8462.806326463351,
           11540.258979341212,
           15143.35293259868,
           19272.088186235742,
           23926.464740252406,
           29106.48259464867,
           34812.14174942451,
           41043.442204579995,
           47800.38396011505,
           55082.96701602969,
           62891.19137232393,
           71225.05702899776,
           80084.56398605125
          ],
          [
           135704.5,
           124414.66408431488,
           113619.95612080919,
           103320.37610948306,
           93515.92405033641,
           84206.59994336922,
           75392.40378858153,
           67073.33558597337,
           59249.39533554468,
           51920.583037295495,
           45086.89869122579,
           38748.34229733561,
           32904.9138556249,
           27556.61336609368,
           22703.440828741976,
           18345.396243569743,
           14482.479610577015,
           11114.690929763778,
           8242.030201130035,
           5864.497424675795,
           3982.0926004010425,
           2594.8157283057844,
           1702.6668083900233,
           1305.6458406537545,
           1403.7528250969808,
           1996.9877617197003,
           3085.350650521914,
           4668.841491503624,
           6747.460284664827,
           9321.207030005526,
           12390.081727525718,
           15954.084377225403,
           20013.214979104578,
           24567.47353316326,
           29616.860039401447,
           35161.3744978191,
           41201.01690841627,
           47735.7872711929,
           54765.685586149055,
           62290.71185328469,
           70310.86607259983
          ],
          [
           135704.5,
           124733.88215726364,
           114231.74844258388,
           104198.09885596076,
           94632.93339739428,
           85536.25206688442,
           76908.05486443121,
           68748.3417900346,
           61057.11284369461,
           53834.36802541126,
           47080.107335184526,
           40794.33077301445,
           34977.03833890099,
           29628.230032844167,
           24747.90585484395,
           20336.065804900376,
           16392.709883013416,
           12917.838089183104,
           9911.45042340941,
           7373.546885692345,
           5304.127476031907,
           3703.1921944281007,
           2570.741040880921,
           1906.774015390369,
           1711.2911179564446,
           1984.2923485791478,
           2725.7777072584827,
           3935.747193994443,
           5614.20080878703,
           7761.138551636245,
           10376.560422542088,
           13460.466421504565,
           17012.856548523683,
           21033.730803599396,
           25523.08918673177,
           30480.93169792076,
           35907.25833716637,
           41802.069104468625,
           48165.363999827474,
           54997.14302324295,
           62297.40617471513
          ],
          [
           135704.5,
           125026.74830576255,
           114793.9204009575,
           105006.01628558486,
           95663.03595964464,
           86764.97942313676,
           78311.84667606134,
           70303.63771841834,
           62740.35255020771,
           55621.99117142949,
           48948.553582083696,
           42720.03978217029,
           36936.44977168931,
           31597.783550640703,
           26704.041119024514,
           22255.222476840743,
           18251.327624089365,
           14692.356560770388,
           11578.309286883827,
           8909.185802429665,
           6684.986107407908,
           4905.71020181856,
           3571.3580856616168,
           2681.9297589370763,
           2237.4252216449436,
           2237.844473785212,
           2683.1875153578885,
           3573.4543463629693,
           4908.644966800453,
           6688.759376670343,
           8913.797575972643,
           11583.759564707345,
           14698.645342874459,
           18258.45491047397,
           22263.18826750589,
           26712.84541397021,
           31607.426349866935,
           36946.93107519608,
           42731.359589957596,
           48960.71189415154,
           55634.98798777792
          ],
          [
           135704.5,
           125297.19081409219,
           115313.75491851082,
           105754.19231325605,
           96618.50299832772,
           87906.68697372588,
           79618.74423945056,
           71754.6747955017,
           64314.478641879396,
           57298.15577858355,
           50705.70620561421,
           44537.12992297137,
           38792.426930655034,
           33471.59722866518,
           28574.640817001822,
           24101.557695664964,
           20052.34786465462,
           16427.011323970753,
           13225.548073613394,
           10447.958113582528,
           8094.241443878163,
           6164.398064500293,
           4658.4279754489235,
           3576.331176724049,
           2918.1076683256742,
           2683.7574502537927,
           2873.280522508412,
           3486.6768850895296,
           4523.946537997139,
           5985.089481231248,
           7870.105714791854,
           10178.995238678963,
           12911.758052892568,
           16068.394157432669,
           19648.903552299274,
           23653.28623749236,
           28081.542213011962,
           32933.671478858036,
           38209.67403503063,
           43909.549881529725,
           50033.2990183553
          ],
          [
           135704.5,
           125548.30617004323,
           115797.01415772538,
           106450.62396304663,
           97509.13558600683,
           88972.54902660607,
           80840.8642848443,
           73114.08136072154,
           65792.20025423777,
           58875.22096539301,
           52363.14349418728,
           46255.967840620535,
           40553.69400469283,
           35256.32198640409,
           30363.85178575438,
           25876.283402743666,
           21793.616837371967,
           18115.852089639273,
           14842.989159545581,
           11975.028047090904,
           9511.968752275221,
           7453.81127509855,
           5800.55561556089,
           4552.201773662231,
           3708.749749402584,
           3270.1995427819397,
           3236.5511538003025,
           3607.8045824576707,
           4383.959828754046,
           5565.0168926894285,
           7150.97577426382,
           9141.836473477219,
           11537.598990329621,
           14338.26332482103,
           17543.829476951447,
           21154.297446720873,
           25169.667234129305,
           29589.93883917673,
           34415.112261863156,
           39645.18750218862,
           45280.164560153105
          ],
          [
           135704.5,
           125782.58159507632,
           116248.34126658454,
           107101.7790145247,
           98342.89483889675,
           89971.68873970068,
           81988.16071693655,
           74392.31077060432,
           67184.138900704,
           60363.64510723559,
           53930.82939019908,
           47885.691749594494,
           42228.23218542182,
           36958.45069768103,
           32076.347286372173,
           27581.92195149521,
           23475.174693050172,
           19756.105511037033,
           16424.714405455798,
           13481.001376306478,
           10924.966423589069,
           8756.60954730356,
           6975.930747449969,
           5582.930024028283,
           4577.607377038514,
           3959.9628064806448,
           3729.9963123546872,
           3887.707894660639,
           4433.097553398498,
           5366.165288568267,
           6686.91110016995,
           8395.334988203536,
           10491.436952669032,
           12975.216993566439,
           15846.675110895758,
           19105.811304656992,
           22752.625574850113,
           26787.11792147517,
           31209.288344532095,
           36019.13684402097,
           41216.663419941746
          ],
          [
           135704.5,
           126002.0469898714,
           116671.53614864439,
           107712.96747631914,
           99126.3409728956,
           90911.65663837384,
           83068.91447275374,
           75598.11447603538,
           68499.2566482187,
           61772.34098930375,
           55417.36749929051,
           49434.33617817902,
           43823.24702596921,
           38584.100042661135,
           33716.89522825476,
           29221.63258275011,
           25098.31210614717,
           21346.933798445945,
           17967.497659646426,
           14960.003689748635,
           12324.451888752566,
           10060.8422566582,
           8169.174793465554,
           6649.449499174619,
           5501.666373785401,
           4725.825417297901,
           4321.926629712111,
           4289.970011028041,
           4629.9555612456825,
           5341.883280365041,
           6425.753168386116,
           7881.565225308904,
           9709.319451133406,
           11909.015845859634,
           14480.654409487566,
           17424.235142017227,
           20739.758043448586,
           24427.22311378166,
           28486.630353016455,
           32917.97976115297,
           37721.2713381912
          ],
          [
           135704.5,
           126208.3818149793,
           117069.75032700524,
           108288.60553607787,
           99864.94744219717,
           91798.7760453631,
           84090.09134557573,
           76738.89334283501,
           69745.18203714097,
           63108.957428493566,
           56830.21951689282,
           50908.968302338755,
           45345.20378483136,
           40138.92596437062,
           35290.13484095654,
           30798.830414589112,
           26665.01268526837,
           22888.681652994277,
           19469.837317766847,
           16408.479679586097,
           13704.608738451992,
           11358.224494364558,
           9369.326947323787,
           7737.916097329676,
           6463.991944382234,
           5547.554488481452,
           4988.60372962733,
           4787.139667819875,
           4943.162303059083,
           5456.671635344953,
           6327.6676646774895,
           7556.150391056685,
           9142.119814482548,
           11085.575934955077,
           13386.518752474261,
           16044.94826704011,
           19060.864478652624,
           22434.26738731181,
           26165.15699301765,
           30253.533295770158,
           34699.39629556933
          ],
          [
           135704.5,
           126402.99218725723,
           117445.62806396418,
           108832.40763012078,
           100563.33088572707,
           92638.39783078304,
           85057.60846528872,
           77820.96278924409,
           70928.46080264909,
           64380.10250550381,
           58175.887897808214,
           52315.81697956232,
           46799.88975076609,
           41628.10621141954,
           36800.46636152268,
           32316.97020107551,
           28177.61773007804,
           24382.408948530243,
           20931.34385643212,
           17824.42245378369,
           15061.644740584945,
           12643.010716835885,
           10568.520382536512,
           8838.173737686826,
           7451.9707822868195,
           6409.9115163364995,
           5711.995939835866,
           5358.224052784914,
           5348.59585518365,
           5683.111347032073,
           6361.770528330178,
           7384.573399077974,
           8751.519959275443,
           10462.610208922615,
           12517.84414801946,
           14917.221776565992,
           17660.743094562207,
           20748.408102008103,
           24180.216798903686,
           27956.169185248975,
           32076.265261043918
          ],
          [
           135704.5,
           126587.06770556558,
           117801.41074077314,
           109347.52910562245,
           101225.42280011377,
           93435.0918242469,
           85976.53617802197,
           78849.75586143897,
           72054.75087449784,
           65591.52121719855,
           59460.06688954122,
           53660.38789152576,
           48192.48422315222,
           43056.355884420555,
           38252.00287533079,
           33779.425195882926,
           29638.622846076945,
           25829.59582591287,
           22352.344135390686,
           19206.867774510407,
           16393.16674327201,
           13911.241041675521,
           11761.090669720927,
           9942.715627408219,
           8456.115914737416,
           7301.291531708503,
           6478.242478321484,
           5986.968754576366,
           5827.47036047314,
           5999.747296011814,
           6503.79956119238,
           7339.627156014842,
           8507.2300804792,
           10006.608334585459,
           11837.761918333616,
           14000.69083172366,
           16495.39507475561,
           19321.87464742944,
           22480.129549745176,
           25970.1597817028,
           29791.965343302334
          ],
          [
           135704.5,
           126761.62412832018,
           118139.01549402787,
           109836.67409712308,
           101854.59993760574,
           94192.79301547592,
           86851.25333073364,
           79829.98088337887,
           73128.97567341155,
           66748.23770083176,
           60687.766965639465,
           54947.563467834676,
           49527.62720741739,
           44427.95818438761,
           39648.55639874534,
           35189.42185049056,
           31050.5545396233,
           27231.954466143517,
           23733.621630051257,
           20555.556031346492,
           17697.757670029237,
           15160.226546099477,
           12942.962659557228,
           11045.966010402479,
           9469.236598635236,
           8212.774424255493,
           7276.579487263248,
           6660.651787658514,
           6364.991325441278,
           6389.59810061155,
           6734.472113169322,
           7399.613363114594,
           8385.021850447372,
           9690.697575167658,
           11316.640537275449,
           13262.850736770743,
           15529.328173653534,
           18116.072847923824,
           21023.084759581616,
           24250.36390862693,
           27797.91029505974
          ],
          [
           135704.5,
           126927.53595738398,
           118460.09542190321,
           110302.17839355773,
           102453.78487234746,
           94914.91485827253,
           87685.56835133287,
           80765.74535152846,
           74155.44585885936,
           67854.66987332552,
           61863.417394926946,
           56181.68842366366,
           50809.48295953563,
           45746.801002542874,
           40993.64255268542,
           36550.007609963206,
           32415.896174376296,
           28591.30824592465,
           25076.243824608275,
           21870.70291042718,
           18974.685503381355,
           16388.191603470805,
           14111.22121069553,
           12143.774325055532,
           10485.850946550809,
           9137.451075181356,
           8098.57471094718,
           7369.221853848282,
           6949.392503884651,
           6839.0866610563,
           7038.30432536322,
           7547.045496805419,
           8365.31017538289,
           9493.098361095645,
           10930.410053943659,
           12677.245253926954,
           14733.603961045526,
           17099.486175299367,
           19774.891896688496,
           22759.8211252129,
           26054.27386087256
          ],
          [
           135704.5,
           127085.56168088778,
           118766.08634411402,
           110746.07398967896,
           103025.52461758249,
           95604.43822782453,
           88482.81482040524,
           81660.65439532451,
           75137.9569525824,
           68914.72249217884,
           62990.9510141139,
           57366.642518387554,
           52041.79700499978,
           47016.414473950616,
           42290.49492524004,
           37864.03835886806,
           33737.044774834685,
           29909.514173139873,
           26381.446553783655,
           23152.841916766036,
           20223.700262087008,
           17594.021589746582,
           15263.80589974474,
           13233.053192081496,
           11501.763466756842,
           10069.936723770776,
           8937.5729631233,
           8104.672184814419,
           7571.23438884413,
           7337.259575212435,
           7402.747743919333,
           7767.698894964822,
           8432.113028348893,
           9395.990144071577,
           10659.33024213284,
           12222.1333225327,
           14084.399385271148,
           16246.128430348195,
           18707.320457763828,
           21467.97546751804,
           24528.09345961086
          ],
          [
           135704.5,
           127236.36358505565,
           119058.24358589265,
           111170.1400025112,
           103572.05283491111,
           96263.98208309249,
           89245.92774705532,
           82517.88982679957,
           76079.86832232527,
           69931.86323363241,
           64073.87456072102,
           58505.90230359104,
           53227.946462242515,
           48240.007036675444,
           43542.08402688982,
           39134.177432885605,
           35016.287254662864,
           31188.413492221553,
           27650.556145561684,
           24402.71521468325,
           21444.890699586267,
           18777.082600270725,
           16399.29091673663,
           14311.515648983977,
           12513.756797012764,
           11006.014360822986,
           9788.288340414654,
           8860.578735787767,
           8222.885546942322,
           7875.208773878322,
           7817.548416595757,
           8049.9044750946405,
           8572.276949374964,
           9384.665839436739,
           10487.07114527994,
           11879.492866904591,
           13561.93100431069,
           15534.38555749823,
           17796.856526467207,
           20349.343911217617,
           23191.847711749488
          ],
          [
           135704.5,
           127380.52348645165,
           119337.67124892406,
           111575.94328741703,
           104095.33960193065,
           96895.86019246494,
           89977.50505901985,
           83340.27420159544,
           76984.16762019166,
           70909.18531480849,
           65115.32728544598,
           59602.59353210416,
           54370.98405478295,
           49420.49885348239,
           44751.13792820248,
           40362.901278943216,
           36255.78890570458,
           32429.80080848661,
           28884.93698728927,
           25621.197442112592,
           22638.582172956558,
           19937.091179821156,
           17516.724462706417,
           15377.482021612308,
           13519.363856538856,
           11942.369967486038,
           10646.500354453874,
           9631.755017442345,
           8898.133956451476,
           8445.637171481249,
           8274.264662531665,
           8384.016429602725,
           8774.892472694433,
           9446.892791806793,
           10400.01738693979,
           11634.266258093436,
           13149.639405267728,
           14946.136828462662,
           17023.758527678237,
           19382.50450291447,
           22022.374754171342
          ],
          [
           135704.5,
           127518.55535753035,
           119605.3457473453,
           111964.87116944474,
           104597.13162382873,
           97502.12711049725,
           90679.85762945026,
           84130.32318068782,
           77853.52376420992,
           71849.45938001656,
           66118.13002810768,
           60659.53570848337,
           55473.67642114362,
           50560.55216608834,
           45920.162943317635,
           41552.5087528314,
           37457.58959462977,
           33635.405468712626,
           30085.956375080004,
           26809.242313731935,
           23805.26328466839,
           21074.019287889372,
           18615.510323394887,
           16429.736391184928,
           14516.697491259509,
           12876.393623618605,
           11508.824788262242,
           10413.990985190409,
           9591.8922144031,
           9042.528475900319,
           8765.899769682075,
           8762.00609574836,
           9030.847454099168,
           9572.423844734516,
           10386.735267654389,
           11473.78172285879,
           12833.563210347727,
           14466.07973012118,
           16371.331282179179,
           18549.3178665217,
           21000.039483148757
          ],
          [
           135704.5,
           127650.91555687992,
           119862.13491237882,
           112338.15806649668,
           105078.98501923346,
           98084.6157705892,
           91355.05032056393,
           84890.2886691576,
           78690.33081637022,
           72755.1767622018,
           67084.82650665233,
           61679.28004972185,
           56538.537391410304,
           51662.59853171772,
           47051.46347064408,
           42705.1322081894,
           38623.604744353666,
           34806.881079136896,
           31254.961212539107,
           27967.845144560262,
           24945.53287520037,
           22188.02440445943,
           19695.31973233745,
           17467.418858834433,
           15504.321783950372,
           13806.02850768526,
           12372.539030039105,
           11203.853351011914,
           10299.971470603676,
           9660.893388814398,
           9286.61910564407,
           9177.148621092701,
           9332.481935160296,
           9752.619047846842,
           10437.559959152351,
           11387.30466907681,
           12601.85317762023,
           14081.205484782597,
           15825.36159056394,
           17834.32149496422,
           20108.08519798346
          ],
          [
           135704.5,
           127778.01119173519,
           120108.81363466383,
           112696.90732878582,
           105542.29227410117,
           98644.96847060992,
           92004.93591831205,
           85622.19461720755,
           79496.74456729648,
           73628.58576857879,
           68017.71822105444,
           62664.14192472352,
           57567.856879585954,
           52728.86308564178,
           48147.16054289101,
           43822.74925133362,
           39755.62921096959,
           35945.80042179895,
           32393.262883821702,
           29098.01659703784,
           26060.061561447365,
           23279.39777705027,
           20756.02524384657,
           18489.94396183624,
           16481.153931019304,
           14729.655151395738,
           13235.447622965572,
           11998.53134572878,
           11018.906319685373,
           10296.572544835364,
           9831.530021178727,
           9623.778748715478,
           9673.318727445616,
           9980.149957369136,
           10544.272438486043,
           11365.686170796333,
           12444.391154300007,
           13780.387388997066,
           15373.674874887509,
           17224.253611971344,
           19332.123600248542
          ],
          [
           135704.5,
           127900.2070090739,
           120346.0767738617,
           113042.10929436347,
           105988.30457057922,
           99184.66260250888,
           92631.18339015252,
           86327.8669335101,
           80274.71323258162,
           74471.72228736705,
           68918.89409786648,
           63616.228664079834,
           58563.72598600715,
           53761.38606364838,
           49209.20889700358,
           44907.19448607273,
           40855.34283085582,
           37053.65393135287,
           33502.127787563855,
           30200.764399488802,
           27149.56376712767,
           24348.5258904805,
           21797.65076954727,
           19496.938404327993,
           17446.38879482267,
           15646.001941031289,
           14095.777842953847,
           12795.716500590364,
           11745.817913940826,
           10946.08208300523,
           10396.509007783581,
           10097.098688275886,
           10047.851124482133,
           10248.766316402329,
           10699.844264036476,
           11401.084967384559,
           12352.488426446607,
           13554.054641222587,
           15005.783611712515,
           16707.675337916397,
           18659.72981983422
          ],
          [
           135704.5,
           128017.8311165201,
           120574.54989120149,
           113374.65632404436,
           106418.15041504854,
           99705.03216421418,
           93235.30157154112,
           87008.95863702947,
           81026.00336067923,
           75286.43574249034,
           69790.25578246283,
           64537.46348059673,
           59528.05883689199,
           54762.04185134866,
           50239.4125239667,
           45960.17085474612,
           41924.31684368693,
           38131.85049078911,
           34582.77179605266,
           31277.08075947762,
           28214.77738106395,
           25395.861660811654,
           22820.33359872076,
           20488.193194791238,
           18399.440449023095,
           16554.075361416344,
           14952.097931970971,
           13593.508160686977,
           12478.306047564362,
           11606.491592603137,
           10978.064795803288,
           10593.025657164828,
           10451.37417668775,
           10553.110354372055,
           10898.23419021774,
           11486.74568422481,
           12318.64483639326,
           13393.931646723087,
           14712.606115214301,
           16274.668241866904,
           18080.118026680888
          ],
          [
           135704.5,
           128131.17976448499,
           120794.79823270004,
           113695.35540464513,
           106832.8512803202,
           100207.28585972538,
           93818.65914286047,
           87666.9711297257,
           81752.22182032092,
           76074.41121464616,
           70633.53931270141,
           65429.60611448674,
           60462.61162000205,
           55732.555829247416,
           51239.43874222282,
           46983.260358928244,
           42964.02067936369,
           39181.71970352917,
           35636.357431424665,
           32327.933863050206,
           29256.44899840577,
           26421.90283749135,
           23824.295380306987,
           21463.62662685264,
           19339.89657712831,
           17453.105231134025,
           15803.252588869762,
           14390.33865033553,
           13214.363415531323,
           12275.326884457152,
           11573.229057113005,
           11108.069933498886,
           10879.849513614801,
           10888.567797460744,
           11134.224785036711,
           11616.82047634271,
           12336.354871378742,
           13292.827970144794,
           14486.23977264088,
           15916.590278867006,
           17583.879488823142
          ],
          [
           135704.5,
           128240.52136912405,
           121007.33429555575,
           114004.93877929509,
           107233.33482034206,
           100692.52241869668,
           94382.50157435892,
           88303.27228732887,
           82454.83455760642,
           76837.1883851916,
           71450.33377008446,
           66294.27071228497,
           61368.99921179312,
           56674.51926860886,
           52210.8308827323,
           47977.93405416335,
           43975.82878290207,
           40204.51506894845,
           36663.99291230245,
           33354.26231296409,
           30275.32327093338,
           27427.175786210315,
           24809.819858794894,
           22423.255488687122,
           20267.482675886986,
           18342.501420394503,
           16648.311722209655,
           15184.913581332461,
           13952.306997762898,
           12950.491971500987,
           12179.468502546726,
           11639.236590900104,
           11329.796236561126,
           11251.1474395298,
           11403.29019980611,
           11786.224517390065,
           12399.950392281664,
           13244.467824480918,
           14319.776813987803,
           15625.87736080235,
           17162.76946492452
          ],
          [
           135704.5,
           128346.0999167404,
           121212.62423853528,
           114304.07296538478,
           107620.4460972888,
           101161.74363424738,
           94927.9655762605,
           88919.11192332818,
           83135.18267545043,
           77576.17783262719,
           72242.0973948585,
           67132.9413621444,
           62248.70973448482,
           57589.4025118798,
           53155.019694329356,
           48945.56128183344,
           44961.02727439207,
           41201.417672005264,
           37666.73247467301,
           34356.9716823953,
           31272.135295172135,
           28412.22331300354,
           25777.235735889473,
           23367.17256382997,
           21182.033796825017,
           19221.819434874622,
           17486.529477978765,
           15976.163926137471,
           14690.722779350714,
           13630.206037618509,
           12794.613700940863,
           12183.945769317768,
           11798.202242749223,
           11637.383121235236,
           11701.48840477579,
           11990.518093370898,
           12504.47218702055,
           13243.350685724767,
           14207.153589483527,
           15395.88089829684,
           16809.5326121647
          ],
          [
           135704.5,
           128448.13786070677,
           121411.09334267481,
           114593.3664459041,
           107994.95717039466,
           101615.86551614646,
           95456.09148315959,
           89515.6350714339,
           83794.49628096948,
           78292.67511176635,
           73010.17156382446,
           67946.98563714384,
           63103.1173317245,
           58478.566647566404,
           54073.33358466955,
           49887.418143033974,
           45920.820322659645,
           42173.54012354659,
           38645.57754569478,
           35336.932589104246,
           32247.60525377495,
           29377.59553970693,
           26726.903446900174,
           24295.528975354668,
           22083.47212507043,
           20090.73289604745,
           18317.311288285724,
           16763.207301785264,
           15428.420936546068,
           14312.952192568122,
           13416.801069851437,
           12739.967568396016,
           12282.451688201856,
           12044.253429268965,
           12025.372791597316,
           12225.809775186934,
           12645.564380037813,
           13284.63660614996,
           14143.026453523355,
           15220.733922158017,
           16517.75901205393
          ],
          [
           135704.5,
           128546.83859932736,
           121603.13068678741,
           114873.3762623801,
           108357.57532610548,
           102055.72787796352,
           95967.83391795425,
           90093.89344607759,
           84433.90646233363,
           78987.87296672232,
           73755.79295924373,
           68737.66643989773,
           63933.49340868446,
           59343.27386560382,
           54967.007810655865,
           50804.69524384055,
           46856.336165157925,
           43121.93057460797,
           39601.47847219068,
           36294.97985790605,
           33202.434731754074,
           30323.843093734773,
           27659.204943848148,
           25208.520282094185,
           22971.78910847289,
           20949.01142298427,
           19140.18722562829,
           17545.316516405008,
           16164.399295314364,
           14997.435562356402,
           14044.4253175311,
           13305.368560838475,
           12780.26529227851,
           12469.11551185121,
           12371.919219556577,
           12488.676415394619,
           12819.387099365316,
           13364.051271468683,
           14122.668931704717,
           15095.240080073429,
           16281.764716574788
          ],
          [
           135704.5,
           128642.38860555328,
           121789.09316988302,
           115144.6136929892,
           108708.9501748718,
           102482.10261553086,
           96464.07101496636,
           90654.85537317832,
           85054.45569016671,
           79662.87196593154,
           74480.10420047284,
           69506.15239379056,
           64741.01654588473,
           60184.69665675535,
           55837.19272640242,
           51698.50475482593,
           47768.632742025875,
           44047.576688002264,
           40535.33659275509,
           37231.91245628438,
           34137.304278590105,
           31251.512059672266,
           28574.53579953088,
           26106.37549816595,
           23847.031155577453,
           21796.502771765405,
           19954.79034672979,
           18321.89388047063,
           16897.813372987905,
           15682.548824281641,
           14676.100234351803,
           13878.467603198422,
           13289.650930821474,
           12909.650217220982,
           12738.465462396929,
           12776.096666349322,
           13022.543829078151,
           13477.806950583437,
           14141.886030865158,
           15014.781069923325,
           16096.492067757941
          ],
          [
           135704.5,
           128734.95926581934,
           121969.30898732318,
           115407.54916451154,
           109049.67979738445,
           102895.70088594186,
           96945.61243018377,
           91199.41443011024,
           85657.10688572118,
           80318.68979701665,
           75184.1631639966,
           70253.5269866611,
           65526.78126501013,
           61003.92599904364,
           56684.96118876171,
           52569.88683416425,
           48658.70293525133,
           44951.409492022925,
           41448.006504479024,
           38148.493972619646,
           35052.87189644479,
           32161.140275954454,
           29473.29911114862,
           26989.34840202729,
           24709.288148590505,
           22633.11835083821,
           20760.83900877045,
           19092.450122387203,
           17627.951691688457,
           16367.343716674242,
           15310.626197344533,
           14457.799133699345,
           13808.862525738667,
           13363.81637346252,
           13122.660676870877,
           13085.39543596374,
           13252.02065074114,
           13622.536321203039,
           14196.942447349466,
           14975.239029180406,
           15957.426066695845
          ],
          [
           135704.5,
           128824.7084745488,
           122144.08064764537,
           115662.6165192898,
           109380.31608948203,
           103297.17935822214,
           97413.20632551001,
           91728.39699134575,
           86242.7513557293,
           80956.26941866068,
           75868.95118013983,
           70980.79664016685,
           66291.80579874173,
           61801.9786558644,
           57511.31521153489,
           53419.815465753214,
           49527.47941851933,
           45834.3070698333,
           42340.29841969509,
           39045.45346810472,
           35949.77221506216,
           33053.25466056742,
           30355.900804620505,
           27857.710647221422,
           25558.68418837017,
           23458.82142806673,
           21558.122366311112,
           19856.587003103326,
           18354.215338443362,
           17051.00737233123,
           15946.963104766914,
           15042.082535750427,
           14336.365665281764,
           13829.812493360925,
           13522.423019987911,
           13414.197245162717,
           13505.135168885354,
           13795.23679115581,
           14284.502111974098,
           14972.931131340205,
           15860.523849254132
          ],
          [
           135704.5,
           128911.78202239102,
           122313.68760123274,
           115910.21673652518,
           109701.36942826839,
           103687.14567646234,
           97867.54548110696,
           92242.56884220241,
           86812.21575974852,
           81576.4862337454,
           76535.38026419298,
           71688.89785109129,
           67037.03899444036,
           62579.80369424015,
           58317.19195049068,
           54249.203763191945,
           50375.83913234392,
           46697.09805794666,
           43212.980540000106,
           39923.48657850431,
           36828.61617345922,
           33928.36932486488,
           31222.746032721254,
           28711.74629702837,
           26395.37011778623,
           24273.617494994814,
           22346.488428654124,
           20613.982918764177,
           19076.10096532496,
           17732.842568336473,
           16584.207727798726,
           15630.196443711699,
           14870.808716075408,
           14306.044544889863,
           13935.903930155044,
           13760.386871870944,
           13779.493370037591,
           13993.22342465497,
           14401.577035723076,
           15004.554203241922,
           15802.154927211488
          ],
          [
           135704.5,
           128996.31480950012,
           122478.38853943622,
           116150.72118980836,
           110013.31276061648,
           104066.1632518607,
           98309.27266354086,
           92742.64099565709,
           87366.26824820938,
           82180.15442119763,
           77184.29951462196,
           72378.70352848229,
           67763.36646277865,
           63338.28831751101,
           59103.46909267941,
           55058.90878828381,
           51204.60740432428,
           47540.56494080074,
           44066.78139771325,
           40783.25677506176,
           37689.9910728463,
           34786.98429106686,
           32074.23642972345,
           29551.747488816076,
           27219.517468344704,
           25077.546368309377,
           23125.83418871005,
           21364.380929546754,
           19793.1865908195,
           18412.25117252825,
           17221.574674673026,
           16221.15709725384,
           15410.998440270669,
           14791.098703723523,
           14361.4578876124,
           14122.0759919373,
           14072.953016698226,
           14214.08896189517,
           14545.483827528147,
           15067.13761359715,
           15779.050320102158
          ],
          [
           135704.5,
           129078.43190974354,
           122638.42341266369,
           116384.47450876038,
           110316.5851980337,
           104434.75548048361,
           98738.9853561101,
           93229.27482491321,
           87905.6238868929,
           82768.03254204917,
           77816.50079038205,
           73051.02863189153,
           68471.61606657757,
           64078.26309444019,
           59870.96971547944,
           55849.73592969525,
           52014.56173708765,
           48365.44713765667,
           44902.39213140226,
           41625.39671832444,
           38534.46089842323,
           35629.58467169861,
           32910.76803815057,
           30378.01099777912,
           28031.313550584277,
           25870.675696566006,
           23896.09743572433,
           22107.57876805925,
           20505.119693570767,
           19088.72021225887,
           17858.380324123562,
           16814.100029164845,
           15955.879327382716,
           15283.718218777194,
           14797.616703348254,
           14497.574781095898,
           14383.592452020144,
           14455.669716120983,
           14713.806573398404,
           15158.003023852427,
           15788.259067483034
          ],
          [
           135704.5,
           129158.2495073604,
           122794.01520780222,
           116611.79710132549,
           110611.59518793019,
           104793.40946761641,
           99157.23994038401,
           93703.08660623309,
           88430.94946516363,
           83340.8285171756,
           78432.72376226909,
           73706.63520044391,
           69162.56283170028,
           64800.506656038066,
           60620.46667345731,
           56622.44288395801,
           52806.43528754017,
           49172.443884203756,
           45720.4686739488,
           42450.509656775306,
           39362.566832683246,
           36456.64020167264,
           33732.729763743504,
           31190.835518895812,
           28830.957467129592,
           26653.09560844479,
           24657.249942841452,
           22843.420470319576,
           21211.607190879135,
           19761.81010452015,
           18494.029211242618,
           17408.26451104655,
           16504.51600393192,
           15782.783689898748,
           15243.067568947024,
           14885.36764107675,
           14709.683906287926,
           14716.016364580553,
           14904.365015954638,
           15274.72986041017,
           15827.110897947156
          ],
          [
           135704.5,
           129235.87572404143,
           122945.37151871918,
           116832.98738403332,
           110898.72331998381,
           105142.5793265706,
           99564.5554037938,
           94164.65155165331,
           88942.86777014921,
           83899.20405928146,
           79033.66041905008,
           74346.236849455,
           69836.93335049631,
           65505.74992217395,
           61352.68656448795,
           57377.743277438305,
           53580.92006102502,
           49962.21691524808,
           46521.6338401075,
           43259.170835603254,
           40174.82790173536,
           37268.60503850385,
           34540.50224590867,
           31990.51952394984,
           29618.65687262737,
           27424.914291941255,
           25409.29178189148,
           23571.789342478063,
           21912.40697370101,
           20431.144675560296,
           19128.002448055933,
           18002.980291187934,
           17056.078204956284,
           16287.296189360994,
           15696.634244402041,
           15284.092370079445,
           15049.670566393213,
           14993.36883334331,
           15115.18717092978,
           15415.125579152593,
           15893.184058011757
          ]
         ]
        }
       ],
       "layout": {
        "height": 420,
        "hovermode": "closest",
        "margin": {
         "b": 0,
         "l": 0,
         "r": 0,
         "t": 0
        },
        "plot_bgcolor": "rgba(0, 0, 0, 0)",
        "scene": {
         "aspectmode": "manual",
         "aspectratio": {
          "x": 1.3310000000000053,
          "y": 1.3310000000000053,
          "z": 1.3310000000000053
         },
         "camera": {
          "center": {
           "x": 0,
           "y": 0,
           "z": 0
          },
          "eye": {
           "x": 0.6447795501205399,
           "y": 1.9052759650745863,
           "z": 0.801051077432306
          },
          "projection": {
           "type": "orthographic"
          },
          "up": {
           "x": 0,
           "y": 0,
           "z": 1
          }
         },
         "domain": {
          "x": [
           0.13,
           0.905
          ],
          "y": [
           0.11,
           0.9249999999999999
          ]
         },
         "xaxis": {
          "autorange": false,
          "exponentformat": "none",
          "gridcolor": "",
          "gridwidth": 1.5,
          "linecolor": "rgb(38,38,38)",
          "linewidth": 1.5,
          "mirror": false,
          "range": [
           400,
           0
          ],
          "showgrid": true,
          "showline": true,
          "side": "bottom",
          "spikedash": "solid",
          "spikemode": "across",
          "spikesides": false,
          "spikethickness": 1,
          "tickangle": 0,
          "tickcolor": "rgb(38,38,38)",
          "tickfont": {
           "color": "rgb(38,38,38)",
           "size": 10
          },
          "ticklen": 3,
          "ticks": "outside",
          "ticktext": [
           "0",
           "100",
           "200",
           "300",
           "400"
          ],
          "tickvals": [
           0,
           100,
           200,
           300,
           400
          ],
          "title": {
           "font": {
            "color": "rgb(38,38,38)",
            "size": 11
           },
           "text": "theta<sub>1</sub>"
          },
          "type": "linear",
          "visible": true,
          "zeroline": false
         },
         "yaxis": {
          "autorange": false,
          "exponentformat": "none",
          "gridcolor": "",
          "gridwidth": 1.5,
          "linecolor": "rgb(38,38,38)",
          "linewidth": 1.5,
          "mirror": false,
          "range": [
           0.5,
           0
          ],
          "showgrid": true,
          "showline": true,
          "side": "left",
          "spikedash": "solid",
          "spikemode": "across",
          "spikesides": false,
          "spikethickness": 1,
          "tickangle": 0,
          "tickcolor": "rgb(38,38,38)",
          "tickfont": {
           "color": "rgb(38,38,38)",
           "size": 10
          },
          "ticklen": 3,
          "ticks": "outside",
          "ticktext": [
           "0",
           "0.1",
           "0.2",
           "0.3",
           "0.4",
           "0.5"
          ],
          "tickvals": [
           0,
           0.1,
           0.2,
           0.30000000000000004,
           0.4,
           0.5
          ],
          "title": {
           "font": {
            "color": "rgb(38,38,38)",
            "size": 11
           },
           "text": "theta<sub>2</sub>"
          },
          "type": "linear",
          "visible": true,
          "zeroline": false
         },
         "zaxis": {
          "autorange": false,
          "exponentformat": "none",
          "gridcolor": "",
          "gridwidth": 1.5,
          "linecolor": "rgb(38,38,38)",
          "linewidth": 1.5,
          "mirror": false,
          "range": [
           0,
           500000
          ],
          "showgrid": true,
          "showline": true,
          "side": "none",
          "spikedash": "solid",
          "spikemode": "across",
          "spikesides": false,
          "spikethickness": 1,
          "tickangle": 0,
          "tickcolor": "rgb(38,38,38)",
          "tickfont": {
           "color": "rgb(38,38,38)",
           "size": 10
          },
          "ticklen": 3,
          "ticks": "outside",
          "ticktext": [
           "0",
           "100000",
           "200000",
           "300000",
           "400000",
           "500000"
          ],
          "tickvals": [
           0,
           100000,
           200000,
           300000,
           400000,
           500000
          ],
          "title": {
           "font": {
            "color": "rgb(38,38,38)",
            "size": 11
           },
           "text": "Energie Phi"
          },
          "type": "linear",
          "visible": true,
          "zeroline": false
         }
        },
        "showlegend": false,
        "width": 560
       }
      },
      "image/png": "[encoded data removed]"
     },
     "metadata": {},
     "output_type": "display_data"
    }
   ],
   "source": [
    "# Graphische Darstellung\n",
    "graphics_toolkit(\"plotly\")\n",
    "#plot3(theta_optA(:,1), theta_optA(:,2), energies);\n",
    "mesh (tx, ty, tz);\n",
    "title(\"Energy landscape\")\n",
    "xlabel \"theta_1\"\n",
    "ylabel \"theta_2\"\n",
    "zlabel(\"Energie Phi\")\n"
   ]
  },
  {
   "cell_type": "markdown",
   "metadata": {},
   "source": [
    "### Darstellung in der Parameter-Ebene"
   ]
  },
  {
   "cell_type": "code",
   "execution_count": 23,
   "metadata": {},
   "outputs": [
    {
     "data": {
      "image/png": "[encoded data removed]"
     },
     "metadata": {
      "image/png": {
       "height": 420,
       "width": 560
      }
     },
     "output_type": "display_data"
    }
   ],
   "source": [
    "# Darstellung in der Parameter-Ebene\n",
    "graphics_toolkit(\"notebook\")\n",
    "hold on\n",
    "contourf (tx, ty, tz, 101)\n",
    "plot(theta_optA(:,1),theta_optA(:,2), \"x\", \"color\", \"#FF0000\")\n",
    "%h=legend(\"Messung\", \"Ausgangsmodell\", \"Fit\");\n",
    "%legend(h, \"location\", \"north\")\n",
    "\n",
    "%xlabel \"theta_1\"\n",
    "%ylabel \"theta_2\"\n",
    "graphics_toolkit(\"plotly\")"
   ]
  },
  {
   "cell_type": "markdown",
   "metadata": {},
   "source": [
    "### Konvergenzordnung\n",
    "Beobachtet wird eine lineare Konvergenz:"
   ]
  },
  {
   "cell_type": "code",
   "execution_count": 24,
   "metadata": {},
   "outputs": [
    {
     "data": {
      "text/plain": [
       "ans = 1.8452\n"
      ]
     },
     "metadata": {},
     "output_type": "display_data"
    },
    {
     "data": {
      "text/plain": [
       "ans = 43.102\n"
      ]
     },
     "metadata": {},
     "output_type": "display_data"
    },
    {
     "data": {
      "text/plain": [
       "ans = 43.055\n"
      ]
     },
     "metadata": {},
     "output_type": "display_data"
    },
    {
     "data": {
      "text/plain": [
       "ans = 7.3034\n"
      ]
     },
     "metadata": {},
     "output_type": "display_data"
    },
    {
     "data": {
      "text/plain": [
       "ans = 0.9333\n"
      ]
     },
     "metadata": {},
     "output_type": "display_data"
    },
    {
     "data": {
      "text/plain": [
       "ans = 0.1068\n"
      ]
     },
     "metadata": {},
     "output_type": "display_data"
    },
    {
     "data": {
      "text/plain": [
       "ans = 0.010749\n"
      ]
     },
     "metadata": {},
     "output_type": "display_data"
    },
    {
     "data": {
      "text/plain": [
       "ans = 1.0404e-03\n"
      ]
     },
     "metadata": {},
     "output_type": "display_data"
    }
   ],
   "source": [
    "norm(theta_optA(2,:) - theta_optA(1,:))\n",
    "norm(theta_optA(3,:) - theta_optA(2,:))\n",
    "norm(theta_optA(4,:) - theta_optA(3,:))\n",
    "# Bis hierher Liniensuche...\n",
    "norm(theta_optA(5,:) - theta_optA(4,:))\n",
    "norm(theta_optA(6,:) - theta_optA(5,:))\n",
    "norm(theta_optA(7,:) - theta_optA(6,:))\n",
    "norm(theta_optA(8,:) - theta_optA(7,:))\n",
    "norm(theta_optA(9,:) - theta_optA(8,:))"
   ]
  },
  {
   "cell_type": "markdown",
   "metadata": {},
   "source": [
    "## Gradientenverfahren"
   ]
  },
  {
   "cell_type": "code",
   "execution_count": 25,
   "metadata": {},
   "outputs": [],
   "source": [
    "function theta_opt = GradientMethod(f, x, y, theta0, nsteps)\n",
    "   \n",
    "    % Startwert\n",
    "    mytheta(1,:) = theta0;\n",
    "\n",
    "    % Parameter zur Liniensuche\n",
    "    lambda = [1 0.5 0.25 0.125 0.0625 0.0625/2, 0.0625/8, 0.0625/64, 0.0625/256, 0.0625/1024,  0.0625/4096, 0.0625/(4*4096),1e-8 , 1e-10 , 1e-12]\n",
    "     \n",
    "    % Iteration\n",
    "    for k=1:nsteps\n",
    "    \n",
    "        % Ausgabe\n",
    "        disp (\"==============================\")\n",
    "        disp (\"Iteration\")\n",
    "      \n",
    "        % Residuum\n",
    "        r = f(x, mytheta(end,:)) - y; \n",
    "\n",
    "        % Jacobi-Matrix bzgl. theta\n",
    "        J(:,1) = num_deriv(f, 1, x, mytheta(end,:));\n",
    "        J(:,2) = num_deriv(f, 2, x, mytheta(end,:));\n",
    "    \n",
    "        % Berechne neg. Gradienten als Abstiegsrichtung \n",
    "        grad = -(J'*r)'\n",
    "        mytheta(end,:);\n",
    "    \n",
    "        % Liniensuche (zur Optimierung des Abstiegs(. \n",
    "        j_opt = LineSearch(f,x,y, mytheta(end,:), grad, lambda) \n",
    "    \n",
    "        # Auswahl der naechsten Iterierten\n",
    "        disp (\"Optimal: \")\n",
    "        #obj_opt \n",
    "        mytheta(end+1,:) = mytheta(end,:) + lambda(j_opt)* grad;\n",
    "    end % for nsteps\n",
    "\n",
    "    theta_opt = mytheta;\n",
    "end"
   ]
  },
  {
   "cell_type": "code",
   "execution_count": 26,
   "metadata": {},
   "outputs": [
    {
     "data": {
      "text/html": [
       "<table><tr><th><i>lambda<i></th><th>1</th><th>2</th><th>3</th><th>4</th><th>5</th><th>6</th><th>7</th><th>8</th><th>9</th><th>10</th><th>11</th><th>12</th><th>13</th><th>14</th><th>15</th></tr><tr><th>1</th><td>1</td><td>0.5</td><td>0.25</td><td>0.125</td><td>0.0625</td><td>0.03125</td><td>0.0078125</td><td>0.000976562</td><td>0.000244141</td><td>6.10352e-05</td><td>1.52588e-05</td><td>3.8147e-06</td><td>1e-08</td><td>1e-10</td><td>1e-12</td></tr></table>"
      ],
      "text/plain": [
       "lambda =  Columns 1 through 6:\n",
       "\n",
       "   1.0000e+00   5.0000e-01   2.5000e-01   1.2500e-01   6.2500e-02   3.1250e-02\n",
       "\n",
       " Columns 7 through 12:\n",
       "\n",
       "   7.8125e-03   9.7656e-04   2.4414e-04   6.1035e-05   1.5259e-05   3.8147e-06\n",
       "\n",
       " Columns 13 through 15:\n",
       "\n",
       "   1.0000e-08   1.0000e-10   1.0000e-12\n"
      ]
     },
     "metadata": {},
     "output_type": "display_data"
    },
    {
     "name": "stdout",
     "output_type": "stream",
     "text": [
      "==============================\n",
      "Iteration\n"
     ]
    },
    {
     "data": {
      "text/html": [
       "<table><tr><th><i>grad<i></th><th>1</th><th>2</th></tr><tr><th>1</th><td>469.72</td><td>-65500.8</td></tr></table>"
      ],
      "text/plain": [
       "grad =    4.6972e+02  -6.5501e+04\n"
      ]
     },
     "metadata": {},
     "output_type": "display_data"
    },
    {
     "data": {
      "text/plain": [
       "j_opt = 12\n"
      ]
     },
     "metadata": {},
     "output_type": "display_data"
    },
    {
     "name": "stdout",
     "output_type": "stream",
     "text": [
      "Optimal: \n",
      "==============================\n",
      "Iteration\n"
     ]
    },
    {
     "data": {
      "text/html": [
       "<table><tr><th><i>grad<i></th><th>1</th><th>2</th></tr><tr><th>1</th><td>549.938</td><td>-137257</td></tr></table>"
      ],
      "text/plain": [
       "grad =    5.4994e+02  -1.3726e+05\n"
      ]
     },
     "metadata": {},
     "output_type": "display_data"
    },
    {
     "data": {
      "text/plain": [
       "j_opt = 13\n"
      ]
     },
     "metadata": {},
     "output_type": "display_data"
    },
    {
     "name": "stdout",
     "output_type": "stream",
     "text": [
      "Optimal: \n",
      "==============================\n",
      "Iteration\n"
     ]
    },
    {
     "data": {
      "text/html": [
       "<table><tr><th><i>grad<i></th><th>1</th><th>2</th></tr><tr><th>1</th><td>550.318</td><td>-138021</td></tr></table>"
      ],
      "text/plain": [
       "grad =    5.5032e+02  -1.3802e+05\n"
      ]
     },
     "metadata": {},
     "output_type": "display_data"
    },
    {
     "data": {
      "text/plain": [
       "j_opt = 13\n"
      ]
     },
     "metadata": {},
     "output_type": "display_data"
    },
    {
     "name": "stdout",
     "output_type": "stream",
     "text": [
      "Optimal: \n",
      "==============================\n",
      "Iteration\n"
     ]
    },
    {
     "data": {
      "text/html": [
       "<table><tr><th><i>grad<i></th><th>1</th><th>2</th></tr><tr><th>1</th><td>550.696</td><td>-138797</td></tr></table>"
      ],
      "text/plain": [
       "grad =    5.5070e+02  -1.3880e+05\n"
      ]
     },
     "metadata": {},
     "output_type": "display_data"
    },
    {
     "data": {
      "text/plain": [
       "j_opt = 13\n"
      ]
     },
     "metadata": {},
     "output_type": "display_data"
    },
    {
     "name": "stdout",
     "output_type": "stream",
     "text": [
      "Optimal: \n",
      "==============================\n",
      "Iteration\n"
     ]
    },
    {
     "data": {
      "text/html": [
       "<table><tr><th><i>grad<i></th><th>1</th><th>2</th></tr><tr><th>1</th><td>551.072</td><td>-139585</td></tr></table>"
      ],
      "text/plain": [
       "grad =    5.5107e+02  -1.3959e+05\n"
      ]
     },
     "metadata": {},
     "output_type": "display_data"
    },
    {
     "data": {
      "text/plain": [
       "j_opt = 13\n"
      ]
     },
     "metadata": {},
     "output_type": "display_data"
    },
    {
     "name": "stdout",
     "output_type": "stream",
     "text": [
      "Optimal: \n"
     ]
    },
    {
     "data": {
      "text/html": [
       "<table><tr><th><i>theta_optA<i></th><th>1</th><th>2</th></tr><tr><th>1</th><td>120</td><td>0.4</td></tr><tr><th>2</th><td>120.002</td><td>0.150134</td></tr><tr><th>3</th><td>120.002</td><td>0.148762</td></tr><tr><th>4</th><td>120.002</td><td>0.147381</td></tr><tr><th>5</th><td>120.002</td><td>0.145993</td></tr><tr><th>6</th><td>120.002</td><td>0.144598</td></tr></table>"
      ],
      "text/plain": [
       "theta_optA =    120.0000     0.4000\n",
       "   120.0018     0.1501\n",
       "   120.0018     0.1488\n",
       "   120.0018     0.1474\n",
       "   120.0018     0.1460\n",
       "   120.0018     0.1446\n"
      ]
     },
     "metadata": {},
     "output_type": "display_data"
    }
   ],
   "source": [
    "theta_optA = GradientMethod(@MichaelisMenten, xconc, vtreated, theta0,5)"
   ]
  },
  {
   "cell_type": "code",
   "execution_count": null,
   "metadata": {},
   "outputs": [],
   "source": []
  },
  {
   "cell_type": "code",
   "execution_count": null,
   "metadata": {},
   "outputs": [],
   "source": []
  },
  {
   "cell_type": "code",
   "execution_count": null,
   "metadata": {},
   "outputs": [],
   "source": []
  },
  {
   "cell_type": "code",
   "execution_count": null,
   "metadata": {},
   "outputs": [],
   "source": []
  },
  {
   "cell_type": "code",
   "execution_count": null,
   "metadata": {},
   "outputs": [],
   "source": []
  },
  {
   "cell_type": "code",
   "execution_count": null,
   "metadata": {},
   "outputs": [],
   "source": []
  },
  {
   "cell_type": "code",
   "execution_count": null,
   "metadata": {},
   "outputs": [],
   "source": []
  },
  {
   "cell_type": "code",
   "execution_count": 27,
   "metadata": {},
   "outputs": [
    {
     "data": {
      "application/vnd.plotly.v1+json": {
       "data": [
        {
         "line": {
          "color": "rgb(0,0,255)",
          "width": 0.5
         },
         "marker": {
          "color": "rgb(0,0,255)",
          "line": {
           "color": "rgb(0,0,255)"
          },
          "size": 6,
          "symbol": "asterisk-open"
         },
         "mode": "markers",
         "name": "Messung A",
         "showlegend": true,
         "type": "scatter",
         "visibility": true,
         "x": [
          0.02,
          0.02,
          0.06,
          0.06,
          0.11,
          0.11,
          0.22,
          0.22,
          0.56,
          0.56,
          1.1,
          1.1
         ],
         "xaxis": "x",
         "y": [
          76,
          47,
          97,
          107,
          123,
          139,
          159,
          152,
          191,
          201,
          207,
          200
         ],
         "yaxis": "y"
        },
        {
         "line": {
          "color": "rgb(255,136,0)",
          "dash": "solid",
          "width": 3
         },
         "marker": {
          "color": "rgb(255,136,0)",
          "line": {
           "color": "rgb(255,136,0)"
          },
          "size": 6,
          "symbol": "none"
         },
         "mode": "lines",
         "name": "Fit",
         "showlegend": true,
         "type": "scatter",
         "visibility": true,
         "x": [
          0,
          0.022000000000000002,
          0.044000000000000004,
          0.066,
          0.08800000000000001,
          0.11000000000000001,
          0.132,
          0.15400000000000003,
          0.17600000000000002,
          0.198,
          0.22000000000000003,
          0.24200000000000002,
          0.264,
          0.28600000000000003,
          0.30800000000000005,
          0.33,
          0.35200000000000004,
          0.37400000000000005,
          0.396,
          0.41800000000000004,
          0.44000000000000006,
          0.462,
          0.48400000000000004,
          0.506,
          0.528,
          0.55,
          0.5720000000000001,
          0.5940000000000001,
          0.616,
          0.638,
          0.66,
          0.682,
          0.7040000000000001,
          0.7260000000000001,
          0.748,
          0.77,
          0.792,
          0.8140000000000001,
          0.8360000000000001,
          0.8580000000000001,
          0.8800000000000001,
          0.902,
          0.924,
          0.9460000000000001,
          0.9680000000000001,
          0.9900000000000001,
          1.012,
          1.034,
          1.056,
          1.078,
          1.1
         ],
         "xaxis": "x",
         "y": [
          0,
          15.846813375637371,
          27.996548624315125,
          37.6078478293603,
          45.400997150698075,
          51.847320462384715,
          57.26818910093081,
          61.89026270853822,
          65.87798569837494,
          69.35356309991084,
          72.40970428830214,
          75.11801549017706,
          77.53468103765684,
          79.7044030296239,
          81.66319199137746,
          83.44038136700142,
          85.06010654190293,
          86.54240740583215,
          87.90406169839451,
          89.15922283004929,
          90.31991368544129,
          91.39641297156341,
          92.39756043617338,
          93.33100016032023,
          94.20337610372312,
          95.02049048907602,
          95.78743301135901,
          96.50868695523744,
          97.1882168960238,
          97.82954160819952,
          98.43579501277051,
          99.009777391892,
          99.55399863701923,
          100.07071493977318,
          100.56196005685106,
          101.02957206260436,
          101.47521633122416,
          101.90040535425292,
          102.30651589042505,
          102.69480385759368,
          103.06641730611447,
          103.42240775598754,
          103.76374013356313,
          104.09130150556246,
          104.40590877688304,
          104.70831549283511,
          104.99921786505337,
          105.2792601225215,
          105.54903927427706,
          105.80910935790193,
          106.05998523742505
         ],
         "yaxis": "y"
        },
        {
         "hoverinfo": "none",
         "line": {
          "color": "rgb(0,0,255)",
          "width": 0.5
         },
         "marker": {
          "color": "rgb(0,0,255)",
          "line": {
           "color": "rgb(0,0,255)"
          },
          "size": 6,
          "symbol": "none"
         },
         "mode": "none",
         "name": "",
         "showlegend": false,
         "type": "scatter",
         "visibility": true,
         "x": [
          3,
          18
         ],
         "xaxis": "x2",
         "y": [
          6.15,
          6.15
         ],
         "yaxis": "y2"
        },
        {
         "hoverinfo": "none",
         "line": {
          "color": "rgb(255,136,0)",
          "dash": "solid",
          "width": 3
         },
         "marker": {
          "color": "rgb(255,136,0)",
          "line": {
           "color": "rgb(255,136,0)"
          },
          "size": 6,
          "symbol": "none"
         },
         "mode": "lines",
         "name": "",
         "showlegend": false,
         "type": "scatter",
         "visibility": true,
         "x": [
          3,
          18
         ],
         "xaxis": "x2",
         "y": [
          15.450000000000001,
          15.450000000000001
         ],
         "yaxis": "y2"
        }
       ],
       "layout": {
        "annotations": [
         {
          "font": {
           "color": "rgb(0, 0, 0)",
           "size": 9
          },
          "showarrow": false,
          "text": "Messung A",
          "x": 21,
          "xanchor": "left",
          "xref": "x2",
          "y": 6.15,
          "yanchor": "middle",
          "yref": "y2"
         },
         {
          "font": {
           "color": "rgb(0, 0, 0)",
           "size": 9
          },
          "showarrow": false,
          "text": "Fit",
          "x": 21,
          "xanchor": "left",
          "xref": "x2",
          "y": 15.450000000000001,
          "yanchor": "middle",
          "yref": "y2"
         }
        ],
        "height": 420,
        "hovermode": "closest",
        "margin": {
         "b": 0,
         "l": 0,
         "r": 0,
         "t": 0
        },
        "plot_bgcolor": "rgba(0, 0, 0, 0)",
        "showlegend": false,
        "width": 560,
        "xaxis": {
         "anchor": "y",
         "autorange": false,
         "domain": [
          0.13,
          0.905
         ],
         "exponentformat": "none",
         "gridcolor": "rgba(38,38,38,0.15)",
         "gridwidth": 1,
         "linecolor": "rgb(38,38,38)",
         "linewidth": 1,
         "mirror": false,
         "range": [
          0,
          1.4000000000000001
         ],
         "showgrid": false,
         "showline": true,
         "side": "bottom",
         "spikedash": "solid",
         "spikemode": "across",
         "spikesides": false,
         "spikethickness": 1,
         "tickangle": 0,
         "tickcolor": "rgb(38,38,38)",
         "tickfont": {
          "color": "rgb(38,38,38)",
          "size": 10
         },
         "ticklen": 3,
         "ticks": "inside",
         "ticktext": [
          "0",
          "0.2",
          "0.4",
          "0.6",
          "0.8",
          "1",
          "1.2",
          "1.4"
         ],
         "tickvals": [
          0,
          0.2,
          0.4,
          0.6000000000000001,
          0.8,
          1,
          1.2000000000000002,
          1.4000000000000001
         ],
         "title": {
          "font": {
           "color": "rgb(38,38,38)",
           "size": 11
          },
          "text": "Concentration (ppm)"
         },
         "type": "linear",
         "visible": true,
         "zeroline": false
        },
        "xaxis2": {
         "anchor": "y2",
         "autorange": false,
         "domain": [
          0.8316700943197792,
          0.8903340188639559
         ],
         "exponentformat": "none",
         "fixedrange": true,
         "gridcolor": "rgba(38,38,38,0.15)",
         "gridwidth": 1,
         "linecolor": "rgb(38,38,38)",
         "linewidth": 1,
         "mirror": true,
         "range": [
          0,
          24
         ],
         "showgrid": false,
         "showline": true,
         "showspikes": false,
         "side": "bottom",
         "spikedash": "solid",
         "spikemode": "across",
         "spikesides": false,
         "spikethickness": 1,
         "tickangle": 0,
         "tickcolor": "rgb(38,38,38)",
         "tickfont": {
          "color": "rgb(38,38,38)",
          "size": 9
         },
         "ticklen": 3,
         "ticks": "",
         "ticktext": [],
         "tickvals": [],
         "title": {
          "font": {
           "color": "rgb(0, 0, 0)",
           "size": 9.9
          },
          "text": ""
         },
         "type": "linear",
         "visible": true,
         "zeroline": false
        },
        "yaxis": {
         "anchor": "x",
         "autorange": false,
         "domain": [
          0.11,
          0.9249999999999999
         ],
         "exponentformat": "none",
         "gridcolor": "rgba(38,38,38,0.15)",
         "gridwidth": 1,
         "linecolor": "rgb(38,38,38)",
         "linewidth": 1,
         "mirror": false,
         "range": [
          0,
          250
         ],
         "showgrid": false,
         "showline": true,
         "side": "left",
         "spikedash": "solid",
         "spikemode": "across",
         "spikesides": false,
         "spikethickness": 1,
         "tickangle": 0,
         "tickcolor": "rgb(38,38,38)",
         "tickfont": {
          "color": "rgb(38,38,38)",
          "size": 10
         },
         "ticklen": 3,
         "ticks": "inside",
         "ticktext": [
          "0",
          "50",
          "100",
          "150",
          "200",
          "250"
         ],
         "tickvals": [
          0,
          50,
          100,
          150,
          200,
          250
         ],
         "title": {
          "font": {
           "color": "rgb(38,38,38)",
           "size": 11
          },
          "text": "Reation rate (counts/min<sup>2</sup>)"
         },
         "type": "linear",
         "visible": true,
         "zeroline": false
        },
        "yaxis2": {
         "anchor": "x2",
         "autorange": false,
         "domain": [
          0.8350486490322622,
          0.9054453584852742
         ],
         "exponentformat": "none",
         "fixedrange": true,
         "gridcolor": "rgba(38,38,38,0.15)",
         "gridwidth": 1,
         "linecolor": "rgb(38,38,38)",
         "linewidth": 1,
         "mirror": true,
         "range": [
          21.6,
          0
         ],
         "showgrid": false,
         "showline": true,
         "showspikes": false,
         "side": "left",
         "spikedash": "solid",
         "spikemode": "across",
         "spikesides": false,
         "spikethickness": 1,
         "tickangle": 0,
         "tickcolor": "rgb(38,38,38)",
         "tickfont": {
          "color": "rgb(38,38,38)",
          "size": 9
         },
         "ticklen": 3,
         "ticks": "",
         "ticktext": [],
         "tickvals": [],
         "title": {
          "font": {
           "color": "rgb(0, 0, 0)",
           "size": 9.9
          },
          "text": ""
         },
         "type": "linear",
         "visible": true,
         "zeroline": false
        }
       }
      },
      "image/png": "[encoded data removed]"
     },
     "metadata": {},
     "output_type": "display_data"
    }
   ],
   "source": [
    "clf;\n",
    "hold on\n",
    "vapprox0 = MichaelisMenten(xlin, theta0);\n",
    "vapprox = MichaelisMenten(xlin, theta_optA(end,:));\n",
    "\n",
    "plot(xconc, vtreated, \"*\",  \"color\", myColorExp )\n",
    "plot(xlin, vapprox, \"-\",  \"linewidth\", 3,  \"color\", myColorFit)\n",
    "# plot(xlin, vapprox0, \"--\", \"linewidth\", 2,  \"color\", myColorFit)\n",
    "\n",
    "#h=legend(\"Messung A\", \"Fit\", \"Start\");\n",
    "h=legend(\"Messung A\", \"Fit\");\n",
    "legend(h, \"location\", \"northeast\")\n",
    "\n",
    "xlabel(\"Concentration (ppm)\")\n",
    "ylabel(\"Reation rate (counts/min^2)\")"
   ]
  },
  {
   "cell_type": "code",
   "execution_count": null,
   "metadata": {},
   "outputs": [],
   "source": []
  }
 ],
 "metadata": {
  "kernelspec": {
   "display_name": "Octave (xoctave)",
   "language": "Octave",
   "name": "xoctave"
  },
  "language_info": {
   "codemirror_mode": "octave",
   "file_extension": ".m",
   "mimetype": "text/x-octave",
   "name": "Octave",
   "nbconvert_exporter": "",
   "pygments_lexer": "octave",
   "version": "8.4.0"
  }
 },
 "nbformat": 4,
 "nbformat_minor": 4
}
