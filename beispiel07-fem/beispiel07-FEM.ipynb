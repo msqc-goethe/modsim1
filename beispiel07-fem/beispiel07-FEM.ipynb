{
 "cells": [
  {
   "cell_type": "markdown",
   "metadata": {},
   "source": [
    "# Beispiel: Finite Elemente \n",
    "\n",
    "## a) Erstellen eines strukturierten Gitters"
   ]
  },
  {
   "cell_type": "markdown",
   "metadata": {},
   "source": [
    "Die folgende Funktion erzeugt für das Einheitsquadrat $(0,1)^2 \\subset \\mathbb R^2$ ein strukturiertes Dreiecksgitter mit Gitterweite  $h=\\frac{1}{n-1}$ . Das Gitter besteht aus $M=n^2$ Knoten und $N=2(n-1)^2$ Dreiecken. Zurückgeliefert werden:\n",
    " * ein Array `vtrs`  von Koordinaten der Form $\\mathbb R^{M \\times 2}$, wobei `vtrs(j,1)` und `vtrs(j,2)` die $x-$ bzw. $y-$Koordinate des j-ten Vertex sind.\n",
    " \n",
    " * ein Array `tris` von Dreiecksindizes der Form $\\mathbb N^{N \\times 3}$, wobei `vrts(tris(i,1))`, `vrts(tris(i,2))` und `vrts(tris(i,3))` die Koordinaten der Eckknoten des i-ten Dreiecks sind.\n",
    " \n",
    "* ein Array `vrtMarks` von Markierungen der Form $\\mathbb N^M$, wobei `vrtMarks(i) == 0`, falls das i-te Vertex ein innerer Knoten ist und `vrtMarks(i) == 1`, falls das i-te Vertex ein Randknoten ist."
   ]
  },
  {
   "cell_type": "code",
   "execution_count": 1,
   "metadata": {},
   "outputs": [],
   "source": [
    "function [vrts, tris, vrtMarks] = CreateStructureGrid(n)\n",
    "    # Create triangles\n",
    "    tris = [];\n",
    "    for j=1:n-1\n",
    "        for i=1:n-1\n",
    "            tris = [tris; [(j-1)*n+i (j-1)*n+(i+1)  j*n+(i+1)]];\n",
    "            tris = [tris;[(j-1)*n+i j*n+(i+1) j*n+i]];\n",
    "        endfor \n",
    "    endfor\n",
    "    \n",
    "    # Dirichlet marks\n",
    "    dirichlet = zeros(n*n,1);\n",
    "    \n",
    "    # Create positions\n",
    "    h = 1.0/(n-1)\n",
    "    vrts=[];\n",
    "    ind = 1\n",
    "    for j=0:n-1\n",
    "        for i=0:n-1\n",
    "           vrts = [vrts; [i*h j*h]];\n",
    "           if ((i==0) || (j==0) || (i+1==n) || (j+1==n))  \n",
    "           vrtMarks(ind)=1;\n",
    "           end\n",
    "           ind = ind+1;\n",
    "        endfor \n",
    "    endfor\n",
    "endfunction\n"
   ]
  },
  {
   "cell_type": "markdown",
   "metadata": {},
   "source": [
    "Dies können wir nun auch visualisieren:"
   ]
  },
  {
   "cell_type": "code",
   "execution_count": 2,
   "metadata": {},
   "outputs": [
    {
     "name": "stdout",
     "output_type": "stream",
     "text": [
      "h =  0.12500\r\n",
      "ind =  1\r\n"
     ]
    },
    {
     "data": {
      "image/png": "[encoded data removed]",
      "text/plain": [
       "<IPython.core.display.Image object>"
      ]
     },
     "metadata": {},
     "output_type": "display_data"
    }
   ],
   "source": [
    "\n",
    "[vertices, elements, marks] = CreateStructureGrid(9); # 9,17,33,65\n",
    "vertices;\n",
    "elements;\n",
    "\n",
    "triplot (elements, vertices(:,1), vertices(:,2));\n",
    "hold on;\n",
    "\n",
    "dirichletInd=find(marks==1);\n",
    "plot (vertices(dirichletInd,1), vertices(dirichletInd,2), \"r*\");\n"
   ]
  },
  {
   "cell_type": "markdown",
   "metadata": {},
   "source": [
    "## b) Schwache Formulierung und Diskretisierung\n",
    "\n",
    "Die diskrete schwache Formulierung zu \n",
    "\n",
    "$$- \\triangle u = f  \\text{ in }\\Omega$$\n",
    "\n",
    "lautet:\n",
    "\n",
    "Suche $u_h \\in V_h$:\n",
    "\n",
    "$$ \\int\\limits_\\Omega \\nabla u_h \\nabla \\Phi_\\alpha \\, dx = \\int\\limits_\\Omega f \\Phi_\\alpha \\, dx\n",
    "$$\n",
    "für alle $\\alpha$, wobei $u_h (x) =\\sum_\\beta u_h^\\beta \\Phi_\\beta(x)$ zusätzlich ggf. die Randbedingungen erfüllen muss.\n",
    "\n",
    "\n",
    "Der Koeffizientenvektor $(u_h^\\beta)$ ergibt sich somit als Lösung eines linearen Gleichungssystems:\n",
    "\n",
    "$$ A_{\\alpha, \\beta} u_h^\\beta = b_\\alpha$$\n",
    "wobei \n",
    "$$\n",
    "A_{\\alpha, \\beta} = \\int\\limits_\\Omega \\nabla \\Phi_\\beta(x) \\nabla \\Phi_\\alpha (x)\\, dx = \\sum_i \\int_{T_i} \\nabla \\Phi_\\beta (x)\\nabla \\Phi_\\alpha(x) \\, dx \n",
    "$$\n",
    "$$\n",
    "b_{\\alpha}=\\int_{\\Omega} f(x) \\Phi_{\\alpha} (x) dx  = \\sum_i \\int_{T_i} f(x) \\Phi_{\\alpha} (x) dx\n",
    "$$\n",
    "\n"
   ]
  },
  {
   "cell_type": "markdown",
   "metadata": {},
   "source": [
    "### Konkrete Berechnung\n",
    "Die Integrale auf der rechten Seite können durch Transformation auf das Referenzdreieck \n",
    "$$T_{ref}=((0,0), (1,0), (0,1)) $$\n",
    "bestimmt werden. Für ein beliebiges Dreieck $ T= (x_\\alpha, x_\\beta, x_\\gamma)$ ist diese als\n",
    "$$F_T : T_{ref} \\rightarrow T, \\hat x \\mapsto x = B \\hat x + x_\\alpha $$\n",
    "darstellbar. Insbesondere entspricht $B=B(T)$ der Jacobimatrix $DF_T$. Sei $C = (B^T)^{-1}$. Dann gelten die Transformationsvorschriften:\n",
    "\n",
    "$$ \\int_{T} \\nabla \\Phi_{\\beta} \\nabla \\Phi_{\\alpha} (x) dx  =  \\int_{\\hat T} (C\\nabla \\Phi_{\\alpha} (F_T((\\hat x)) ) (C \\nabla \\Phi_{\\alpha} (F_T((\\hat x)) )|det B|\\, d\\hat x$$\n",
    "\n",
    "$$ \\int_{T} f(x) \\Phi_{\\alpha} (x) dx  = \\int_{\\hat T} f(F_T((\\hat x)) \\Phi_{\\alpha} (F_T((\\hat x)) |det DF_T| d\\hat x \\approx 0.5 \\sum_j w_j f(F_T((\\hat x_j)) \\Phi_{\\alpha} (F_T((\\hat x_j)) |det B| $$\n",
    "Integrale über das Referenzelement $T_{ref}$ können wir dabei mit numerischer Quadratur berechnen:\n",
    "\n",
    "$$\n",
    "\\int g(\\hat x) \\, d\\hat x  \\approx 0.5 \\sum_j w_j g(\\hat x_j)$$\n",
    "Dabei sind $\\hat x_j$ Integrationspunkte und $w_j$ Integrationsgewichte.\n"
   ]
  },
  {
   "cell_type": "code",
   "execution_count": 3,
   "metadata": {},
   "outputs": [
    {
     "name": "stdout",
     "output_type": "stream",
     "text": [
      "parse error:\r\n",
      "\r\n",
      "  invalid parameter list\r\n",
      "\r\n",
      ">>> endfunction\r\n",
      "              ^\r\n",
      "\r\n"
     ]
    }
   ],
   "source": [
    "function A = AssembleMatrix(tri, positions\n",
    "...\n",
    "endfunction"
   ]
  },
  {
   "cell_type": "code",
   "execution_count": 4,
   "metadata": {},
   "outputs": [],
   "source": [
    "function b = AssembleRHS(tri, positions, func)\n",
    "\n",
    "NumVtx = size(positions)(1)\n",
    "numT = size(tri)\n",
    "b = zeros(NumVtx, 1);\n",
    "\n",
    "Xloc = [0.659027622374092  0.231933368553031;\n",
    "        0.659027622374092  0.109039009072877;\n",
    "        0.231933368553031  0.659027622374092;\n",
    "        0.231933368553031  0.109039009072877;\n",
    "        0.109039009072877  0.659027622374092;\n",
    "        0.109039009072877  0.231933368553031]';\n",
    "        \n",
    "w = [1/6 1/6 1/6 1/6 1/6 1/6 ]';\n",
    "\n",
    "# Iterate over elements\n",
    "for i=1:numT\n",
    "\n",
    "    # Get nodes and positions.\n",
    "    indT = tri(i,:);\n",
    "    posT = positions(indT,:);\n",
    "    \n",
    "\n",
    "    # Compute transformation\n",
    "    DF = [posT(2,1)- posT(1,1) posT(3,1)- posT(1,1); posT(2,2)- posT(1,2) posT(3,2)- posT(1,2)];\n",
    "    detT = abs(det(DF));\n",
    "    areaRef = 0.5;\n",
    "     \n",
    "    # Basisfunktionen\n",
    "    phi1 = ones (1,6) - (Xloc(1,:)+Xloc(2,:));\n",
    "    phi2 = Xloc(1,:);\n",
    "    phi3 = Xloc(2,:);\n",
    "    \n",
    "    posT;\n",
    "    xglob = DF * Xloc +  posT(1,:)';\n",
    "    \n",
    "    # Debug Ausgabe (Quadraturpunkte)\n",
    "    # plot (xglob(1,:), xglob(2,:), \"g*\");\n",
    "    \n",
    "    f = func(xglob(1,:), xglob(2,:));\n",
    "    \n",
    "    fv1 = (f.*phi1)*w;\n",
    "    fv2 = (f.*phi2)*w;\n",
    "    fv3 = (f.*phi3)*w;\n",
    "    \n",
    "    # Local RHS\n",
    "    b(indT(1)) += areaRef* fv1 *detT;\n",
    "    b(indT(2)) += areaRef* fv2 *detT;  \n",
    "    b(indT(3)) += areaRef* fv3 *detT;\n",
    "    \n",
    "  \n",
    "end\n",
    "\n",
    "endfunction\n"
   ]
  },
  {
   "cell_type": "markdown",
   "metadata": {},
   "source": [
    "### Numerische Experimente\n",
    "Das Verfahren soll nun mit der rechten Seite $f(x,y) = 2 \\pi^2 \\sin(\\pi x) \\sin(\\pi y)$ getestet werden, für welche sich die Lösung  \n",
    "$$u(x,y) = \\sin(\\pi x) \\sin(\\pi y)$$ \n",
    "ergibt. \n"
   ]
  },
  {
   "cell_type": "code",
   "execution_count": 5,
   "metadata": {},
   "outputs": [],
   "source": [
    "function val=fsol(x,y)\n",
    " val=2*pi*pi*sin(pi*x).*sin(pi*y);\n",
    "endfunction"
   ]
  },
  {
   "cell_type": "markdown",
   "metadata": {},
   "source": [
    "Zunächst werden die Matrix und die rechte Seite assembliert:"
   ]
  },
  {
   "cell_type": "code",
   "execution_count": 6,
   "metadata": {},
   "outputs": [
    {
     "name": "stdout",
     "output_type": "stream",
     "text": [
      "NumVtx =  81\n",
      "numT =\n",
      "\n",
      "   128     3\n",
      "\n",
      "NumVtx =  81\n",
      "numT =\n",
      "\n",
      "   128     3\n",
      "\n"
     ]
    }
   ],
   "source": [
    "Ah = AssembleMatrix(elements, vertices);\n",
    "\n",
    "uh = zeros(size(Ah)(1),1);\n",
    "bh = zeros(size(Ah)(1),1);\n",
    "\n",
    "# Debug Ausgabe (Quadraturpunkte)\n",
    "# triplot (elements, vertices(:,1), vertices(:,2));\n",
    "# hold on\n",
    "\n",
    "bh = AssembleRHS(elements, vertices, @fsol);"
   ]
  },
  {
   "cell_type": "markdown",
   "metadata": {},
   "source": [
    "In den Randknoten muss die Lösung noch fixiert werden:"
   ]
  },
  {
   "cell_type": "code",
   "execution_count": 7,
   "metadata": {},
   "outputs": [],
   "source": [
    "[Ah, bh] = SetDirichletValues(Ah,bh, find(marks==1), vertices, @fsol);"
   ]
  },
  {
   "cell_type": "markdown",
   "metadata": {},
   "source": [
    "Nun kann das Gleichungssystem gelöst werden:"
   ]
  },
  {
   "cell_type": "code",
   "execution_count": 8,
   "metadata": {},
   "outputs": [],
   "source": [
    "uh = linsolve(Ah,bh);"
   ]
  },
  {
   "cell_type": "markdown",
   "metadata": {},
   "source": [
    "Es verbleibt die grafische Darstellung:"
   ]
  },
  {
   "cell_type": "code",
   "execution_count": 9,
   "metadata": {},
   "outputs": [
    {
     "data": {
      "image/png": "[encoded data removed]",
      "text/plain": [
       "<IPython.core.display.Image object>"
      ]
     },
     "metadata": {},
     "output_type": "display_data"
    }
   ],
   "source": [
    "trimesh(elements,vertices(:,1),vertices(:,2), uh(:));"
   ]
  },
  {
   "cell_type": "markdown",
   "metadata": {},
   "source": [
    "sowie die Berechnung des numerischen Fehlers"
   ]
  },
  {
   "cell_type": "code",
   "execution_count": 12,
   "metadata": {},
   "outputs": [
    {
     "name": "stdout",
     "output_type": "stream",
     "text": [
      "ans =  0.012711\r\n"
     ]
    },
    {
     "data": {
      "image/png": "[encoded data removed]",
      "text/plain": [
       "<IPython.core.display.Image object>"
      ]
     },
     "metadata": {},
     "output_type": "display_data"
    }
   ],
   "source": [
    "uref = zeros(size(uh)(1),1);\n",
    "for i = 1:size(vertices(:,1))\n",
    "    uref(i) = fsol(vertices(i,1),vertices(i,2))/(2*pi*pi);\n",
    "end\n",
    "#uref'\n",
    "norm(uref(:)-uh(:),Inf)\n",
    "trimesh(elements,vertices(:,1),vertices(:,2), uh(:)-uref(:));"
   ]
  }
 ],
 "metadata": {
  "kernelspec": {
   "display_name": "Octave",
   "language": "octave",
   "name": "octave"
  },
  "language_info": {
   "file_extension": ".m",
   "help_links": [
    {
     "text": "GNU Octave",
     "url": "https://www.gnu.org/software/octave/support.html"
    },
    {
     "text": "Octave Kernel",
     "url": "https://github.com/Calysto/octave_kernel"
    },
    {
     "text": "MetaKernel Magics",
     "url": "https://metakernel.readthedocs.io/en/latest/source/README.html"
    }
   ],
   "mimetype": "text/x-octave",
   "name": "octave",
   "version": "5.1.0"
  }
 },
 "nbformat": 4,
 "nbformat_minor": 2
}
